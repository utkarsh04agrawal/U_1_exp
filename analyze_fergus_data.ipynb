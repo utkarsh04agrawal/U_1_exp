{
 "cells": [
  {
   "cell_type": "code",
   "execution_count": 6,
   "metadata": {},
   "outputs": [],
   "source": [
    "import numpy as np\n",
    "import time\n",
    "import os\n",
    "%matplotlib qt\n",
    "import matplotlib.pyplot as pl\n",
    "import shutil"
   ]
  },
  {
   "cell_type": "code",
   "execution_count": 3,
   "metadata": {},
   "outputs": [],
   "source": [
    "from sep_decoder import transfer,ht,lp,load_measurement_data,load_transfer_matrices,initial_state"
   ]
  },
  {
   "cell_type": "code",
   "execution_count": 25,
   "metadata": {},
   "outputs": [],
   "source": [
    "def sep_dynamics(data,Q):\n",
    "    (depth,L) = data.shape  \n",
    "    Q2 = Q+1\n",
    "    if Q>L//2:\n",
    "        Q2 = Q-1\n",
    "    hash_table,_ = ht.get_hash_table(L,Q)\n",
    "    hash_table2,_= ht.get_hash_table(L,Q2)\n",
    "    pairings = lp.local_pairings(L,Q,hash_table)\n",
    "    pairings2 = lp.local_pairings(L,Q2,hash_table2)\n",
    "    dim = len(hash_table)\n",
    "    dim2 = len(hash_table2)\n",
    "    \n",
    "    total = 0\n",
    "\n",
    "    transfer_matrices = load_transfer_matrices(pairings,dim,L,Q)\n",
    "    transfer_matrices2 = load_transfer_matrices(pairings2,dim2,L,Q2)\n",
    "    \n",
    "    initial_state_Q = np.eye(dim)/dim**0.5\n",
    "    initial_state_Q2 = np.eye(dim2)/dim2**0.5\n",
    "\n",
    "    N=1\n",
    "    traj = data\n",
    "    state_Q_is_zero = False\n",
    "    state_Q2_is_zero = False\n",
    "    state_Q = initial_state_Q.copy()\n",
    "    state_Q2 = initial_state_Q2.copy()\n",
    "\n",
    "    log_Z = []\n",
    "    log_Z2 = []\n",
    "    total += N\n",
    "    for t in range(depth)[:]:\n",
    "        \n",
    "        if t%2 == 0: #even layer\n",
    "            for x in range(0,L-1,2):\n",
    "                outcomes = (traj[t,x],traj[t,x+1])\n",
    "            \n",
    "                state_Q, state_Q_is_zero = transfer(x,dim,pairings,transfer_matrices, outcomes,state_Q,log_Z,state_Q_is_zero,L,Q,debug=False)\n",
    "\n",
    "                state_Q2, state_Q2_is_zero = transfer(x,dim2,pairings2,transfer_matrices2 ,outcomes,state_Q2,log_Z2,state_Q2_is_zero,L,Q2)\n",
    "                \n",
    "                if state_Q_is_zero and state_Q2_is_zero:\n",
    "                    print('hurray2',np.sum(state_Q2),np.sum(state_Q))\n",
    "        else:\n",
    "            for x in range(1,L-1,2):\n",
    "                outcomes = (traj[t,x],traj[t,x+1])\n",
    "                debug=False\n",
    "\n",
    "                state_Q, state_Q_is_zero = transfer(x,dim,pairings,transfer_matrices, outcomes,state_Q,log_Z,state_Q_is_zero,L,Q,debug=False)\n",
    "\n",
    "                state_Q2, state_Q2_is_zero = transfer(x,dim2,pairings2,transfer_matrices2 ,outcomes,state_Q2,log_Z2,state_Q2_is_zero,L,Q2)\n",
    "\n",
    "                if state_Q_is_zero and state_Q2_is_zero:\n",
    "                    print('hurray2',np.sum(state_Q2),np.sum(state_Q))\n",
    "                \n",
    "\n",
    "        # print(t,time.time()-start,total)\n",
    "        if state_Q_is_zero:              \n",
    "            break\n",
    "    \n",
    "        if state_Q2_is_zero:\n",
    "            break\n",
    "        \n",
    "    if state_Q_is_zero:\n",
    "        p_Q = 0\n",
    "    elif state_Q2_is_zero:\n",
    "        p_Q = 1\n",
    "    else:\n",
    "        ratio_p = np.exp(np.sum(log_Z) - np.sum(log_Z2))\n",
    "        p_Q = 1/(1+1/ratio_p)\n",
    "        p_Q2 = 1/(1+ratio_p)\n",
    "    \n",
    "    return p_Q"
   ]
  },
  {
   "cell_type": "code",
   "execution_count": 3,
   "metadata": {},
   "outputs": [
    {
     "name": "stdout",
     "output_type": "stream",
     "text": [
      "[0.05, 0.0625, 0.075, 0.0875, 0.1, 0.1125, 0.125, 0.1375, 0.15, 0.1625, 0.175, 0.1875, 0.2, 0.2125, 0.225, 0.25, 0.275, 0.3, 0.325, 0.35, 0.4, 0.45, 0.5] 23 [0.025, 0.0375, 0.05, 0.0625, 0.075, 0.0875, 0.1, 0.1125, 0.125, 0.1375, 0.15, 0.1625, 0.175, 0.1875, 0.2, 0.2125, 0.225, 0.25, 0.275, 0.3, 0.325, 0.35, 0.4, 0.45, 0.5]\n"
     ]
    }
   ],
   "source": [
    "def get_p_L(filename):\n",
    "    temp = filename.split(',')\n",
    "    p = float(temp[-1][:-4])\n",
    "    L = int(temp[1])\n",
    "    return p,L\n",
    "\n",
    "filedir = 'U_1_data_Fergus/'\n",
    "p_set = set()\n",
    "for file in os.listdir(filedir)[:]:\n",
    "    temp = file.split(',')\n",
    "    p,L = get_p_L(file)\n",
    "    p_set.add(p)\n",
    "p_list = list(sorted(p_set))[2::]\n",
    "print(p_list,len(p_list),sorted(p_set))"
   ]
  },
  {
   "cell_type": "code",
   "execution_count": 8,
   "metadata": {},
   "outputs": [
    {
     "ename": "",
     "evalue": "",
     "output_type": "error",
     "traceback": [
      "\u001b[1;31mThe Kernel crashed while executing code in the the current cell or a previous cell. Please review the code in the cell(s) to identify a possible cause of the failure. Click <a href='https://aka.ms/vscodeJupyterKernelCrash'>here</a> for more info. View Jupyter <a href='command:jupyter.viewOutput'>log</a> for further details."
     ]
    }
   ],
   "source": [
    "L_list = [6,8,10,12]\n",
    "for L in L_list:\n",
    "    for p in p_list:\n",
    "        for file in os.listdir(filedir)[:]:\n",
    "            if file[0]=='u':\n",
    "                continue\n",
    "            p_data,L_data = get_p_L(file)\n",
    "            if p_data != p or L_data != L:\n",
    "                continue\n",
    "            shutil.copy(filedir+file,filedir+'useful/'+file)"
   ]
  },
  {
   "cell_type": "code",
   "execution_count": null,
   "metadata": {},
   "outputs": [],
   "source": [
    "def get_sep_data(N_samples,L,p):\n",
    "    p_suc = {}\n",
    "    for file in os.listdir(filedir)[:]:\n",
    "        p_data,L_data = get_p_L(file)\n",
    "        if p_data != p or L_data != L:\n",
    "            continue\n",
    "        data_raw = np.load(filedir+file)[:N_samples]\n",
    "        for i in [0,1]:\n",
    "            Q = int(np.sum(0.5*(data_raw[0,i,:,-1]+1)))\n",
    "            p_suc[Q] = []\n",
    "            for j in range(N_samples):\n",
    "                p_suc[Q].append(sep_dynamics(data_raw[j,i,:,:-1].T,Q))\n",
    "    return p_suc\n",
    "\n"
   ]
  },
  {
   "cell_type": "code",
   "execution_count": 54,
   "metadata": {},
   "outputs": [
    {
     "name": "stdout",
     "output_type": "stream",
     "text": [
      "3\n",
      "20\n",
      "15\n",
      "4\n",
      "6 0.0625 0.1512000560760498\n",
      "3\n",
      "4\n",
      "6 0.0875 0.14135503768920898\n",
      "3\n",
      "4\n",
      "6 0.1125 0.14199018478393555\n",
      "3\n",
      "4\n",
      "6 0.1375 0.14308691024780273\n",
      "3\n",
      "4\n",
      "6 0.1625 0.14416885375976562\n",
      "3\n",
      "4\n",
      "6 0.1875 0.1427769660949707\n",
      "3\n",
      "4\n",
      "6 0.2125 0.13942289352416992\n",
      "3\n",
      "4\n",
      "6 0.25 0.14501309394836426\n",
      "3\n",
      "4\n",
      "6 0.3 0.13991093635559082\n",
      "3\n",
      "4\n",
      "6 0.35 0.12298703193664551\n",
      "4\n",
      "5\n",
      "8 0.0625 0.34276771545410156\n",
      "4\n",
      "5\n",
      "8 0.0875 0.35469889640808105\n",
      "4\n",
      "5\n",
      "8 0.1125 0.3392510414123535\n",
      "4\n",
      "5\n",
      "8 0.1375 0.3395230770111084\n",
      "4\n",
      "5\n",
      "8 0.1625 0.3418402671813965\n",
      "4\n",
      "5\n",
      "8 0.1875 0.34406399726867676\n",
      "4\n",
      "5\n",
      "8 0.2125 0.3330357074737549\n",
      "4\n",
      "5\n",
      "8 0.25 0.31836390495300293\n",
      "4\n",
      "5\n",
      "8 0.3 0.29848599433898926\n",
      "4\n",
      "5\n",
      "8 0.35 0.259382963180542\n",
      "5\n",
      "252\n",
      "210\n",
      "6\n",
      "10 0.0625 2.3016130924224854\n",
      "5\n",
      "6\n",
      "10 0.0875 2.345615863800049\n",
      "5\n",
      "6\n",
      "10 0.1125 2.3722290992736816\n",
      "5\n",
      "6\n",
      "10 0.1375 2.435070037841797\n",
      "5\n",
      "6\n",
      "10 0.1625 2.3206522464752197\n",
      "5\n",
      "6\n",
      "10 0.1875 2.266040086746216\n",
      "5\n",
      "6\n",
      "10 0.2125 2.2814419269561768\n",
      "5\n",
      "6\n",
      "10 0.25 2.20442795753479\n",
      "5\n",
      "6\n",
      "10 0.3 1.882983922958374\n",
      "5\n",
      "6\n",
      "10 0.35 1.6252689361572266\n",
      "6\n",
      "924\n",
      "792\n",
      "7\n",
      "12 0.0625 78.08853602409363\n",
      "6\n",
      "7\n"
     ]
    },
    {
     "ename": "KeyboardInterrupt",
     "evalue": "",
     "output_type": "error",
     "traceback": [
      "\u001b[0;31m---------------------------------------------------------------------------\u001b[0m",
      "\u001b[0;31mKeyboardInterrupt\u001b[0m                         Traceback (most recent call last)",
      "\u001b[1;32m/Users/utkarshagrawal/Documents/Postdoc/U_1_exp/analyze_fergus_data.ipynb Cell 6\u001b[0m in \u001b[0;36m<cell line: 3>\u001b[0;34m()\u001b[0m\n\u001b[1;32m      <a href='vscode-notebook-cell:/Users/utkarshagrawal/Documents/Postdoc/U_1_exp/analyze_fergus_data.ipynb#W3sZmlsZQ%3D%3D?line=4'>5</a>\u001b[0m \u001b[39mfor\u001b[39;00m p \u001b[39min\u001b[39;00m p_list[:\u001b[39m-\u001b[39m\u001b[39m1\u001b[39m]:\n\u001b[1;32m      <a href='vscode-notebook-cell:/Users/utkarshagrawal/Documents/Postdoc/U_1_exp/analyze_fergus_data.ipynb#W3sZmlsZQ%3D%3D?line=5'>6</a>\u001b[0m     start \u001b[39m=\u001b[39m time\u001b[39m.\u001b[39mtime()\n\u001b[0;32m----> <a href='vscode-notebook-cell:/Users/utkarshagrawal/Documents/Postdoc/U_1_exp/analyze_fergus_data.ipynb#W3sZmlsZQ%3D%3D?line=6'>7</a>\u001b[0m     p_suc_dic[L][p]\u001b[39m=\u001b[39mget_sep_data(\u001b[39m100\u001b[39;49m,L,p)\n\u001b[1;32m      <a href='vscode-notebook-cell:/Users/utkarshagrawal/Documents/Postdoc/U_1_exp/analyze_fergus_data.ipynb#W3sZmlsZQ%3D%3D?line=7'>8</a>\u001b[0m     \u001b[39mprint\u001b[39m(L,p,time\u001b[39m.\u001b[39mtime()\u001b[39m-\u001b[39mstart)\n",
      "\u001b[1;32m/Users/utkarshagrawal/Documents/Postdoc/U_1_exp/analyze_fergus_data.ipynb Cell 6\u001b[0m in \u001b[0;36mget_sep_data\u001b[0;34m(N_samples, L, p)\u001b[0m\n\u001b[1;32m     <a href='vscode-notebook-cell:/Users/utkarshagrawal/Documents/Postdoc/U_1_exp/analyze_fergus_data.ipynb#W3sZmlsZQ%3D%3D?line=10'>11</a>\u001b[0m         p_suc[Q] \u001b[39m=\u001b[39m []\n\u001b[1;32m     <a href='vscode-notebook-cell:/Users/utkarshagrawal/Documents/Postdoc/U_1_exp/analyze_fergus_data.ipynb#W3sZmlsZQ%3D%3D?line=11'>12</a>\u001b[0m         \u001b[39mfor\u001b[39;00m j \u001b[39min\u001b[39;00m \u001b[39mrange\u001b[39m(N_samples):\n\u001b[0;32m---> <a href='vscode-notebook-cell:/Users/utkarshagrawal/Documents/Postdoc/U_1_exp/analyze_fergus_data.ipynb#W3sZmlsZQ%3D%3D?line=12'>13</a>\u001b[0m             p_suc[Q]\u001b[39m.\u001b[39mappend(sep_dynamics(data_raw[j,i,:,:\u001b[39m-\u001b[39;49m\u001b[39m1\u001b[39;49m]\u001b[39m.\u001b[39;49mT,Q))\n\u001b[1;32m     <a href='vscode-notebook-cell:/Users/utkarshagrawal/Documents/Postdoc/U_1_exp/analyze_fergus_data.ipynb#W3sZmlsZQ%3D%3D?line=13'>14</a>\u001b[0m \u001b[39mreturn\u001b[39;00m p_suc\n",
      "\u001b[1;32m/Users/utkarshagrawal/Documents/Postdoc/U_1_exp/analyze_fergus_data.ipynb Cell 6\u001b[0m in \u001b[0;36msep_dynamics\u001b[0;34m(data, Q)\u001b[0m\n\u001b[1;32m     <a href='vscode-notebook-cell:/Users/utkarshagrawal/Documents/Postdoc/U_1_exp/analyze_fergus_data.ipynb#W3sZmlsZQ%3D%3D?line=44'>45</a>\u001b[0m outcomes \u001b[39m=\u001b[39m (traj[t,x],traj[t,x\u001b[39m+\u001b[39m\u001b[39m1\u001b[39m])\n\u001b[1;32m     <a href='vscode-notebook-cell:/Users/utkarshagrawal/Documents/Postdoc/U_1_exp/analyze_fergus_data.ipynb#W3sZmlsZQ%3D%3D?line=45'>46</a>\u001b[0m debug\u001b[39m=\u001b[39m\u001b[39mFalse\u001b[39;00m\n\u001b[0;32m---> <a href='vscode-notebook-cell:/Users/utkarshagrawal/Documents/Postdoc/U_1_exp/analyze_fergus_data.ipynb#W3sZmlsZQ%3D%3D?line=47'>48</a>\u001b[0m state_Q, state_Q_is_zero \u001b[39m=\u001b[39m transfer(x,dim,pairings,transfer_matrices, outcomes,state_Q,log_Z,state_Q_is_zero,L,Q,debug\u001b[39m=\u001b[39;49m\u001b[39mFalse\u001b[39;49;00m)\n\u001b[1;32m     <a href='vscode-notebook-cell:/Users/utkarshagrawal/Documents/Postdoc/U_1_exp/analyze_fergus_data.ipynb#W3sZmlsZQ%3D%3D?line=49'>50</a>\u001b[0m state_Q2, state_Q2_is_zero \u001b[39m=\u001b[39m transfer(x,dim2,pairings2,transfer_matrices2 ,outcomes,state_Q2,log_Z2,state_Q2_is_zero,L,Q2)\n\u001b[1;32m     <a href='vscode-notebook-cell:/Users/utkarshagrawal/Documents/Postdoc/U_1_exp/analyze_fergus_data.ipynb#W3sZmlsZQ%3D%3D?line=51'>52</a>\u001b[0m \u001b[39mif\u001b[39;00m state_Q_is_zero \u001b[39mand\u001b[39;00m state_Q2_is_zero:\n",
      "File \u001b[0;32m~/Documents/Postdoc/U_1_exp/sep_decoder.py:111\u001b[0m, in \u001b[0;36mtransfer\u001b[0;34m(x, dim, pairings, transfer_matrices, outcomes, state_Q, log_Z, state_zero, L, Q, debug)\u001b[0m\n\u001b[1;32m    109\u001b[0m \u001b[39mif\u001b[39;00m \u001b[39mnot\u001b[39;00m state_zero:\n\u001b[1;32m    110\u001b[0m     T \u001b[39m=\u001b[39m transfer_matrices[(x,x\u001b[39m+\u001b[39m\u001b[39m1\u001b[39m)]\n\u001b[0;32m--> 111\u001b[0m     state_Q \u001b[39m=\u001b[39m T\u001b[39m.\u001b[39;49mdot(state_Q)\n\u001b[1;32m    113\u001b[0m     \u001b[39mif\u001b[39;00m outcomes[\u001b[39m0\u001b[39m] \u001b[39m!=\u001b[39m\u001b[39m0\u001b[39m:\n\u001b[1;32m    114\u001b[0m         proj1 \u001b[39m=\u001b[39m \u001b[39m1\u001b[39m \u001b[39m-\u001b[39m (outcomes[\u001b[39m0\u001b[39m]\u001b[39m+\u001b[39m\u001b[39m1\u001b[39m)\u001b[39m/\u001b[39m\u001b[39m/\u001b[39m\u001b[39m2\u001b[39m\n",
      "File \u001b[0;32m~/anaconda3/lib/python3.9/site-packages/scipy/sparse/_base.py:416\u001b[0m, in \u001b[0;36mspmatrix.dot\u001b[0;34m(self, other)\u001b[0m\n\u001b[1;32m    414\u001b[0m     \u001b[39mreturn\u001b[39;00m \u001b[39mself\u001b[39m \u001b[39m*\u001b[39m other\n\u001b[1;32m    415\u001b[0m \u001b[39melse\u001b[39;00m:\n\u001b[0;32m--> 416\u001b[0m     \u001b[39mreturn\u001b[39;00m \u001b[39mself\u001b[39;49m \u001b[39m@\u001b[39;49m other\n",
      "File \u001b[0;32m~/anaconda3/lib/python3.9/site-packages/scipy/sparse/_base.py:630\u001b[0m, in \u001b[0;36mspmatrix.__matmul__\u001b[0;34m(self, other)\u001b[0m\n\u001b[1;32m    627\u001b[0m \u001b[39mif\u001b[39;00m isscalarlike(other):\n\u001b[1;32m    628\u001b[0m     \u001b[39mraise\u001b[39;00m \u001b[39mValueError\u001b[39;00m(\u001b[39m\"\u001b[39m\u001b[39mScalar operands are not allowed, \u001b[39m\u001b[39m\"\u001b[39m\n\u001b[1;32m    629\u001b[0m                      \u001b[39m\"\u001b[39m\u001b[39muse \u001b[39m\u001b[39m'\u001b[39m\u001b[39m*\u001b[39m\u001b[39m'\u001b[39m\u001b[39m instead\u001b[39m\u001b[39m\"\u001b[39m)\n\u001b[0;32m--> 630\u001b[0m \u001b[39mreturn\u001b[39;00m \u001b[39mself\u001b[39;49m\u001b[39m.\u001b[39;49m_mul_dispatch(other)\n",
      "File \u001b[0;32m~/anaconda3/lib/python3.9/site-packages/scipy/sparse/_base.py:532\u001b[0m, in \u001b[0;36mspmatrix._mul_dispatch\u001b[0;34m(self, other)\u001b[0m\n\u001b[1;32m    530\u001b[0m         \u001b[39mreturn\u001b[39;00m \u001b[39mself\u001b[39m\u001b[39m.\u001b[39m_mul_vector(other\u001b[39m.\u001b[39mravel())\u001b[39m.\u001b[39mreshape(M, \u001b[39m1\u001b[39m)\n\u001b[1;32m    531\u001b[0m     \u001b[39melif\u001b[39;00m other\u001b[39m.\u001b[39mndim \u001b[39m==\u001b[39m \u001b[39m2\u001b[39m \u001b[39mand\u001b[39;00m other\u001b[39m.\u001b[39mshape[\u001b[39m0\u001b[39m] \u001b[39m==\u001b[39m N:\n\u001b[0;32m--> 532\u001b[0m         \u001b[39mreturn\u001b[39;00m \u001b[39mself\u001b[39;49m\u001b[39m.\u001b[39;49m_mul_multivector(other)\n\u001b[1;32m    534\u001b[0m \u001b[39mif\u001b[39;00m isscalarlike(other):\n\u001b[1;32m    535\u001b[0m     \u001b[39m# scalar value\u001b[39;00m\n\u001b[1;32m    536\u001b[0m     \u001b[39mreturn\u001b[39;00m \u001b[39mself\u001b[39m\u001b[39m.\u001b[39m_mul_scalar(other)\n",
      "File \u001b[0;32m~/anaconda3/lib/python3.9/site-packages/scipy/sparse/_compressed.py:497\u001b[0m, in \u001b[0;36m_cs_matrix._mul_multivector\u001b[0;34m(self, other)\u001b[0m\n\u001b[1;32m    494\u001b[0m M, N \u001b[39m=\u001b[39m \u001b[39mself\u001b[39m\u001b[39m.\u001b[39mshape\n\u001b[1;32m    495\u001b[0m n_vecs \u001b[39m=\u001b[39m other\u001b[39m.\u001b[39mshape[\u001b[39m1\u001b[39m]  \u001b[39m# number of column vectors\u001b[39;00m\n\u001b[0;32m--> 497\u001b[0m result \u001b[39m=\u001b[39m np\u001b[39m.\u001b[39;49mzeros((M, n_vecs),\n\u001b[1;32m    498\u001b[0m                   dtype\u001b[39m=\u001b[39;49mupcast_char(\u001b[39mself\u001b[39;49m\u001b[39m.\u001b[39;49mdtype\u001b[39m.\u001b[39;49mchar, other\u001b[39m.\u001b[39;49mdtype\u001b[39m.\u001b[39;49mchar))\n\u001b[1;32m    500\u001b[0m \u001b[39m# csr_matvecs or csc_matvecs\u001b[39;00m\n\u001b[1;32m    501\u001b[0m fn \u001b[39m=\u001b[39m \u001b[39mgetattr\u001b[39m(_sparsetools, \u001b[39mself\u001b[39m\u001b[39m.\u001b[39mformat \u001b[39m+\u001b[39m \u001b[39m'\u001b[39m\u001b[39m_matvecs\u001b[39m\u001b[39m'\u001b[39m)\n",
      "\u001b[0;31mKeyboardInterrupt\u001b[0m: "
     ]
    }
   ],
   "source": [
    "L_list = [6,8,10,12]\n",
    "p_suc_dic = {}\n",
    "for L in L_list:\n",
    "    p_suc_dic[L]={}\n",
    "    for p in p_list[:-1]:\n",
    "        start = time.time()\n",
    "        p_suc_dic[L][p]=get_sep_data(100,L,p)\n",
    "        print(L,p,time.time()-start)\n"
   ]
  },
  {
   "cell_type": "code",
   "execution_count": 57,
   "metadata": {},
   "outputs": [],
   "source": [
    "def plot_success_ent(data,L_list,p_list,N_samples=-1):\n",
    "    ent = {}\n",
    "    err = {}\n",
    "    for L in L_list[:]:\n",
    "        ent[L] = []\n",
    "        err[L] = []\n",
    "        for p in p_list:\n",
    "            tempQ = list(data[L][p][L//2])[:N_samples]\n",
    "            tempQ2 = list(data[L][p][L//2+1])[:N_samples]\n",
    "            print(\"L=\",L,\"p=\",p,\"data_size:\",len(tempQ),len(tempQ2))\n",
    "            # ent.append(np.sum(np.array(suc_list)>0.5)/len(suc_list))\n",
    "            ent_list = [(-x*np.log(x) - (1-x)*np.log(1-x)) if 0<x<1 else 0 for x in tempQ2+tempQ]\n",
    "            ent[L].append(np.average(ent_list))\n",
    "            err[L].append(np.std(ent_list)/(len(ent_list)-1)**0.5)\n",
    "\n",
    "        pl.errorbar(p_list,ent[L],yerr=err[L],ls='-',marker='o',label='L='+str(L))\n",
    "\n",
    "    pl.xlabel(r'$p$',fontsize=16)\n",
    "    pl.ylabel(r'$S_{suc}$',fontsize=16)\n",
    "    pl.legend(fontsize=16)\n",
    "    pl.tight_layout()"
   ]
  },
  {
   "cell_type": "code",
   "execution_count": 58,
   "metadata": {},
   "outputs": [
    {
     "name": "stdout",
     "output_type": "stream",
     "text": [
      "L= 6 p= 0.0625 data_size: 99 99\n",
      "L= 6 p= 0.0875 data_size: 99 99\n",
      "L= 6 p= 0.1125 data_size: 99 99\n",
      "L= 6 p= 0.1375 data_size: 99 99\n",
      "L= 6 p= 0.1625 data_size: 99 99\n",
      "L= 6 p= 0.1875 data_size: 99 99\n",
      "L= 6 p= 0.2125 data_size: 99 99\n",
      "L= 6 p= 0.25 data_size: 99 99\n",
      "L= 6 p= 0.3 data_size: 99 99\n",
      "L= 6 p= 0.35 data_size: 99 99\n",
      "L= 8 p= 0.0625 data_size: 99 99\n",
      "L= 8 p= 0.0875 data_size: 99 99\n",
      "L= 8 p= 0.1125 data_size: 99 99\n",
      "L= 8 p= 0.1375 data_size: 99 99\n",
      "L= 8 p= 0.1625 data_size: 99 99\n",
      "L= 8 p= 0.1875 data_size: 99 99\n",
      "L= 8 p= 0.2125 data_size: 99 99\n",
      "L= 8 p= 0.25 data_size: 99 99\n",
      "L= 8 p= 0.3 data_size: 99 99\n",
      "L= 8 p= 0.35 data_size: 99 99\n",
      "L= 10 p= 0.0625 data_size: 99 99\n",
      "L= 10 p= 0.0875 data_size: 99 99\n",
      "L= 10 p= 0.1125 data_size: 99 99\n",
      "L= 10 p= 0.1375 data_size: 99 99\n",
      "L= 10 p= 0.1625 data_size: 99 99\n",
      "L= 10 p= 0.1875 data_size: 99 99\n",
      "L= 10 p= 0.2125 data_size: 99 99\n",
      "L= 10 p= 0.25 data_size: 99 99\n",
      "L= 10 p= 0.3 data_size: 99 99\n",
      "L= 10 p= 0.35 data_size: 99 99\n"
     ]
    }
   ],
   "source": [
    "plot_success_ent(p_suc_dic,L_list[:-1],p_list[:-1])"
   ]
  },
  {
   "cell_type": "code",
   "execution_count": 2,
   "metadata": {},
   "outputs": [
    {
     "data": {
      "text/plain": [
       "5.902777777777778"
      ]
     },
     "execution_count": 2,
     "metadata": {},
     "output_type": "execute_result"
    }
   ],
   "source": [
    "850*25/3600"
   ]
  },
  {
   "cell_type": "code",
   "execution_count": null,
   "metadata": {},
   "outputs": [],
   "source": []
  }
 ],
 "metadata": {
  "kernelspec": {
   "display_name": "Python 3.9.13 ('base')",
   "language": "python",
   "name": "python3"
  },
  "language_info": {
   "codemirror_mode": {
    "name": "ipython",
    "version": 3
   },
   "file_extension": ".py",
   "mimetype": "text/x-python",
   "name": "python",
   "nbconvert_exporter": "python",
   "pygments_lexer": "ipython3",
   "version": "3.9.13"
  },
  "orig_nbformat": 4,
  "vscode": {
   "interpreter": {
    "hash": "46d4d6e35a705a453addec98352089b1c875d6193677971858623155cb10eb88"
   }
  }
 },
 "nbformat": 4,
 "nbformat_minor": 2
}
