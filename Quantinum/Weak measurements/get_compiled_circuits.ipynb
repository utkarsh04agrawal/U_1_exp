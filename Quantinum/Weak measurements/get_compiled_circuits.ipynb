{
 "cells": [
  {
   "cell_type": "code",
   "execution_count": 6,
   "metadata": {},
   "outputs": [
    {
     "name": "stdout",
     "output_type": "stream",
     "text": [
      "/Users/utkarshagrawal/Documents/Postdoc/U_1_exp/Quantinum/Weak measurements\n"
     ]
    }
   ],
   "source": [
    "from pytket.circuit import Circuit, fresh_symbol\n",
    "from pytket.circuit.display import render_circuit_jupyter\n",
    "from pytket.extensions.quantinuum import QuantinuumBackend\n",
    "import matplotlib.pyplot as pl\n",
    "\n",
    "import os\n",
    "print(os.getcwd())\n",
    "\n",
    "from pytket.extensions.qiskit import qiskit_to_tk, AerBackend\n",
    "from pytket.backends.backendresult import BackendResult\n",
    "\n",
    "import qiskit as qk\n",
    "\n",
    "import pickle\n",
    "import pandas as pd\n",
    "import numpy as np"
   ]
  },
  {
   "cell_type": "code",
   "execution_count": 8,
   "metadata": {},
   "outputs": [
    {
     "name": "stdout",
     "output_type": "stream",
     "text": [
      "H1-1E status: online\n"
     ]
    }
   ],
   "source": [
    "machine = 'H1-1E'\n",
    "backend = QuantinuumBackend(machine)\n",
    "backend.login()\n",
    "\n",
    "print(machine, \"status:\", backend.device_state(device_name=machine))"
   ]
  },
  {
   "cell_type": "code",
   "execution_count": 3,
   "metadata": {},
   "outputs": [],
   "source": [
    "def load_file(L,depth,p,Q):\n",
    "    file_loc = '../../Weak measurements/data/multiple_ancilla/circ_data/special_scrambling/basis_gate_set=1/L='+str(L)+'_depth='+str(depth)+'_Q='+str(Q)+'_p='+str(p)+'_seed=1.imdat'\n",
    "    with open (file_loc,'rb') as f:\n",
    "        circ_q = pickle.load(f)\n",
    "    return circ_q\n",
    "\n",
    "# This function removes any save_statevector instruction from the qiskit circuit as it is not recognized by quantinuum backend.\n",
    "def remove_save_statevector(circ_q):\n",
    "\n",
    "    position = 0\n",
    "    count = 0\n",
    "    save_positions = []\n",
    "    for inst in circ_q.data:\n",
    "        if inst.operation.name == 'save_statevector':\n",
    "            count+=1\n",
    "            save_positions.append(position)\n",
    "        position+=1\n",
    "\n",
    "    new_circ = circ_q.copy()\n",
    "    for pos in reversed(save_positions):\n",
    "        new_circ.data.pop(pos)\n",
    "\n",
    "    # print(\"Before remvoing: # of save instructions = \",count,'\\n save positions = ',save_positions,'\\n save positions = ',position)\n",
    "\n",
    "    position = 0\n",
    "    count = 0\n",
    "    save_positions = []\n",
    "    for inst in new_circ.data:\n",
    "        if inst.operation.name == 'save_statevector':\n",
    "            count+=1\n",
    "            save_positions.append(position)\n",
    "        position+=1\n",
    "    # print(\"After remvoing: # of save instructions = \",count,'\\n save positions = ',save_positions,'\\n save positions = ',position)\n",
    "    return new_circ\n",
    "\n",
    "\n",
    "def compiled_tket_circuit(L,depth,p,Q):\n",
    "    circ_q = load_file(L,depth,p,Q)\n",
    "    new_circ = remove_save_statevector(circ_q['circuit'])\n",
    "    circ_p = qiskit_to_tk(new_circ)\n",
    "    compiled_circ = backend.get_compiled_circuit(circ_p)\n",
    "    # render_circuit_jupyter(circ_p)\n",
    "\n",
    "    return compiled_circ\n",
    "    \n",
    "def get_L(filename):\n",
    "    temp = filename[2:4]\n",
    "    if '_' in temp:\n",
    "        temp = temp[:-1]\n",
    "    return int(temp)\n",
    "    \n",
    "def get_Q(filename):\n",
    "    index = filename.index('Q')\n",
    "    temp = filename[index+2:index+4]\n",
    "    if '_' in temp:\n",
    "        temp = temp[:-1]\n",
    "    return int(temp)\n",
    "\n",
    "def get_p(filename):\n",
    "    index = filename.index('p=')\n",
    "    temp = filename[index+2:index+7]\n",
    "    while '_' in temp:\n",
    "        temp = temp[:-1]\n",
    "    return float(temp)\n"
   ]
  },
  {
   "cell_type": "code",
   "execution_count": 5,
   "metadata": {},
   "outputs": [],
   "source": [
    "depth_ratio=0.5\n",
    "if depth_ratio != 1:\n",
    "    depth_label = '_depth_ratio='+str(depth_ratio) + ''\n",
    "else:\n",
    "    depth_label = ''\n",
    "file_save_loc = 'data/compiled_circuits_multiple_ancillas' + depth_label\n",
    "\n",
    "if not os.path.isfile(file_save_loc):\n",
    "\n",
    "    file_dir = file_loc = \"../../Weak measurements/data/multiple_ancilla/circ_data/special_scrambling/basis_gate_set=1/\"\n",
    "    compiled_circuits = {}\n",
    "    for file in os.listdir(file_dir):\n",
    "        L = get_L(file)\n",
    "        p = get_p(file)\n",
    "        Q = get_Q(file)\n",
    "        depth = int(L*depth_ratio)\n",
    "        file_loc = file_dir + file\n",
    "        temp = compiled_tket_circuit(L=L,depth=int(L*depth_ratio),p=p,Q=Q)\n",
    "        compiled_circuits[(L,depth,p,Q)] = temp\n",
    "\n",
    "    with open(file_save_loc,'wb') as f:\n",
    "        pickle.dump(compiled_circuits,f)\n"
   ]
  },
  {
   "cell_type": "code",
   "execution_count": null,
   "metadata": {},
   "outputs": [],
   "source": []
  }
 ],
 "metadata": {
  "kernelspec": {
   "display_name": "Python 3.9.13 ('qtuum': venv)",
   "language": "python",
   "name": "python3"
  },
  "language_info": {
   "codemirror_mode": {
    "name": "ipython",
    "version": 3
   },
   "file_extension": ".py",
   "mimetype": "text/x-python",
   "name": "python",
   "nbconvert_exporter": "python",
   "pygments_lexer": "ipython3",
   "version": "3.9.13"
  },
  "orig_nbformat": 4,
  "vscode": {
   "interpreter": {
    "hash": "db9ce0fd49c82ada94c617a539798de1f12c52da51d869905941d2156c3668d9"
   }
  }
 },
 "nbformat": 4,
 "nbformat_minor": 2
}
