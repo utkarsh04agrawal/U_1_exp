{
 "cells": [
  {
   "cell_type": "code",
   "execution_count": 2,
   "metadata": {},
   "outputs": [
    {
     "name": "stdout",
     "output_type": "stream",
     "text": [
      "/Users/utkarshagrawal/Documents/Postdoc/U_1_exp/Quantinum/Weak measurements\n"
     ]
    }
   ],
   "source": [
    "\n",
    "from pytket.circuit.display import render_circuit_jupyter\n",
    "from pytket.extensions.quantinuum import QuantinuumBackend\n",
    "import matplotlib.pyplot as pl\n",
    "\n",
    "import os\n",
    "print(os.getcwd())\n",
    "\n",
    "from pytket.backends.backendresult import BackendResult\n",
    "\n",
    "# %matplotlib qt5\n",
    "import pickle\n",
    "import pandas as pd\n",
    "import numpy as np"
   ]
  },
  {
   "cell_type": "code",
   "execution_count": 2,
   "metadata": {},
   "outputs": [
    {
     "name": "stdout",
     "output_type": "stream",
     "text": [
      "H1-1E status: online\n"
     ]
    }
   ],
   "source": [
    "machine = 'H1-1E'\n",
    "backend = QuantinuumBackend(machine)\n",
    "# backend.login()\n",
    "\n",
    "print(machine, \"status:\", backend.device_state(device_name=machine))"
   ]
  },
  {
   "cell_type": "code",
   "execution_count": 4,
   "metadata": {},
   "outputs": [],
   "source": [
    "depth_label = '_depth_ratio=0.5'"
   ]
  },
  {
   "cell_type": "code",
   "execution_count": 5,
   "metadata": {},
   "outputs": [],
   "source": [
    "file = 'data/compiled_circuits_multiple_ancillas' + depth_label\n",
    "with open(file,'rb') as f:\n",
    "    compiled_circuits = pickle.load(f)"
   ]
  },
  {
   "cell_type": "code",
   "execution_count": 6,
   "metadata": {},
   "outputs": [],
   "source": [
    "p_to_run = [0.157,0.381,0.718,0.987,1.122]\n",
    "L_to_run = [6,8,10,12,14]\n",
    "n_shots = 400"
   ]
  },
  {
   "cell_type": "code",
   "execution_count": 5,
   "metadata": {},
   "outputs": [],
   "source": [
    "\n",
    "filename = 'cost_dic'+depth_label\n",
    "if not os.path.isfile(filename):\n",
    "    HQC = {}\n",
    "    for L,depth,p,Q in compiled_circuits:\n",
    "        if L not in L_to_run:\n",
    "            continue\n",
    "        if p not in p_to_run:\n",
    "            continue\n",
    "        circ = compiled_circuits[(L,depth,p,Q)]\n",
    "        HQC[(L,p,Q)] = backend.cost(circ, n_shots=n_shots, syntax_checker='H1-1SC')\n",
    "    with open(filename,'wb') as f:\n",
    "        pickle.dump(HQC,f)\n",
    "else:\n",
    "    with open(filename,'rb') as f:\n",
    "        HQC = pickle.load(f)"
   ]
  },
  {
   "cell_type": "code",
   "execution_count": null,
   "metadata": {},
   "outputs": [],
   "source": []
  },
  {
   "cell_type": "code",
   "execution_count": 17,
   "metadata": {},
   "outputs": [
    {
     "name": "stdout",
     "output_type": "stream",
     "text": [
      "[  0.    217.344 394.392] [  0.    217.344 611.736]\n"
     ]
    }
   ],
   "source": [
    "Ls = np.array([6,10,14])\n",
    "shots = np.array([100,100,100])/400\n",
    "gamma_points = np.array([0,2,2])/5\n",
    "aa = np.array([np.sum([HQC[(L,p,Q)] for (L,p,Q) in HQC if L==i]) for i in Ls])\n",
    "aa = aa*gamma_points*shots\n",
    "print(aa,np.cumsum(aa[:]))"
   ]
  },
  {
   "cell_type": "code",
   "execution_count": 70,
   "metadata": {},
   "outputs": [
    {
     "data": {
      "text/plain": [
       "[<matplotlib.lines.Line2D at 0x2a200e3d0>]"
      ]
     },
     "execution_count": 70,
     "metadata": {},
     "output_type": "execute_result"
    },
    {
     "data": {
      "image/png": "[encoded data removed]",
      "text/plain": [
       "<Figure size 640x480 with 1 Axes>"
      ]
     },
     "metadata": {},
     "output_type": "display_data"
    }
   ],
   "source": [
    "pl.plot(Ls**1.5,aa,'-o')\n",
    "# pl.yscale('log')\n",
    "# pl.xscale('log')"
   ]
  },
  {
   "cell_type": "code",
   "execution_count": null,
   "metadata": {},
   "outputs": [],
   "source": []
  }
 ],
 "metadata": {
  "kernelspec": {
   "display_name": "qtuum",
   "language": "python",
   "name": "qtuum"
  },
  "language_info": {
   "codemirror_mode": {
    "name": "ipython",
    "version": 3
   },
   "file_extension": ".py",
   "mimetype": "text/x-python",
   "name": "python",
   "nbconvert_exporter": "python",
   "pygments_lexer": "ipython3",
   "version": "3.9.13"
  },
  "orig_nbformat": 4,
  "vscode": {
   "interpreter": {
    "hash": "ba40a46e401c10ebb244a87e806913f0595ade9ff35ab2340d63707cb1cfb309"
   }
  }
 },
 "nbformat": 4,
 "nbformat_minor": 2
}
