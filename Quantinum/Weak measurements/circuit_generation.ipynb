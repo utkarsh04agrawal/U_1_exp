{
 "cells": [
  {
   "cell_type": "code",
   "execution_count": 2,
   "metadata": {},
   "outputs": [
    {
     "name": "stdout",
     "output_type": "stream",
     "text": [
      "/Users/utkarshagrawal/Documents/Postdoc/U_1_exp/Quantinum/Weak measurements\n"
     ]
    }
   ],
   "source": [
    "from pytket.circuit import Circuit, fresh_symbol\n",
    "from pytket.circuit.display import render_circuit_jupyter\n",
    "from pytket.extensions.quantinuum import QuantinuumBackend\n",
    "import matplotlib.pyplot as pl\n",
    "\n",
    "import os\n",
    "print(os.getcwd())\n",
    "\n",
    "from pytket.extensions.qiskit import qiskit_to_tk, AerBackend\n",
    "from pytket.backends.backendresult import BackendResult\n",
    "\n",
    "import qiskit as qk\n",
    "\n",
    "import pickle\n",
    "import pandas as pd\n",
    "import numpy as np"
   ]
  },
  {
   "cell_type": "code",
   "execution_count": 76,
   "metadata": {},
   "outputs": [],
   "source": [
    "def load_file(L,depth,p,Q):\n",
    "    file_loc = '../../Weak measurements/data/circ_data/special_scrambling/basis_gate_set=1/L='+str(L)+'_depth='+str(depth)+'_Q='+str(Q)+'_p='+str(p)+'_seed=1.imdat'\n",
    "    with open (file_loc,'rb') as f:\n",
    "        circ_q = pickle.load(f)\n",
    "    return circ_q\n"
   ]
  },
  {
   "cell_type": "code",
   "execution_count": 77,
   "metadata": {},
   "outputs": [],
   "source": [
    "# This function removes any save_statevector instruction from the qiskit circuit as it is not recognized by quantinuum backend.\n",
    "def remove_save_statevector(circ_q):\n",
    "\n",
    "    position = 0\n",
    "    count = 0\n",
    "    save_positions = []\n",
    "    for inst in circ_q.data:\n",
    "        if inst.operation.name == 'save_statevector':\n",
    "            count+=1\n",
    "            save_positions.append(position)\n",
    "        position+=1\n",
    "\n",
    "    new_circ = circ_q.copy()\n",
    "    for pos in reversed(save_positions):\n",
    "        new_circ.data.pop(pos)\n",
    "\n",
    "    # print(\"Before remvoing: # of save instructions = \",count,'\\n save positions = ',save_positions,'\\n save positions = ',position)\n",
    "\n",
    "    position = 0\n",
    "    count = 0\n",
    "    save_positions = []\n",
    "    for inst in new_circ.data:\n",
    "        if inst.operation.name == 'save_statevector':\n",
    "            count+=1\n",
    "            save_positions.append(position)\n",
    "        position+=1\n",
    "    # print(\"After remvoing: # of save instructions = \",count,'\\n save positions = ',save_positions,'\\n save positions = ',position)\n",
    "    return new_circ\n"
   ]
  },
  {
   "cell_type": "code",
   "execution_count": 63,
   "metadata": {},
   "outputs": [
    {
     "name": "stdout",
     "output_type": "stream",
     "text": [
      "H1-1E status: online\n"
     ]
    }
   ],
   "source": [
    "machine = 'H1-1E'\n",
    "backend = QuantinuumBackend(machine)\n",
    "# backend.login()\n",
    "\n",
    "print(machine, \"status:\", backend.device_state(device_name=machine))"
   ]
  },
  {
   "cell_type": "code",
   "execution_count": 78,
   "metadata": {},
   "outputs": [],
   "source": [
    "def compiled_tket_circuit(L,depth,p,Q):\n",
    "    circ_q = load_file(L,depth,p,Q)\n",
    "    new_circ = remove_save_statevector(circ_q['circuit'])\n",
    "    circ_p = qiskit_to_tk(new_circ)\n",
    "    compiled_circ = backend.get_compiled_circuit(circ_p)\n",
    "    # render_circuit_jupyter(circ_p)\n",
    "\n",
    "    return compiled_circ"
   ]
  },
  {
   "cell_type": "code",
   "execution_count": 79,
   "metadata": {},
   "outputs": [],
   "source": [
    "def cost(L,depth,p,Q,n_shots):\n",
    "    compiled_circ = compiled_tket_circuit(L,depth,p,Q)\n",
    "    HQC = backend.cost(compiled_circ, n_shots=n_shots, syntax_checker='H1-1SC')\n",
    "    return HQC"
   ]
  },
  {
   "cell_type": "code",
   "execution_count": 81,
   "metadata": {},
   "outputs": [],
   "source": [
    "compiled_circ = compiled_tket_circuit(10,10,0.412,5)"
   ]
  },
  {
   "cell_type": "code",
   "execution_count": 82,
   "metadata": {},
   "outputs": [
    {
     "name": "stdout",
     "output_type": "stream",
     "text": [
      "955\n"
     ]
    }
   ],
   "source": [
    "print(len(compiled_circ.get_commands()))"
   ]
  },
  {
   "cell_type": "code",
   "execution_count": 74,
   "metadata": {},
   "outputs": [
    {
     "data": {
      "text/plain": [
       "161.12"
      ]
     },
     "execution_count": 74,
     "metadata": {},
     "output_type": "execute_result"
    }
   ],
   "source": [
    "backend.cost(compiled_circ,200,syntax_checker='H1-1SC')"
   ]
  },
  {
   "cell_type": "code",
   "execution_count": 43,
   "metadata": {},
   "outputs": [],
   "source": [
    "handle = backend.process_circuit(compiled_circ,n_shots=10)"
   ]
  },
  {
   "cell_type": "code",
   "execution_count": 57,
   "metadata": {},
   "outputs": [
    {
     "data": {
      "text/plain": [
       "60.88000000000001"
      ]
     },
     "execution_count": 57,
     "metadata": {},
     "output_type": "execute_result"
    }
   ],
   "source": [
    "200*(7.7940000000000005 - 5)/10 + 5"
   ]
  },
  {
   "cell_type": "code",
   "execution_count": 50,
   "metadata": {},
   "outputs": [
    {
     "data": {
      "text/plain": [
       "CircuitStatus(status=<StatusEnum.COMPLETED: 'Circuit has completed. Results are ready.'>, message='{\"name\": \"circuit-19309\", \"submit-date\": \"2023-01-10T19:37:25.550958\", \"result-date\": \"2023-01-10T19:38:25.376555\", \"queue-position\": null, \"cost\": \"7.7940000000000005\", \"error\": null}', error_detail=None, completed_time=None, queued_time=None, submitted_time=None, running_time=None, cancelled_time=None, error_time=None, queue_position=None)"
      ]
     },
     "execution_count": 50,
     "metadata": {},
     "output_type": "execute_result"
    }
   ],
   "source": [
    "backend.circuit_status(handle)"
   ]
  },
  {
   "cell_type": "code",
   "execution_count": 51,
   "metadata": {},
   "outputs": [
    {
     "name": "stdout",
     "output_type": "stream",
     "text": [
      "[[0 0 0 0 0 0 0 1 0 0 1 0 0 0 0 0 0 0 0 0 0 0 1 0 0 0 0 0 0 0 0 1 0 0 1 1]\n",
      " [0 0 0 1 0 0 0 0 0 1 0 0 1 0 0 0 0 0 1 0 0 0 0 0 0 0 0 0 0 0 1 0 1 0 0 1]\n",
      " [0 0 0 1 0 0 0 0 0 0 1 0 0 0 0 1 0 0 0 0 0 0 1 0 0 0 1 0 1 0 0 0 1 1 0 1]\n",
      " [0 0 1 0 1 0 0 0 0 0 0 0 0 0 0 0 0 0 0 0 0 0 0 0 1 0 0 0 0 0 1 0 1 0 1 0]\n",
      " [0 0 0 0 0 0 0 0 0 0 0 0 0 0 1 0 0 0 0 0 0 1 0 0 0 1 1 0 0 0 0 1 1 1 0 0]\n",
      " [0 0 0 1 0 0 0 0 0 0 0 0 0 0 1 0 0 0 0 0 0 0 0 1 0 0 0 0 0 0 1 0 0 0 1 1]\n",
      " [1 0 0 1 0 0 1 0 0 0 0 0 0 0 0 0 0 1 0 0 0 0 0 0 1 1 0 0 0 0 1 1 0 0 1 0]\n",
      " [0 0 0 0 0 0 0 0 0 0 0 0 0 0 1 0 0 0 0 0 0 0 0 0 1 0 0 0 0 1 1 0 0 1 0 1]\n",
      " [0 0 0 1 0 0 0 0 1 1 0 0 0 0 1 1 0 0 0 0 1 0 1 0 0 0 1 0 0 0 0 0 1 1 1 0]\n",
      " [0 0 0 1 0 0 0 0 1 1 0 0 0 0 1 0 0 1 0 1 0 1 0 0 0 0 0 0 0 0 1 0 0 1 0 1]]\n"
     ]
    }
   ],
   "source": [
    "results = backend.get_result(handle)\n",
    "print(results.get_shots())"
   ]
  },
  {
   "cell_type": "code",
   "execution_count": 154,
   "metadata": {},
   "outputs": [],
   "source": [
    "data_dict = {'L':[],'Q':[],'p':[],'cost':[],'shots':[]}"
   ]
  },
  {
   "cell_type": "code",
   "execution_count": 155,
   "metadata": {},
   "outputs": [],
   "source": [
    "def get_L(filename):\n",
    "    temp = filename[2:4]\n",
    "    if '_' in temp:\n",
    "        temp = temp[:-1]\n",
    "    return int(temp)\n",
    "    \n",
    "def get_Q(filename):\n",
    "    index = filename.index('Q')\n",
    "    temp = filename[index+2:index+4]\n",
    "    if '_' in temp:\n",
    "        temp = temp[:-1]\n",
    "    return int(temp)\n",
    "\n",
    "def get_p(filename):\n",
    "    index = filename.index('p=')\n",
    "    temp = filename[index+2:index+7]\n",
    "    while '_' in temp:\n",
    "        temp = temp[:-1]\n",
    "    return float(temp)\n"
   ]
  },
  {
   "cell_type": "markdown",
   "metadata": {},
   "source": [
    "## Running emulator"
   ]
  },
  {
   "cell_type": "code",
   "execution_count": 238,
   "metadata": {},
   "outputs": [
    {
     "name": "stdout",
     "output_type": "stream",
     "text": [
      "H1-1E status: online\n"
     ]
    }
   ],
   "source": [
    "machine = 'H1-1E'\n",
    "backend = QuantinuumBackend(machine)\n",
    "# backend.login()\n",
    "\n",
    "print(machine, \"status:\", backend.device_state(device_name=machine))"
   ]
  },
  {
   "cell_type": "code",
   "execution_count": 259,
   "metadata": {},
   "outputs": [
    {
     "name": "stdout",
     "output_type": "stream",
     "text": [
      "('a8986ed76d0f438cb0ebb6c903a4ecf2', 'null')\n"
     ]
    }
   ],
   "source": [
    "compiled_circ = compiled_tket_circuit(6,6,0.942,3)\n",
    "handle = backend.process_circuit(compiled_circ, \n",
    "                                 n_shots=200)\n",
    "print(handle)"
   ]
  },
  {
   "cell_type": "code",
   "execution_count": 271,
   "metadata": {},
   "outputs": [],
   "source": [
    "file_dir = file_loc = \"../../Weak measurements/data/circ_data/special_scrambling/basis_gate_set=1/\"\n",
    "compiled_circuits = {}\n",
    "for file in os.listdir(file_dir):\n",
    "    L = get_L(file)\n",
    "    p = get_p(file)\n",
    "    Q = get_Q(file)\n",
    "    depth = L\n",
    "    file_loc = file_dir + file\n",
    "    temp = compiled_tket_circuit(L=L,depth=L,p=p,Q=Q)\n",
    "    compiled_circuits[(L,depth,p,Q)] = temp\n"
   ]
  },
  {
   "cell_type": "code",
   "execution_count": 273,
   "metadata": {},
   "outputs": [
    {
     "name": "stdout",
     "output_type": "stream",
     "text": [
      "180\n"
     ]
    }
   ],
   "source": [
    "print(len(compiled_circuits))"
   ]
  },
  {
   "cell_type": "code",
   "execution_count": 314,
   "metadata": {},
   "outputs": [
    {
     "data": {
      "text/plain": [
       "[(14, 14, 0.253, 7),\n",
       " (10, 10, 0.306, 4),\n",
       " (16, 16, 0.73, 8),\n",
       " (8, 8, 0.571, 4),\n",
       " (14, 14, 0.412, 7),\n",
       " (8, 8, 0.783, 4),\n",
       " (10, 10, 0.624, 5),\n",
       " (10, 10, 0.465, 4),\n",
       " (12, 12, 0.942, 5),\n",
       " (8, 8, 0.942, 3),\n",
       " (10, 10, 0.2, 4),\n",
       " (12, 12, 0.2, 5),\n",
       " (12, 12, 0.624, 6),\n",
       " (10, 10, 0.571, 4),\n",
       " (8, 8, 0.306, 4),\n",
       " (14, 14, 0.889, 6),\n",
       " (14, 14, 0.359, 6),\n",
       " (14, 14, 0.677, 6),\n",
       " (10, 10, 0.783, 4),\n",
       " (14, 14, 0.836, 6),\n",
       " (8, 8, 0.465, 4),\n",
       " (14, 14, 0.518, 6),\n",
       " (10, 10, 0.677, 5),\n",
       " (10, 10, 0.518, 5),\n",
       " (8, 8, 0.412, 4),\n",
       " (10, 10, 0.836, 5),\n",
       " (14, 14, 0.783, 7),\n",
       " (14, 14, 0.571, 7),\n",
       " (12, 12, 0.2, 6),\n",
       " (10, 10, 0.359, 5),\n",
       " (10, 10, 0.889, 5),\n",
       " (16, 16, 0.2, 7),\n",
       " (8, 8, 0.253, 4),\n",
       " (14, 14, 0.2, 6),\n",
       " (14, 14, 0.465, 7),\n",
       " (14, 14, 0.624, 6),\n",
       " (10, 10, 0.412, 4),\n",
       " (12, 12, 0.359, 6),\n",
       " (12, 12, 0.889, 6),\n",
       " (12, 12, 0.677, 6),\n",
       " (10, 10, 0.253, 4),\n",
       " (14, 14, 0.306, 7),\n",
       " (6, 6, 0.942, 3),\n",
       " (12, 12, 0.518, 6),\n",
       " (12, 12, 0.836, 6),\n",
       " (14, 14, 0.889, 7),\n",
       " (14, 14, 0.359, 7),\n",
       " (8, 8, 0.73, 4),\n",
       " (10, 10, 0.571, 5),\n",
       " (12, 12, 0.465, 6),\n",
       " (14, 14, 0.518, 7),\n",
       " (10, 10, 0.783, 5),\n",
       " (8, 8, 0.624, 4),\n",
       " (14, 14, 0.836, 7),\n",
       " (14, 14, 0.677, 7),\n",
       " (12, 12, 0.73, 5),\n",
       " (12, 12, 0.306, 6),\n",
       " (12, 12, 0.73, 6),\n",
       " (12, 12, 0.783, 6),\n",
       " (10, 10, 0.73, 5),\n",
       " (10, 10, 0.306, 5),\n",
       " (14, 14, 0.253, 6),\n",
       " (10, 10, 0.73, 4),\n",
       " (12, 12, 0.571, 6),\n",
       " (8, 8, 0.2, 4),\n",
       " (10, 10, 0.624, 4),\n",
       " (10, 10, 0.465, 5),\n",
       " (14, 14, 0.412, 6),\n",
       " (8, 8, 0.677, 4),\n",
       " (6, 6, 0.2, 3),\n",
       " (10, 10, 0.412, 5),\n",
       " (8, 8, 0.836, 4),\n",
       " (14, 14, 0.465, 6),\n",
       " (14, 14, 0.624, 7),\n",
       " (8, 8, 0.518, 4),\n",
       " (16, 16, 0.942, 7),\n",
       " (16, 16, 0.73, 7),\n",
       " (14, 14, 0.306, 6),\n",
       " (10, 10, 0.253, 5),\n",
       " (6, 6, 0.942, 2),\n",
       " (8, 8, 0.359, 4),\n",
       " (8, 8, 0.889, 4),\n",
       " (10, 10, 0.836, 4),\n",
       " (14, 14, 0.783, 6),\n",
       " (10, 10, 0.518, 4),\n",
       " (8, 8, 0.73, 3),\n",
       " (12, 12, 0.253, 6),\n",
       " (14, 14, 0.73, 7),\n",
       " (10, 10, 0.677, 4),\n",
       " (10, 10, 0.359, 4),\n",
       " (16, 16, 0.942, 8),\n",
       " (10, 10, 0.889, 4),\n",
       " (14, 14, 0.73, 6),\n",
       " (12, 12, 0.412, 6),\n",
       " (14, 14, 0.571, 6),\n",
       " (8, 8, 0.412, 3),\n",
       " (16, 16, 0.624, 7),\n",
       " (12, 12, 0.412, 5),\n",
       " (14, 14, 0.942, 7),\n",
       " (6, 6, 0.306, 3),\n",
       " (6, 6, 0.2, 2),\n",
       " (8, 8, 0.253, 3),\n",
       " (12, 12, 0.253, 5),\n",
       " (6, 6, 0.624, 2),\n",
       " (6, 6, 0.465, 3),\n",
       " (6, 6, 0.73, 3),\n",
       " (6, 6, 0.571, 3),\n",
       " (16, 16, 0.624, 8),\n",
       " (6, 6, 0.783, 3),\n",
       " (6, 6, 0.73, 2),\n",
       " (16, 16, 0.889, 7),\n",
       " (6, 6, 0.836, 2),\n",
       " (16, 16, 0.359, 7),\n",
       " (8, 8, 0.571, 3),\n",
       " (6, 6, 0.518, 2),\n",
       " (12, 12, 0.571, 5),\n",
       " (6, 6, 0.677, 2),\n",
       " (8, 8, 0.942, 4),\n",
       " (16, 16, 0.518, 7),\n",
       " (6, 6, 0.359, 2),\n",
       " (12, 12, 0.783, 5),\n",
       " (6, 6, 0.889, 2),\n",
       " (16, 16, 0.836, 7),\n",
       " (8, 8, 0.783, 3),\n",
       " (16, 16, 0.677, 7),\n",
       " (8, 8, 0.306, 3),\n",
       " (16, 16, 0.677, 8),\n",
       " (16, 16, 0.518, 8),\n",
       " (6, 6, 0.412, 3),\n",
       " (16, 16, 0.836, 8),\n",
       " (12, 12, 0.306, 5),\n",
       " (8, 8, 0.465, 3),\n",
       " (6, 6, 0.253, 3),\n",
       " (16, 16, 0.889, 8),\n",
       " (16, 16, 0.359, 8),\n",
       " (10, 10, 0.942, 4),\n",
       " (12, 12, 0.465, 5),\n",
       " (8, 8, 0.836, 3),\n",
       " (12, 12, 0.677, 5),\n",
       " (8, 8, 0.2, 3),\n",
       " (8, 8, 0.518, 3),\n",
       " (6, 6, 0.571, 2),\n",
       " (12, 12, 0.518, 5),\n",
       " (12, 12, 0.836, 5),\n",
       " (16, 16, 0.306, 8),\n",
       " (16, 16, 0.783, 7),\n",
       " (8, 8, 0.677, 3),\n",
       " (16, 16, 0.571, 7),\n",
       " (8, 8, 0.889, 3),\n",
       " (8, 8, 0.359, 3),\n",
       " (6, 6, 0.783, 2),\n",
       " (12, 12, 0.359, 5),\n",
       " (12, 12, 0.889, 5),\n",
       " (16, 16, 0.465, 8),\n",
       " (14, 14, 0.942, 6),\n",
       " (6, 6, 0.306, 2),\n",
       " (16, 16, 0.465, 7),\n",
       " (16, 16, 0.571, 8),\n",
       " (14, 14, 0.2, 7),\n",
       " (6, 6, 0.624, 3),\n",
       " (6, 6, 0.465, 2),\n",
       " (16, 16, 0.306, 7),\n",
       " (16, 16, 0.783, 8),\n",
       " (16, 16, 0.253, 7),\n",
       " (6, 6, 0.412, 2),\n",
       " (10, 10, 0.2, 5),\n",
       " (12, 12, 0.624, 5),\n",
       " (16, 16, 0.412, 7),\n",
       " (6, 6, 0.253, 2),\n",
       " (10, 10, 0.942, 5),\n",
       " (8, 8, 0.624, 3),\n",
       " (6, 6, 0.677, 3),\n",
       " (12, 12, 0.942, 6),\n",
       " (16, 16, 0.412, 8),\n",
       " (6, 6, 0.518, 3),\n",
       " (6, 6, 0.836, 3),\n",
       " (6, 6, 0.359, 3),\n",
       " (16, 16, 0.253, 8),\n",
       " (6, 6, 0.889, 3),\n",
       " (16, 16, 0.2, 8)]"
      ]
     },
     "execution_count": 314,
     "metadata": {},
     "output_type": "execute_result"
    }
   ],
   "source": [
    "[param for param in compiled_circuits]"
   ]
  },
  {
   "cell_type": "code",
   "execution_count": 85,
   "metadata": {},
   "outputs": [
    {
     "ename": "TypeError",
     "evalue": "a bytes-like object is required, not 'list'",
     "output_type": "error",
     "traceback": [
      "\u001b[0;31m---------------------------------------------------------------------------\u001b[0m",
      "\u001b[0;31mTypeError\u001b[0m                                 Traceback (most recent call last)",
      "Cell \u001b[0;32mIn[85], line 2\u001b[0m\n\u001b[1;32m      1\u001b[0m \u001b[39mwith\u001b[39;00m \u001b[39mopen\u001b[39m(\u001b[39m'\u001b[39m\u001b[39mtest.txt\u001b[39m\u001b[39m'\u001b[39m,\u001b[39m'\u001b[39m\u001b[39mwb\u001b[39m\u001b[39m'\u001b[39m) \u001b[39mas\u001b[39;00m f:\n\u001b[0;32m----> 2\u001b[0m     f\u001b[39m.\u001b[39;49mwrite([\u001b[39mstr\u001b[39;49m(i) \u001b[39mfor\u001b[39;49;00m i \u001b[39min\u001b[39;49;00m [\u001b[39m1\u001b[39;49m,\u001b[39m2\u001b[39;49m,\u001b[39m3\u001b[39;49m,\u001b[39m4\u001b[39;49m]])\n",
      "\u001b[0;31mTypeError\u001b[0m: a bytes-like object is required, not 'list'"
     ]
    }
   ],
   "source": [
    "with open('test.txt','wb') as f:\n",
    "    f.write([str(i) for i in [1,2,3,4]])"
   ]
  },
  {
   "cell_type": "code",
   "execution_count": 315,
   "metadata": {},
   "outputs": [
    {
     "ename": "FileNotFoundError",
     "evalue": "[Errno 2] No such file or directory: 'data/emulator_batch_L=6_shots=50'",
     "output_type": "error",
     "traceback": [
      "\u001b[0;31m---------------------------------------------------------------------------\u001b[0m",
      "\u001b[0;31mFileNotFoundError\u001b[0m                         Traceback (most recent call last)",
      "Cell \u001b[0;32mIn[315], line 18\u001b[0m\n\u001b[1;32m     16\u001b[0m         handle_dict[param] \u001b[39m=\u001b[39m new_batch\n\u001b[1;32m     17\u001b[0m     count \u001b[39m+\u001b[39m\u001b[39m=\u001b[39m \u001b[39m1\u001b[39m\n\u001b[0;32m---> 18\u001b[0m \u001b[39mwith\u001b[39;00m \u001b[39mopen\u001b[39;49m(\u001b[39m\"\u001b[39;49m\u001b[39mdata/emulator_batch_L=6_shots=50\u001b[39;49m\u001b[39m\"\u001b[39;49m,\u001b[39m'\u001b[39;49m\u001b[39mrb\u001b[39;49m\u001b[39m'\u001b[39;49m) \u001b[39mas\u001b[39;00m f:\n\u001b[1;32m     19\u001b[0m     pickle\u001b[39m.\u001b[39mdump(handle_dict,f)\n",
      "File \u001b[0;32m~/Documents/Postdoc/U_1_exp/Quantinum/qtuum/lib/python3.9/site-packages/IPython/core/interactiveshell.py:282\u001b[0m, in \u001b[0;36m_modified_open\u001b[0;34m(file, *args, **kwargs)\u001b[0m\n\u001b[1;32m    275\u001b[0m \u001b[39mif\u001b[39;00m file \u001b[39min\u001b[39;00m {\u001b[39m0\u001b[39m, \u001b[39m1\u001b[39m, \u001b[39m2\u001b[39m}:\n\u001b[1;32m    276\u001b[0m     \u001b[39mraise\u001b[39;00m \u001b[39mValueError\u001b[39;00m(\n\u001b[1;32m    277\u001b[0m         \u001b[39mf\u001b[39m\u001b[39m\"\u001b[39m\u001b[39mIPython won\u001b[39m\u001b[39m'\u001b[39m\u001b[39mt let you open fd=\u001b[39m\u001b[39m{\u001b[39;00mfile\u001b[39m}\u001b[39;00m\u001b[39m by default \u001b[39m\u001b[39m\"\u001b[39m\n\u001b[1;32m    278\u001b[0m         \u001b[39m\"\u001b[39m\u001b[39mas it is likely to crash IPython. If you know what you are doing, \u001b[39m\u001b[39m\"\u001b[39m\n\u001b[1;32m    279\u001b[0m         \u001b[39m\"\u001b[39m\u001b[39myou can use builtins\u001b[39m\u001b[39m'\u001b[39m\u001b[39m open.\u001b[39m\u001b[39m\"\u001b[39m\n\u001b[1;32m    280\u001b[0m     )\n\u001b[0;32m--> 282\u001b[0m \u001b[39mreturn\u001b[39;00m io_open(file, \u001b[39m*\u001b[39;49margs, \u001b[39m*\u001b[39;49m\u001b[39m*\u001b[39;49mkwargs)\n",
      "\u001b[0;31mFileNotFoundError\u001b[0m: [Errno 2] No such file or directory: 'data/emulator_batch_L=6_shots=50'"
     ]
    }
   ],
   "source": [
    "n_shots = 50\n",
    "count = 0\n",
    "handle_dict = {}\n",
    "p_list = [0.624,0.677,0.73,0.783,0.836]\n",
    "for param,circ in compiled_circuits.items():\n",
    "    L,depth,p,Q = param\n",
    "    if L!=6:\n",
    "        continue\n",
    "    if p not in p_list:\n",
    "        continue\n",
    "    if count == 0:\n",
    "        first_batch = backend.start_batch(max_batch_cost=500,circuit=circ, n_shots=n_shots)\n",
    "        handle_dict[param] = first_batch\n",
    "    else:\n",
    "        new_batch = backend.add_to_batch(first_batch, circ, n_shots=n_shots)\n",
    "        handle_dict[param] = new_batch\n",
    "    count += 1\n"
   ]
  },
  {
   "cell_type": "code",
   "execution_count": 319,
   "metadata": {},
   "outputs": [
    {
     "data": {
      "text/plain": [
       "10"
      ]
     },
     "execution_count": 319,
     "metadata": {},
     "output_type": "execute_result"
    }
   ],
   "source": [
    "count"
   ]
  },
  {
   "cell_type": "code",
   "execution_count": 317,
   "metadata": {},
   "outputs": [],
   "source": [
    "with open(\"data/emulator_batch_L=6_shots=50\",'wb') as f:\n",
    "    pickle.dump(handle_dict,f)"
   ]
  },
  {
   "cell_type": "code",
   "execution_count": 322,
   "metadata": {},
   "outputs": [
    {
     "data": {
      "text/plain": [
       "[CircuitStatus(status=<StatusEnum.COMPLETED: 'Circuit has completed. Results are ready.'>, message='{\"name\": \"circuit-20509\", \"submit-date\": \"2023-01-05T18:58:09.037442\", \"result-date\": \"2023-01-05T18:59:25.379123\", \"queue-position\": null, \"cost\": \"18.97\", \"error\": null}', error_detail=None, completed_time=None, queued_time=None, submitted_time=None, running_time=None, cancelled_time=None, error_time=None, queue_position=None),\n",
       " CircuitStatus(status=<StatusEnum.COMPLETED: 'Circuit has completed. Results are ready.'>, message='{\"name\": \"circuit-24109\", \"submit-date\": \"2023-01-05T18:58:09.325107\", \"result-date\": \"2023-01-05T18:59:45.190671\", \"queue-position\": null, \"cost\": \"18.95\", \"error\": null}', error_detail=None, completed_time=None, queued_time=None, submitted_time=None, running_time=None, cancelled_time=None, error_time=None, queue_position=None),\n",
       " CircuitStatus(status=<StatusEnum.COMPLETED: 'Circuit has completed. Results are ready.'>, message='{\"name\": \"circuit-26509\", \"submit-date\": \"2023-01-05T18:58:09.492194\", \"result-date\": \"2023-01-05T18:59:51.935985\", \"queue-position\": null, \"cost\": \"18.92\", \"error\": null}', error_detail=None, completed_time=None, queued_time=None, submitted_time=None, running_time=None, cancelled_time=None, error_time=None, queue_position=None),\n",
       " CircuitStatus(status=<StatusEnum.RUNNING: 'Circuit is running.'>, message='{\"name\": \"circuit-25309\", \"submit-date\": \"2023-01-05T18:58:09.705207\", \"result-date\": null, \"queue-position\": null, \"cost\": \"18.95\", \"error\": null}', error_detail=None, completed_time=None, queued_time=None, submitted_time=None, running_time=None, cancelled_time=None, error_time=None, queue_position=None),\n",
       " CircuitStatus(status=<StatusEnum.COMPLETED: 'Circuit has completed. Results are ready.'>, message='{\"name\": \"circuit-30109\", \"submit-date\": \"2023-01-05T18:58:09.895199\", \"result-date\": \"2023-01-05T19:00:47.252033\", \"queue-position\": null, \"cost\": \"19\", \"error\": null}', error_detail=None, completed_time=None, queued_time=None, submitted_time=None, running_time=None, cancelled_time=None, error_time=None, queue_position=None),\n",
       " CircuitStatus(status=<StatusEnum.RUNNING: 'Circuit is running.'>, message='{\"name\": \"circuit-22909\", \"submit-date\": \"2023-01-05T18:58:10.067422\", \"result-date\": null, \"queue-position\": null, \"cost\": \"18.92\", \"error\": null}', error_detail=None, completed_time=None, queued_time=None, submitted_time=None, running_time=None, cancelled_time=None, error_time=None, queue_position=None),\n",
       " CircuitStatus(status=<StatusEnum.QUEUED: 'Circuit is queued.'>, message='{\"name\": \"circuit-27709\", \"submit-date\": \"2023-01-05T18:58:10.236296\", \"result-date\": null, \"queue-position\": null, \"cost\": \"18.92\", \"error\": null}', error_detail=None, completed_time=None, queued_time=None, submitted_time=None, running_time=None, cancelled_time=None, error_time=None, queue_position=None),\n",
       " CircuitStatus(status=<StatusEnum.QUEUED: 'Circuit is queued.'>, message='{\"name\": \"circuit-19309\", \"submit-date\": \"2023-01-05T18:58:10.409571\", \"result-date\": null, \"queue-position\": null, \"cost\": \"18.97\", \"error\": null}', error_detail=None, completed_time=None, queued_time=None, submitted_time=None, running_time=None, cancelled_time=None, error_time=None, queue_position=None),\n",
       " CircuitStatus(status=<StatusEnum.QUEUED: 'Circuit is queued.'>, message='{\"name\": \"circuit-21709\", \"submit-date\": \"2023-01-05T18:58:10.607161\", \"result-date\": null, \"queue-position\": null, \"cost\": \"18.92\", \"error\": null}', error_detail=None, completed_time=None, queued_time=None, submitted_time=None, running_time=None, cancelled_time=None, error_time=None, queue_position=None),\n",
       " CircuitStatus(status=<StatusEnum.QUEUED: 'Circuit is queued.'>, message='{\"name\": \"circuit-28909\", \"submit-date\": \"2023-01-05T18:58:10.786388\", \"result-date\": null, \"queue-position\": null, \"cost\": \"19\", \"error\": null}', error_detail=None, completed_time=None, queued_time=None, submitted_time=None, running_time=None, cancelled_time=None, error_time=None, queue_position=None)]"
      ]
     },
     "execution_count": 322,
     "metadata": {},
     "output_type": "execute_result"
    }
   ],
   "source": [
    "[backend.circuit_status(handle) for handle in handle_dict.values()]"
   ]
  },
  {
   "cell_type": "code",
   "execution_count": 309,
   "metadata": {},
   "outputs": [
    {
     "name": "stdout",
     "output_type": "stream",
     "text": [
      "(14, 14, 0.253, 7) StatusEnum.COMPLETED {\"name\": \"circuit-112749\", \"submit-date\": \"2023-01-05T03:46:07.871289\", \"result-date\": \"2023-01-05T03:53:10.305794\", \"queue-position\": null, \"cost\": \"395.3\", \"error\": null}\n",
      "(10, 10, 0.306, 4) StatusEnum.ERROR {\"name\": \"circuit-112749\", \"submit-date\": \"2023-01-05T03:47:05.440855\", \"result-date\": null, \"queue-position\": null, \"cost\": \"0\", \"error\": {\"code\": 1002, \"text\": \"Job cost exceeds allowed cost\"}}\n",
      "(16, 16, 0.73, 8) StatusEnum.ERROR {\"name\": \"circuit-512226\", \"submit-date\": \"2023-01-05T03:47:05.915826\", \"result-date\": null, \"queue-position\": null, \"cost\": \"0\", \"error\": {\"code\": 1002, \"text\": \"Job cost exceeds allowed cost\"}}\n",
      "(8, 8, 0.571, 4) StatusEnum.ERROR {\"name\": \"circuit-64641\", \"submit-date\": \"2023-01-05T03:47:06.185621\", \"result-date\": null, \"queue-position\": null, \"cost\": \"0\", \"error\": {\"code\": 1002, \"text\": \"Job cost exceeds allowed cost\"}}\n",
      "(14, 14, 0.412, 7) StatusEnum.ERROR {\"name\": \"circuit-230712\", \"submit-date\": \"2023-01-05T03:47:06.552113\", \"result-date\": null, \"queue-position\": null, \"cost\": \"0\", \"error\": {\"code\": 1002, \"text\": \"Job cost exceeds allowed cost\"}}\n",
      "(8, 8, 0.783, 4) StatusEnum.ERROR {\"name\": \"circuit-80945\", \"submit-date\": \"2023-01-05T03:47:06.782628\", \"result-date\": null, \"queue-position\": null, \"cost\": \"0\", \"error\": {\"code\": 1002, \"text\": \"Job cost exceeds allowed cost\"}}\n",
      "(10, 10, 0.624, 5) StatusEnum.ERROR {\"name\": \"circuit-146849\", \"submit-date\": \"2023-01-05T03:47:07.035458\", \"result-date\": null, \"queue-position\": null, \"cost\": \"0\", \"error\": {\"code\": 1002, \"text\": \"Job cost exceeds allowed cost\"}}\n",
      "(10, 10, 0.465, 4) StatusEnum.ERROR {\"name\": \"circuit-131349\", \"submit-date\": \"2023-01-05T03:47:07.297890\", \"result-date\": null, \"queue-position\": null, \"cost\": \"0\", \"error\": {\"code\": 1002, \"text\": \"Job cost exceeds allowed cost\"}}\n",
      "(12, 12, 0.942, 5) StatusEnum.ERROR {\"name\": \"circuit-179329\", \"submit-date\": \"2023-01-05T03:47:07.594385\", \"result-date\": null, \"queue-position\": null, \"cost\": \"0\", \"error\": {\"code\": 1002, \"text\": \"Job cost exceeds allowed cost\"}}\n",
      "(8, 8, 0.942, 3) StatusEnum.ERROR {\"name\": \"circuit-95211\", \"submit-date\": \"2023-01-05T03:47:07.852118\", \"result-date\": null, \"queue-position\": null, \"cost\": \"0\", \"error\": {\"code\": 1002, \"text\": \"Job cost exceeds allowed cost\"}}\n",
      "(10, 10, 0.2, 4) StatusEnum.ERROR {\"name\": \"circuit-100349\", \"submit-date\": \"2023-01-05T03:47:08.167090\", \"result-date\": null, \"queue-position\": null, \"cost\": \"0\", \"error\": {\"code\": 1002, \"text\": \"Job cost exceeds allowed cost\"}}\n",
      "(12, 12, 0.2, 5) StatusEnum.ERROR {\"name\": \"circuit-57053\", \"submit-date\": \"2023-01-05T03:47:08.462610\", \"result-date\": null, \"queue-position\": null, \"cost\": \"0\", \"error\": {\"code\": 1002, \"text\": \"Job cost exceeds allowed cost\"}}\n",
      "(12, 12, 0.624, 6) StatusEnum.ERROR {\"name\": \"circuit-122558\", \"submit-date\": \"2023-01-05T03:47:08.774802\", \"result-date\": null, \"queue-position\": null, \"cost\": \"0\", \"error\": {\"code\": 1002, \"text\": \"Job cost exceeds allowed cost\"}}\n",
      "(10, 10, 0.571, 4) StatusEnum.ERROR {\"name\": \"circuit-143749\", \"submit-date\": \"2023-01-05T03:47:09.051973\", \"result-date\": null, \"queue-position\": null, \"cost\": \"0\", \"error\": {\"code\": 1002, \"text\": \"Job cost exceeds allowed cost\"}}\n",
      "(8, 8, 0.306, 4) StatusEnum.ERROR {\"name\": \"circuit-44261\", \"submit-date\": \"2023-01-05T03:47:09.259992\", \"result-date\": null, \"queue-position\": null, \"cost\": \"0\", \"error\": {\"code\": 1002, \"text\": \"Job cost exceeds allowed cost\"}}\n",
      "(14, 14, 0.889, 6) StatusEnum.CANCELLED {\"name\": \"circuit-342375\", \"submit-date\": \"2023-01-05T03:47:09.632265\", \"result-date\": null, \"queue-position\": null, \"cost\": \"0\", \"error\": null}\n",
      "(14, 14, 0.359, 6) StatusEnum.CANCELLED {\"name\": \"circuit-224835\", \"submit-date\": \"2023-01-05T03:47:09.999543\", \"result-date\": null, \"queue-position\": null, \"cost\": \"0\", \"error\": null}\n",
      "(14, 14, 0.677, 6) StatusEnum.CANCELLED {\"name\": \"circuit-295359\", \"submit-date\": \"2023-01-05T03:47:10.402376\", \"result-date\": null, \"queue-position\": null, \"cost\": \"0\", \"error\": null}\n",
      "(10, 10, 0.783, 4) StatusEnum.CANCELLED {\"name\": \"circuit-31119\", \"submit-date\": \"2023-01-05T03:47:10.682815\", \"result-date\": null, \"queue-position\": null, \"cost\": \"0\", \"error\": null}\n",
      "(14, 14, 0.836, 6) StatusEnum.CANCELLED {\"name\": \"circuit-330621\", \"submit-date\": \"2023-01-05T03:47:11.041002\", \"result-date\": null, \"queue-position\": null, \"cost\": \"0\", \"error\": null}\n",
      "(8, 8, 0.465, 4) StatusEnum.CANCELLED {\"name\": \"circuit-56489\", \"submit-date\": \"2023-01-05T03:47:11.294832\", \"result-date\": null, \"queue-position\": null, \"cost\": \"0\", \"error\": null}\n",
      "(14, 14, 0.518, 6) StatusEnum.CANCELLED {\"name\": \"circuit-260097\", \"submit-date\": \"2023-01-05T03:47:11.696288\", \"result-date\": null, \"queue-position\": null, \"cost\": \"0\", \"error\": null}\n",
      "(10, 10, 0.677, 5) StatusEnum.CANCELLED {\"name\": \"circuit-153049\", \"submit-date\": \"2023-01-05T03:47:12.226321\", \"result-date\": null, \"queue-position\": null, \"cost\": \"0\", \"error\": null}\n",
      "(10, 10, 0.518, 5) StatusEnum.CANCELLED {\"name\": \"circuit-134449\", \"submit-date\": \"2023-01-05T03:47:12.491945\", \"result-date\": null, \"queue-position\": null, \"cost\": \"0\", \"error\": null}\n",
      "(8, 8, 0.412, 4) StatusEnum.CANCELLED {\"name\": \"circuit-52413\", \"submit-date\": \"2023-01-05T03:47:12.715313\", \"result-date\": null, \"queue-position\": null, \"cost\": \"0\", \"error\": null}\n",
      "(10, 10, 0.836, 5) StatusEnum.CANCELLED {\"name\": \"circuit-34200\", \"submit-date\": \"2023-01-05T03:47:12.956675\", \"result-date\": null, \"queue-position\": null, \"cost\": \"0\", \"error\": null}\n",
      "(14, 14, 0.783, 7) StatusEnum.CANCELLED {\"name\": \"circuit-312990\", \"submit-date\": \"2023-01-05T03:47:13.320710\", \"result-date\": null, \"queue-position\": null, \"cost\": \"0\", \"error\": null}\n",
      "(14, 14, 0.571, 7) StatusEnum.CANCELLED {\"name\": \"circuit-265974\", \"submit-date\": \"2023-01-05T03:47:13.692929\", \"result-date\": null, \"queue-position\": null, \"cost\": \"0\", \"error\": null}\n",
      "(12, 12, 0.2, 6) StatusEnum.CANCELLED {\"name\": \"circuit-52686\", \"submit-date\": \"2023-01-05T03:47:14.032028\", \"result-date\": null, \"queue-position\": null, \"cost\": \"0\", \"error\": null}\n",
      "(10, 10, 0.359, 5) StatusEnum.CANCELLED {\"name\": \"circuit-115849\", \"submit-date\": \"2023-01-05T03:47:14.292065\", \"result-date\": null, \"queue-position\": null, \"cost\": \"0\", \"error\": null}\n",
      "(10, 10, 0.889, 5) StatusEnum.CANCELLED {\"name\": \"circuit-40362\", \"submit-date\": \"2023-01-05T03:47:14.554280\", \"result-date\": null, \"queue-position\": null, \"cost\": \"0\", \"error\": null}\n",
      "(16, 16, 0.2, 7) StatusEnum.CANCELLED {\"name\": \"circuit-367617\", \"submit-date\": \"2023-01-05T03:47:15.011931\", \"result-date\": null, \"queue-position\": null, \"cost\": \"0\", \"error\": null}\n",
      "(8, 8, 0.253, 4) StatusEnum.CANCELLED {\"name\": \"circuit-40185\", \"submit-date\": \"2023-01-05T03:47:15.259571\", \"result-date\": null, \"queue-position\": null, \"cost\": \"0\", \"error\": null}\n",
      "(14, 14, 0.2, 6) StatusEnum.CANCELLED {\"name\": \"circuit-189573\", \"submit-date\": \"2023-01-05T03:47:15.602085\", \"result-date\": null, \"queue-position\": null, \"cost\": \"0\", \"error\": null}\n",
      "(14, 14, 0.465, 7) StatusEnum.CANCELLED {\"name\": \"circuit-242466\", \"submit-date\": \"2023-01-05T03:47:15.975690\", \"result-date\": null, \"queue-position\": null, \"cost\": \"0\", \"error\": null}\n",
      "(14, 14, 0.624, 6) StatusEnum.CANCELLED {\"name\": \"circuit-283605\", \"submit-date\": \"2023-01-05T03:47:16.387109\", \"result-date\": null, \"queue-position\": null, \"cost\": \"0\", \"error\": null}\n",
      "(10, 10, 0.412, 4) StatusEnum.CANCELLED {\"name\": \"circuit-125149\", \"submit-date\": \"2023-01-05T03:47:16.685313\", \"result-date\": null, \"queue-position\": null, \"cost\": \"0\", \"error\": null}\n",
      "(12, 12, 0.359, 6) StatusEnum.CANCELLED {\"name\": \"circuit-78888\", \"submit-date\": \"2023-01-05T03:47:16.971790\", \"result-date\": null, \"queue-position\": null, \"cost\": \"0\", \"error\": null}\n",
      "(12, 12, 0.889, 6) StatusEnum.CANCELLED {\"name\": \"circuit-166228\", \"submit-date\": \"2023-01-05T03:47:17.260089\", \"result-date\": null, \"queue-position\": null, \"cost\": \"0\", \"error\": null}\n",
      "(12, 12, 0.677, 6) StatusEnum.CANCELLED {\"name\": \"circuit-131292\", \"submit-date\": \"2023-01-05T03:47:17.558361\", \"result-date\": null, \"queue-position\": null, \"cost\": \"0\", \"error\": null}\n",
      "(10, 10, 0.253, 4) StatusEnum.CANCELLED {\"name\": \"circuit-106549\", \"submit-date\": \"2023-01-05T03:47:17.815859\", \"result-date\": null, \"queue-position\": null, \"cost\": \"0\", \"error\": null}\n",
      "(14, 14, 0.306, 7) StatusEnum.CANCELLED {\"name\": \"circuit-207204\", \"submit-date\": \"2023-01-05T03:47:18.157923\", \"result-date\": null, \"queue-position\": null, \"cost\": \"0\", \"error\": null}\n",
      "(6, 6, 0.942, 3) StatusEnum.CANCELLED {\"name\": \"circuit-33709\", \"submit-date\": \"2023-01-05T03:47:18.377481\", \"result-date\": null, \"queue-position\": null, \"cost\": \"0\", \"error\": null}\n",
      "(12, 12, 0.518, 6) StatusEnum.CANCELLED {\"name\": \"circuit-105090\", \"submit-date\": \"2023-01-05T03:47:18.667690\", \"result-date\": null, \"queue-position\": null, \"cost\": \"0\", \"error\": null}\n",
      "(12, 12, 0.836, 6) StatusEnum.CANCELLED {\"name\": \"circuit-157494\", \"submit-date\": \"2023-01-05T03:47:18.966163\", \"result-date\": null, \"queue-position\": null, \"cost\": \"0\", \"error\": null}\n",
      "(14, 14, 0.889, 7) StatusEnum.CANCELLED {\"name\": \"circuit-336498\", \"submit-date\": \"2023-01-05T03:47:19.338606\", \"result-date\": null, \"queue-position\": null, \"cost\": \"0\", \"error\": null}\n",
      "(14, 14, 0.359, 7) StatusEnum.CANCELLED {\"name\": \"circuit-218958\", \"submit-date\": \"2023-01-05T03:47:19.695062\", \"result-date\": null, \"queue-position\": null, \"cost\": \"0\", \"error\": null}\n",
      "(8, 8, 0.73, 4) StatusEnum.CANCELLED {\"name\": \"circuit-76869\", \"submit-date\": \"2023-01-05T03:47:19.912012\", \"result-date\": null, \"queue-position\": null, \"cost\": \"0\", \"error\": null}\n",
      "(10, 10, 0.571, 5) StatusEnum.CANCELLED {\"name\": \"circuit-140649\", \"submit-date\": \"2023-01-05T03:47:20.148285\", \"result-date\": null, \"queue-position\": null, \"cost\": \"0\", \"error\": null}\n",
      "(12, 12, 0.465, 6) StatusEnum.CANCELLED {\"name\": \"circuit-96356\", \"submit-date\": \"2023-01-05T03:47:20.433639\", \"result-date\": null, \"queue-position\": null, \"cost\": \"0\", \"error\": null}\n",
      "(14, 14, 0.518, 7) StatusEnum.CANCELLED {\"name\": \"circuit-254220\", \"submit-date\": \"2023-01-05T03:47:20.777315\", \"result-date\": null, \"queue-position\": null, \"cost\": \"0\", \"error\": null}\n",
      "(10, 10, 0.783, 5) StatusEnum.CANCELLED {\"name\": \"circuit-28038\", \"submit-date\": \"2023-01-05T03:47:21.082796\", \"result-date\": null, \"queue-position\": null, \"cost\": \"0\", \"error\": null}\n",
      "(8, 8, 0.624, 4) StatusEnum.CANCELLED {\"name\": \"circuit-68717\", \"submit-date\": \"2023-01-05T03:47:21.291943\", \"result-date\": null, \"queue-position\": null, \"cost\": \"0\", \"error\": null}\n",
      "(14, 14, 0.836, 7) StatusEnum.CANCELLED {\"name\": \"circuit-324744\", \"submit-date\": \"2023-01-05T03:47:21.618596\", \"result-date\": null, \"queue-position\": null, \"cost\": \"0\", \"error\": null}\n",
      "(14, 14, 0.677, 7) StatusEnum.CANCELLED {\"name\": \"circuit-289482\", \"submit-date\": \"2023-01-05T03:47:21.982375\", \"result-date\": null, \"queue-position\": null, \"cost\": \"0\", \"error\": null}\n",
      "(12, 12, 0.73, 5) StatusEnum.CANCELLED {\"name\": \"circuit-144393\", \"submit-date\": \"2023-01-05T03:47:22.287349\", \"result-date\": null, \"queue-position\": null, \"cost\": \"0\", \"error\": null}\n",
      "(12, 12, 0.306, 6) StatusEnum.CANCELLED {\"name\": \"circuit-70154\", \"submit-date\": \"2023-01-05T03:47:22.593410\", \"result-date\": null, \"queue-position\": null, \"cost\": \"0\", \"error\": null}\n",
      "(12, 12, 0.73, 6) StatusEnum.CANCELLED {\"name\": \"circuit-140026\", \"submit-date\": \"2023-01-05T03:47:22.932038\", \"result-date\": null, \"queue-position\": null, \"cost\": \"0\", \"error\": null}\n",
      "(12, 12, 0.783, 6) StatusEnum.CANCELLED {\"name\": \"circuit-148760\", \"submit-date\": \"2023-01-05T03:47:23.282800\", \"result-date\": null, \"queue-position\": null, \"cost\": \"0\", \"error\": null}\n",
      "(10, 10, 0.73, 5) StatusEnum.CANCELLED {\"name\": \"circuit-21876\", \"submit-date\": \"2023-01-05T03:47:23.555100\", \"result-date\": null, \"queue-position\": null, \"cost\": \"0\", \"error\": null}\n",
      "(10, 10, 0.306, 5) StatusEnum.CANCELLED {\"name\": \"circuit-109649\", \"submit-date\": \"2023-01-05T03:47:23.814132\", \"result-date\": null, \"queue-position\": null, \"cost\": \"0\", \"error\": null}\n",
      "(14, 14, 0.253, 6) StatusEnum.CANCELLED {\"name\": \"circuit-201327\", \"submit-date\": \"2023-01-05T03:47:24.159450\", \"result-date\": null, \"queue-position\": null, \"cost\": \"0\", \"error\": null}\n",
      "(10, 10, 0.73, 4) StatusEnum.CANCELLED {\"name\": \"circuit-24957\", \"submit-date\": \"2023-01-05T03:47:24.425125\", \"result-date\": null, \"queue-position\": null, \"cost\": \"0\", \"error\": null}\n",
      "(12, 12, 0.571, 6) StatusEnum.CANCELLED {\"name\": \"circuit-113824\", \"submit-date\": \"2023-01-05T03:47:24.696037\", \"result-date\": null, \"queue-position\": null, \"cost\": \"0\", \"error\": null}\n",
      "(8, 8, 0.2, 4) StatusEnum.CANCELLED {\"name\": \"circuit-36109\", \"submit-date\": \"2023-01-05T03:47:24.948145\", \"result-date\": null, \"queue-position\": null, \"cost\": \"0\", \"error\": null}\n",
      "(10, 10, 0.624, 4) StatusEnum.CANCELLED {\"name\": \"circuit-149949\", \"submit-date\": \"2023-01-05T03:47:25.213809\", \"result-date\": null, \"queue-position\": null, \"cost\": \"0\", \"error\": null}\n",
      "(10, 10, 0.465, 5) StatusEnum.CANCELLED {\"name\": \"circuit-128249\", \"submit-date\": \"2023-01-05T03:47:25.462573\", \"result-date\": null, \"queue-position\": null, \"cost\": \"0\", \"error\": null}\n",
      "(14, 14, 0.412, 6) StatusEnum.CANCELLED {\"name\": \"circuit-236589\", \"submit-date\": \"2023-01-05T03:47:25.817967\", \"result-date\": null, \"queue-position\": null, \"cost\": \"0\", \"error\": null}\n",
      "(8, 8, 0.677, 4) StatusEnum.CANCELLED {\"name\": \"circuit-72793\", \"submit-date\": \"2023-01-05T03:47:26.073937\", \"result-date\": null, \"queue-position\": null, \"cost\": \"0\", \"error\": null}\n",
      "(6, 6, 0.2, 3) StatusEnum.CANCELLED {\"name\": \"circuit-109\", \"submit-date\": \"2023-01-05T03:47:26.275401\", \"result-date\": null, \"queue-position\": null, \"cost\": \"0\", \"error\": null}\n",
      "(10, 10, 0.412, 5) StatusEnum.CANCELLED {\"name\": \"circuit-122049\", \"submit-date\": \"2023-01-05T03:47:26.516987\", \"result-date\": null, \"queue-position\": null, \"cost\": \"0\", \"error\": null}\n",
      "(8, 8, 0.836, 4) StatusEnum.CANCELLED {\"name\": \"circuit-85021\", \"submit-date\": \"2023-01-05T03:47:26.725692\", \"result-date\": null, \"queue-position\": null, \"cost\": \"0\", \"error\": null}\n",
      "(14, 14, 0.465, 6) StatusEnum.CANCELLED {\"name\": \"circuit-248343\", \"submit-date\": \"2023-01-05T03:47:27.088537\", \"result-date\": null, \"queue-position\": null, \"cost\": \"0\", \"error\": null}\n",
      "(14, 14, 0.624, 7) StatusEnum.CANCELLED {\"name\": \"circuit-277728\", \"submit-date\": \"2023-01-05T03:47:27.472070\", \"result-date\": null, \"queue-position\": null, \"cost\": \"0\", \"error\": null}\n",
      "(8, 8, 0.518, 4) StatusEnum.CANCELLED {\"name\": \"circuit-60565\", \"submit-date\": \"2023-01-05T03:47:27.735068\", \"result-date\": null, \"queue-position\": null, \"cost\": \"0\", \"error\": null}\n",
      "(16, 16, 0.942, 7) StatusEnum.CANCELLED {\"name\": \"circuit-580725\", \"submit-date\": \"2023-01-05T03:47:28.197040\", \"result-date\": null, \"queue-position\": null, \"cost\": \"0\", \"error\": null}\n",
      "(16, 16, 0.73, 7) StatusEnum.CANCELLED {\"name\": \"circuit-519837\", \"submit-date\": \"2023-01-05T03:47:28.676716\", \"result-date\": null, \"queue-position\": null, \"cost\": \"0\", \"error\": null}\n",
      "(14, 14, 0.306, 6) StatusEnum.CANCELLED {\"name\": \"circuit-213081\", \"submit-date\": \"2023-01-05T03:47:29.050957\", \"result-date\": null, \"queue-position\": null, \"cost\": \"0\", \"error\": null}\n",
      "(10, 10, 0.253, 5) StatusEnum.CANCELLED {\"name\": \"circuit-103449\", \"submit-date\": \"2023-01-05T03:47:29.345535\", \"result-date\": null, \"queue-position\": null, \"cost\": \"0\", \"error\": null}\n",
      "(6, 6, 0.942, 2) StatusEnum.CANCELLED {\"name\": \"circuit-34909\", \"submit-date\": \"2023-01-05T03:47:29.551895\", \"result-date\": null, \"queue-position\": null, \"cost\": \"0\", \"error\": null}\n",
      "(8, 8, 0.359, 4) StatusEnum.CANCELLED {\"name\": \"circuit-48337\", \"submit-date\": \"2023-01-05T03:47:29.770696\", \"result-date\": null, \"queue-position\": null, \"cost\": \"0\", \"error\": null}\n",
      "(8, 8, 0.889, 4) StatusEnum.CANCELLED {\"name\": \"circuit-89097\", \"submit-date\": \"2023-01-05T03:47:30.030081\", \"result-date\": null, \"queue-position\": null, \"cost\": \"0\", \"error\": null}\n",
      "(10, 10, 0.836, 4) StatusEnum.CANCELLED {\"name\": \"circuit-37281\", \"submit-date\": \"2023-01-05T03:47:30.284095\", \"result-date\": null, \"queue-position\": null, \"cost\": \"0\", \"error\": null}\n",
      "(14, 14, 0.783, 6) StatusEnum.CANCELLED {\"name\": \"circuit-318867\", \"submit-date\": \"2023-01-05T03:47:30.645763\", \"result-date\": null, \"queue-position\": null, \"cost\": \"0\", \"error\": null}\n",
      "(10, 10, 0.518, 4) StatusEnum.CANCELLED {\"name\": \"circuit-137549\", \"submit-date\": \"2023-01-05T03:47:30.934509\", \"result-date\": null, \"queue-position\": null, \"cost\": \"0\", \"error\": null}\n",
      "(8, 8, 0.73, 3) StatusEnum.CANCELLED {\"name\": \"circuit-78907\", \"submit-date\": \"2023-01-05T03:47:31.175539\", \"result-date\": null, \"queue-position\": null, \"cost\": \"0\", \"error\": null}\n",
      "(12, 12, 0.253, 6) StatusEnum.CANCELLED {\"name\": \"circuit-61420\", \"submit-date\": \"2023-01-05T03:47:31.472527\", \"result-date\": null, \"queue-position\": null, \"cost\": \"0\", \"error\": null}\n",
      "(14, 14, 0.73, 7) StatusEnum.CANCELLED {\"name\": \"circuit-301236\", \"submit-date\": \"2023-01-05T03:47:31.851897\", \"result-date\": null, \"queue-position\": null, \"cost\": \"0\", \"error\": null}\n",
      "(10, 10, 0.677, 4) StatusEnum.CANCELLED {\"name\": \"circuit-156149\", \"submit-date\": \"2023-01-05T03:47:32.160997\", \"result-date\": null, \"queue-position\": null, \"cost\": \"0\", \"error\": null}\n",
      "(10, 10, 0.359, 4) StatusEnum.CANCELLED {\"name\": \"circuit-118949\", \"submit-date\": \"2023-01-05T03:47:32.403267\", \"result-date\": null, \"queue-position\": null, \"cost\": \"0\", \"error\": null}\n",
      "(16, 16, 0.942, 8) StatusEnum.CANCELLED {\"name\": \"circuit-573114\", \"submit-date\": \"2023-01-05T03:47:32.902554\", \"result-date\": null, \"queue-position\": null, \"cost\": \"0\", \"error\": null}\n",
      "(10, 10, 0.889, 4) StatusEnum.CANCELLED {\"name\": \"circuit-43443\", \"submit-date\": \"2023-01-05T03:47:33.459921\", \"result-date\": null, \"queue-position\": null, \"cost\": \"0\", \"error\": null}\n",
      "(14, 14, 0.73, 6) StatusEnum.CANCELLED {\"name\": \"circuit-307113\", \"submit-date\": \"2023-01-05T03:47:33.938027\", \"result-date\": null, \"queue-position\": null, \"cost\": \"0\", \"error\": null}\n",
      "(12, 12, 0.412, 6) StatusEnum.CANCELLED {\"name\": \"circuit-87622\", \"submit-date\": \"2023-01-05T03:47:34.479997\", \"result-date\": null, \"queue-position\": null, \"cost\": \"0\", \"error\": null}\n",
      "(14, 14, 0.571, 6) StatusEnum.CANCELLED {\"name\": \"circuit-271851\", \"submit-date\": \"2023-01-05T03:47:34.901749\", \"result-date\": null, \"queue-position\": null, \"cost\": \"0\", \"error\": null}\n",
      "(8, 8, 0.412, 3) StatusEnum.CANCELLED {\"name\": \"circuit-54451\", \"submit-date\": \"2023-01-05T03:47:35.163921\", \"result-date\": null, \"queue-position\": null, \"cost\": \"0\", \"error\": null}\n",
      "(16, 16, 0.624, 7) StatusEnum.CANCELLED {\"name\": \"circuit-489393\", \"submit-date\": \"2023-01-05T03:47:35.657101\", \"result-date\": null, \"queue-position\": null, \"cost\": \"0\", \"error\": null}\n",
      "(12, 12, 0.412, 5) StatusEnum.CANCELLED {\"name\": \"circuit-91989\", \"submit-date\": \"2023-01-05T03:47:36.003860\", \"result-date\": null, \"queue-position\": null, \"cost\": \"0\", \"error\": null}\n",
      "(14, 14, 0.942, 7) StatusEnum.CANCELLED {\"name\": \"circuit-348252\", \"submit-date\": \"2023-01-05T03:47:36.413808\", \"result-date\": null, \"queue-position\": null, \"cost\": \"0\", \"error\": null}\n",
      "(6, 6, 0.306, 3) StatusEnum.CANCELLED {\"name\": \"circuit-4909\", \"submit-date\": \"2023-01-05T03:47:36.635788\", \"result-date\": null, \"queue-position\": null, \"cost\": \"0\", \"error\": null}\n",
      "(6, 6, 0.2, 2) StatusEnum.CANCELLED {\"name\": \"circuit-1309\", \"submit-date\": \"2023-01-05T03:47:36.835332\", \"result-date\": null, \"queue-position\": null, \"cost\": \"0\", \"error\": null}\n",
      "(8, 8, 0.253, 3) StatusEnum.CANCELLED {\"name\": \"circuit-42223\", \"submit-date\": \"2023-01-05T03:47:37.040424\", \"result-date\": null, \"queue-position\": null, \"cost\": \"0\", \"error\": null}\n",
      "(12, 12, 0.253, 5) StatusEnum.CANCELLED {\"name\": \"circuit-65787\", \"submit-date\": \"2023-01-05T03:47:37.315808\", \"result-date\": null, \"queue-position\": null, \"cost\": \"0\", \"error\": null}\n",
      "(6, 6, 0.624, 2) StatusEnum.ERROR {\"name\": \"circuit-20509\", \"submit-date\": \"2023-01-05T03:47:37.542816\", \"result-date\": null, \"queue-position\": null, \"cost\": \"0\", \"error\": {\"code\": 1002, \"text\": \"Job cost exceeds allowed cost\"}}\n",
      "(6, 6, 0.465, 3) StatusEnum.CANCELLED {\"name\": \"circuit-12109\", \"submit-date\": \"2023-01-05T03:47:37.739480\", \"result-date\": null, \"queue-position\": null, \"cost\": \"0\", \"error\": null}\n",
      "(6, 6, 0.73, 3) StatusEnum.CANCELLED {\"name\": \"circuit-24109\", \"submit-date\": \"2023-01-05T03:47:37.924824\", \"result-date\": null, \"queue-position\": null, \"cost\": \"0\", \"error\": null}\n",
      "(6, 6, 0.571, 3) StatusEnum.CANCELLED {\"name\": \"circuit-16909\", \"submit-date\": \"2023-01-05T03:47:38.119799\", \"result-date\": null, \"queue-position\": null, \"cost\": \"0\", \"error\": null}\n",
      "(16, 16, 0.624, 8) StatusEnum.CANCELLED {\"name\": \"circuit-481782\", \"submit-date\": \"2023-01-05T03:47:38.652093\", \"result-date\": null, \"queue-position\": null, \"cost\": \"0\", \"error\": null}\n",
      "(6, 6, 0.783, 3) StatusEnum.CANCELLED {\"name\": \"circuit-26509\", \"submit-date\": \"2023-01-05T03:47:38.900280\", \"result-date\": null, \"queue-position\": null, \"cost\": \"0\", \"error\": null}\n",
      "(6, 6, 0.73, 2) StatusEnum.CANCELLED {\"name\": \"circuit-25309\", \"submit-date\": \"2023-01-05T03:47:39.078199\", \"result-date\": null, \"queue-position\": null, \"cost\": \"0\", \"error\": null}\n",
      "(16, 16, 0.889, 7) StatusEnum.CANCELLED {\"name\": \"circuit-565503\", \"submit-date\": \"2023-01-05T03:47:39.555109\", \"result-date\": null, \"queue-position\": null, \"cost\": \"0\", \"error\": null}\n",
      "(6, 6, 0.836, 2) StatusEnum.CANCELLED {\"name\": \"circuit-30109\", \"submit-date\": \"2023-01-05T03:47:39.796163\", \"result-date\": null, \"queue-position\": null, \"cost\": \"0\", \"error\": null}\n",
      "(16, 16, 0.359, 7) StatusEnum.CANCELLED {\"name\": \"circuit-413283\", \"submit-date\": \"2023-01-05T03:47:40.303799\", \"result-date\": null, \"queue-position\": null, \"cost\": \"0\", \"error\": null}\n",
      "(8, 8, 0.571, 3) StatusEnum.CANCELLED {\"name\": \"circuit-66679\", \"submit-date\": \"2023-01-05T03:47:40.575760\", \"result-date\": null, \"queue-position\": null, \"cost\": \"0\", \"error\": null}\n",
      "(6, 6, 0.518, 2) StatusEnum.CANCELLED {\"name\": \"circuit-15709\", \"submit-date\": \"2023-01-05T03:47:40.774833\", \"result-date\": null, \"queue-position\": null, \"cost\": \"0\", \"error\": null}\n",
      "(12, 12, 0.571, 5) StatusEnum.CANCELLED {\"name\": \"circuit-118191\", \"submit-date\": \"2023-01-05T03:47:41.085475\", \"result-date\": null, \"queue-position\": null, \"cost\": \"0\", \"error\": null}\n",
      "(6, 6, 0.677, 2) StatusEnum.CANCELLED {\"name\": \"circuit-22909\", \"submit-date\": \"2023-01-05T03:47:41.314389\", \"result-date\": null, \"queue-position\": null, \"cost\": \"0\", \"error\": null}\n",
      "(8, 8, 0.942, 4) StatusEnum.CANCELLED {\"name\": \"circuit-93173\", \"submit-date\": \"2023-01-05T03:47:41.524779\", \"result-date\": null, \"queue-position\": null, \"cost\": \"0\", \"error\": null}\n",
      "(16, 16, 0.518, 7) StatusEnum.CANCELLED {\"name\": \"circuit-458949\", \"submit-date\": \"2023-01-05T03:47:41.988151\", \"result-date\": null, \"queue-position\": null, \"cost\": \"0\", \"error\": null}\n",
      "(6, 6, 0.359, 2) StatusEnum.CANCELLED {\"name\": \"circuit-8509\", \"submit-date\": \"2023-01-05T03:47:42.263375\", \"result-date\": null, \"queue-position\": null, \"cost\": \"0\", \"error\": null}\n",
      "(12, 12, 0.783, 5) StatusEnum.CANCELLED {\"name\": \"circuit-153127\", \"submit-date\": \"2023-01-05T03:47:42.538673\", \"result-date\": null, \"queue-position\": null, \"cost\": \"0\", \"error\": null}\n",
      "(6, 6, 0.889, 2) StatusEnum.CANCELLED {\"name\": \"circuit-32509\", \"submit-date\": \"2023-01-05T03:47:42.744228\", \"result-date\": null, \"queue-position\": null, \"cost\": \"0\", \"error\": null}\n",
      "(16, 16, 0.836, 7) StatusEnum.CANCELLED {\"name\": \"circuit-550281\", \"submit-date\": \"2023-01-05T03:47:43.247858\", \"result-date\": null, \"queue-position\": null, \"cost\": \"0\", \"error\": null}\n",
      "(8, 8, 0.783, 3) StatusEnum.CANCELLED {\"name\": \"circuit-82983\", \"submit-date\": \"2023-01-05T03:47:43.527259\", \"result-date\": null, \"queue-position\": null, \"cost\": \"0\", \"error\": null}\n",
      "(16, 16, 0.677, 7) StatusEnum.CANCELLED {\"name\": \"circuit-504615\", \"submit-date\": \"2023-01-05T03:47:43.985997\", \"result-date\": null, \"queue-position\": null, \"cost\": \"0\", \"error\": null}\n",
      "(8, 8, 0.306, 3) StatusEnum.CANCELLED {\"name\": \"circuit-46299\", \"submit-date\": \"2023-01-05T03:47:44.253308\", \"result-date\": null, \"queue-position\": null, \"cost\": \"0\", \"error\": null}\n",
      "(16, 16, 0.677, 8) StatusEnum.CANCELLED {\"name\": \"circuit-497004\", \"submit-date\": \"2023-01-05T03:47:44.693670\", \"result-date\": null, \"queue-position\": null, \"cost\": \"0\", \"error\": null}\n",
      "(16, 16, 0.518, 8) StatusEnum.CANCELLED {\"name\": \"circuit-451338\", \"submit-date\": \"2023-01-05T03:47:45.182820\", \"result-date\": null, \"queue-position\": null, \"cost\": \"0\", \"error\": null}\n",
      "(6, 6, 0.412, 3) StatusEnum.CANCELLED {\"name\": \"circuit-9709\", \"submit-date\": \"2023-01-05T03:47:45.440008\", \"result-date\": null, \"queue-position\": null, \"cost\": \"0\", \"error\": null}\n",
      "(16, 16, 0.836, 8) StatusEnum.CANCELLED {\"name\": \"circuit-542670\", \"submit-date\": \"2023-01-05T03:47:45.901743\", \"result-date\": null, \"queue-position\": null, \"cost\": \"0\", \"error\": null}\n",
      "(12, 12, 0.306, 5) StatusEnum.CANCELLED {\"name\": \"circuit-74521\", \"submit-date\": \"2023-01-05T03:47:46.255530\", \"result-date\": null, \"queue-position\": null, \"cost\": \"0\", \"error\": null}\n",
      "(8, 8, 0.465, 3) StatusEnum.CANCELLED {\"name\": \"circuit-58527\", \"submit-date\": \"2023-01-05T03:47:46.488637\", \"result-date\": null, \"queue-position\": null, \"cost\": \"0\", \"error\": null}\n",
      "(6, 6, 0.253, 3) StatusEnum.CANCELLED {\"name\": \"circuit-2509\", \"submit-date\": \"2023-01-05T03:47:46.702670\", \"result-date\": null, \"queue-position\": null, \"cost\": \"0\", \"error\": null}\n",
      "(16, 16, 0.889, 8) StatusEnum.CANCELLED {\"name\": \"circuit-557892\", \"submit-date\": \"2023-01-05T03:47:47.192439\", \"result-date\": null, \"queue-position\": null, \"cost\": \"0\", \"error\": null}\n",
      "(16, 16, 0.359, 8) StatusEnum.CANCELLED {\"name\": \"circuit-405672\", \"submit-date\": \"2023-01-05T03:47:47.694373\", \"result-date\": null, \"queue-position\": null, \"cost\": \"0\", \"error\": null}\n",
      "(10, 10, 0.942, 4) StatusEnum.CANCELLED {\"name\": \"circuit-49605\", \"submit-date\": \"2023-01-05T03:47:47.964401\", \"result-date\": null, \"queue-position\": null, \"cost\": \"0\", \"error\": null}\n",
      "(12, 12, 0.465, 5) StatusEnum.CANCELLED {\"name\": \"circuit-100723\", \"submit-date\": \"2023-01-05T03:47:48.239094\", \"result-date\": null, \"queue-position\": null, \"cost\": \"0\", \"error\": null}\n",
      "(8, 8, 0.836, 3) StatusEnum.CANCELLED {\"name\": \"circuit-87059\", \"submit-date\": \"2023-01-05T03:47:48.456197\", \"result-date\": null, \"queue-position\": null, \"cost\": \"0\", \"error\": null}\n",
      "(12, 12, 0.677, 5) StatusEnum.CANCELLED {\"name\": \"circuit-135659\", \"submit-date\": \"2023-01-05T03:47:48.735496\", \"result-date\": null, \"queue-position\": null, \"cost\": \"0\", \"error\": null}\n",
      "(8, 8, 0.2, 3) StatusEnum.CANCELLED {\"name\": \"circuit-38147\", \"submit-date\": \"2023-01-05T03:47:48.944243\", \"result-date\": null, \"queue-position\": null, \"cost\": \"0\", \"error\": null}\n",
      "(8, 8, 0.518, 3) StatusEnum.CANCELLED {\"name\": \"circuit-62603\", \"submit-date\": \"2023-01-05T03:47:49.212032\", \"result-date\": null, \"queue-position\": null, \"cost\": \"0\", \"error\": null}\n",
      "(6, 6, 0.571, 2) StatusEnum.CANCELLED {\"name\": \"circuit-18109\", \"submit-date\": \"2023-01-05T03:47:49.397344\", \"result-date\": null, \"queue-position\": null, \"cost\": \"0\", \"error\": null}\n",
      "(12, 12, 0.518, 5) StatusEnum.CANCELLED {\"name\": \"circuit-109457\", \"submit-date\": \"2023-01-05T03:47:49.687735\", \"result-date\": null, \"queue-position\": null, \"cost\": \"0\", \"error\": null}\n",
      "(12, 12, 0.836, 5) StatusEnum.CANCELLED {\"name\": \"circuit-161861\", \"submit-date\": \"2023-01-05T03:47:49.957542\", \"result-date\": null, \"queue-position\": null, \"cost\": \"0\", \"error\": null}\n",
      "(16, 16, 0.306, 8) StatusEnum.CANCELLED {\"name\": \"circuit-390450\", \"submit-date\": \"2023-01-05T03:47:50.397641\", \"result-date\": null, \"queue-position\": null, \"cost\": \"0\", \"error\": null}\n",
      "(16, 16, 0.783, 7) StatusEnum.CANCELLED {\"name\": \"circuit-535059\", \"submit-date\": \"2023-01-05T03:47:50.856621\", \"result-date\": null, \"queue-position\": null, \"cost\": \"0\", \"error\": null}\n",
      "(8, 8, 0.677, 3) StatusEnum.CANCELLED {\"name\": \"circuit-74831\", \"submit-date\": \"2023-01-05T03:47:51.150114\", \"result-date\": null, \"queue-position\": null, \"cost\": \"0\", \"error\": null}\n",
      "(16, 16, 0.571, 7) StatusEnum.CANCELLED {\"name\": \"circuit-474171\", \"submit-date\": \"2023-01-05T03:47:51.565809\", \"result-date\": null, \"queue-position\": null, \"cost\": \"0\", \"error\": null}\n",
      "(8, 8, 0.889, 3) StatusEnum.CANCELLED {\"name\": \"circuit-91135\", \"submit-date\": \"2023-01-05T03:47:51.823035\", \"result-date\": null, \"queue-position\": null, \"cost\": \"0\", \"error\": null}\n",
      "(8, 8, 0.359, 3) StatusEnum.CANCELLED {\"name\": \"circuit-50375\", \"submit-date\": \"2023-01-05T03:47:52.036523\", \"result-date\": null, \"queue-position\": null, \"cost\": \"0\", \"error\": null}\n",
      "(6, 6, 0.783, 2) StatusEnum.CANCELLED {\"name\": \"circuit-27709\", \"submit-date\": \"2023-01-05T03:47:52.243820\", \"result-date\": null, \"queue-position\": null, \"cost\": \"0\", \"error\": null}\n",
      "(12, 12, 0.359, 5) StatusEnum.CANCELLED {\"name\": \"circuit-83255\", \"submit-date\": \"2023-01-05T03:47:52.528460\", \"result-date\": null, \"queue-position\": null, \"cost\": \"0\", \"error\": null}\n",
      "(12, 12, 0.889, 5) StatusEnum.CANCELLED {\"name\": \"circuit-170595\", \"submit-date\": \"2023-01-05T03:47:52.823909\", \"result-date\": null, \"queue-position\": null, \"cost\": \"0\", \"error\": null}\n",
      "(16, 16, 0.465, 8) StatusEnum.CANCELLED {\"name\": \"circuit-436116\", \"submit-date\": \"2023-01-05T03:47:53.277950\", \"result-date\": null, \"queue-position\": null, \"cost\": \"0\", \"error\": null}\n",
      "(14, 14, 0.942, 6) StatusEnum.CANCELLED {\"name\": \"circuit-354129\", \"submit-date\": \"2023-01-05T03:47:53.699352\", \"result-date\": null, \"queue-position\": null, \"cost\": \"0\", \"error\": null}\n",
      "(6, 6, 0.306, 2) StatusEnum.CANCELLED {\"name\": \"circuit-6109\", \"submit-date\": \"2023-01-05T03:47:53.935821\", \"result-date\": null, \"queue-position\": null, \"cost\": \"0\", \"error\": null}\n",
      "(16, 16, 0.465, 7) StatusEnum.CANCELLED {\"name\": \"circuit-443727\", \"submit-date\": \"2023-01-05T03:47:54.353341\", \"result-date\": null, \"queue-position\": null, \"cost\": \"0\", \"error\": null}\n",
      "(16, 16, 0.571, 8) StatusEnum.CANCELLED {\"name\": \"circuit-466560\", \"submit-date\": \"2023-01-05T03:47:54.833904\", \"result-date\": null, \"queue-position\": null, \"cost\": \"0\", \"error\": null}\n",
      "(14, 14, 0.2, 7) StatusEnum.CANCELLED {\"name\": \"circuit-183696\", \"submit-date\": \"2023-01-05T03:47:55.217260\", \"result-date\": null, \"queue-position\": null, \"cost\": \"0\", \"error\": null}\n",
      "(6, 6, 0.624, 3) StatusEnum.CANCELLED {\"name\": \"circuit-19309\", \"submit-date\": \"2023-01-05T03:47:55.462574\", \"result-date\": null, \"queue-position\": null, \"cost\": \"0\", \"error\": null}\n",
      "(6, 6, 0.465, 2) StatusEnum.CANCELLED {\"name\": \"circuit-13309\", \"submit-date\": \"2023-01-05T03:47:55.690255\", \"result-date\": null, \"queue-position\": null, \"cost\": \"0\", \"error\": null}\n",
      "(16, 16, 0.306, 7) StatusEnum.CANCELLED {\"name\": \"circuit-398061\", \"submit-date\": \"2023-01-05T03:47:56.120667\", \"result-date\": null, \"queue-position\": null, \"cost\": \"0\", \"error\": null}\n",
      "(16, 16, 0.783, 8) StatusEnum.CANCELLED {\"name\": \"circuit-527448\", \"submit-date\": \"2023-01-05T03:47:56.627384\", \"result-date\": null, \"queue-position\": null, \"cost\": \"0\", \"error\": null}\n",
      "(16, 16, 0.253, 7) StatusEnum.CANCELLED {\"name\": \"circuit-382839\", \"submit-date\": \"2023-01-05T03:47:57.158515\", \"result-date\": null, \"queue-position\": null, \"cost\": \"0\", \"error\": null}\n",
      "(6, 6, 0.412, 2) StatusEnum.CANCELLED {\"name\": \"circuit-10909\", \"submit-date\": \"2023-01-05T03:47:57.421306\", \"result-date\": null, \"queue-position\": null, \"cost\": \"0\", \"error\": null}\n",
      "(10, 10, 0.2, 5) StatusEnum.CANCELLED {\"name\": \"circuit-97249\", \"submit-date\": \"2023-01-05T03:47:57.645264\", \"result-date\": null, \"queue-position\": null, \"cost\": \"0\", \"error\": null}\n",
      "(12, 12, 0.624, 5) StatusEnum.CANCELLED {\"name\": \"circuit-126925\", \"submit-date\": \"2023-01-05T03:47:57.918706\", \"result-date\": null, \"queue-position\": null, \"cost\": \"0\", \"error\": null}\n",
      "(16, 16, 0.412, 7) StatusEnum.CANCELLED {\"name\": \"circuit-428505\", \"submit-date\": \"2023-01-05T03:47:58.365423\", \"result-date\": null, \"queue-position\": null, \"cost\": \"0\", \"error\": null}\n",
      "(6, 6, 0.253, 2) StatusEnum.CANCELLED {\"name\": \"circuit-3709\", \"submit-date\": \"2023-01-05T03:47:58.595267\", \"result-date\": null, \"queue-position\": null, \"cost\": \"0\", \"error\": null}\n",
      "(10, 10, 0.942, 5) StatusEnum.CANCELLED {\"name\": \"circuit-46524\", \"submit-date\": \"2023-01-05T03:47:58.842280\", \"result-date\": null, \"queue-position\": null, \"cost\": \"0\", \"error\": null}\n",
      "(8, 8, 0.624, 3) StatusEnum.CANCELLED {\"name\": \"circuit-70755\", \"submit-date\": \"2023-01-05T03:47:59.077387\", \"result-date\": null, \"queue-position\": null, \"cost\": \"0\", \"error\": null}\n",
      "(6, 6, 0.677, 3) StatusEnum.CANCELLED {\"name\": \"circuit-21709\", \"submit-date\": \"2023-01-05T03:47:59.266787\", \"result-date\": null, \"queue-position\": null, \"cost\": \"0\", \"error\": null}\n",
      "(12, 12, 0.942, 6) StatusEnum.CANCELLED {\"name\": \"circuit-174962\", \"submit-date\": \"2023-01-05T03:47:59.533262\", \"result-date\": null, \"queue-position\": null, \"cost\": \"0\", \"error\": null}\n",
      "(16, 16, 0.412, 8) StatusEnum.CANCELLED {\"name\": \"circuit-420894\", \"submit-date\": \"2023-01-05T03:48:00.042755\", \"result-date\": null, \"queue-position\": null, \"cost\": \"0\", \"error\": null}\n",
      "(6, 6, 0.518, 3) StatusEnum.CANCELLED {\"name\": \"circuit-14509\", \"submit-date\": \"2023-01-05T03:48:00.260762\", \"result-date\": null, \"queue-position\": null, \"cost\": \"0\", \"error\": null}\n",
      "(6, 6, 0.836, 3) StatusEnum.CANCELLED {\"name\": \"circuit-28909\", \"submit-date\": \"2023-01-05T03:48:00.460725\", \"result-date\": null, \"queue-position\": null, \"cost\": \"0\", \"error\": null}\n",
      "(6, 6, 0.359, 3) StatusEnum.CANCELLED {\"name\": \"circuit-7309\", \"submit-date\": \"2023-01-05T03:48:00.658881\", \"result-date\": null, \"queue-position\": null, \"cost\": \"0\", \"error\": null}\n",
      "(16, 16, 0.253, 8) StatusEnum.CANCELLED {\"name\": \"circuit-375228\", \"submit-date\": \"2023-01-05T03:48:01.078568\", \"result-date\": null, \"queue-position\": null, \"cost\": \"0\", \"error\": null}\n",
      "(6, 6, 0.889, 3) StatusEnum.CANCELLED {\"name\": \"circuit-31309\", \"submit-date\": \"2023-01-05T03:48:01.307575\", \"result-date\": null, \"queue-position\": null, \"cost\": \"0\", \"error\": null}\n",
      "(16, 16, 0.2, 8) StatusEnum.CANCELLED {\"name\": \"circuit-360006\", \"submit-date\": \"2023-01-05T03:48:01.744969\", \"result-date\": null, \"queue-position\": null, \"cost\": \"0\", \"error\": null}\n"
     ]
    }
   ],
   "source": [
    "# result_dict = {}\n",
    "for param,handle in handle_dict.items():\n",
    "    # if param != (14,14,0.253,6):\n",
    "        # continue\n",
    "    # result_dict[param] = backend.get_result(handle=handle)\n",
    "    status = (backend.circuit_status(handle))\n",
    "    print(param,status.status,status.message)\n",
    "    # if status.status == com_status:\n",
    "        # print(status.status)\n"
   ]
  },
  {
   "cell_type": "code",
   "execution_count": 269,
   "metadata": {},
   "outputs": [],
   "source": [
    "with open('test_handle.dat','rb') as f:\n",
    "    han = pickle.load(f)\n",
    "result = backend.get_result(han)\n"
   ]
  },
  {
   "cell_type": "markdown",
   "metadata": {},
   "source": [
    "## Calculating cost"
   ]
  },
  {
   "cell_type": "code",
   "execution_count": null,
   "metadata": {},
   "outputs": [],
   "source": []
  },
  {
   "cell_type": "code",
   "execution_count": null,
   "metadata": {},
   "outputs": [],
   "source": []
  },
  {
   "cell_type": "code",
   "execution_count": 156,
   "metadata": {},
   "outputs": [
    {
     "name": "stdout",
     "output_type": "stream",
     "text": [
      "1 14 7 0.412 315.56\n",
      "2 8 4 0.412 None\n",
      "3 10 5 0.412 161.12\n",
      "4 12 6 0.412 231.2\n",
      "5 6 3 0.412 60.72\n",
      "6 16 8 0.412 410.96\n"
     ]
    }
   ],
   "source": [
    "file_dir = file_loc = \"../../Weak measurements/data/circ_data/special_scrambling/basis_gate_set=1/\"\n",
    "n_shots = 200\n",
    "count = 0\n",
    "for file in os.listdir(file_dir):\n",
    "    L = get_L(file)\n",
    "    p = get_p(file)\n",
    "    Q = get_Q(file)\n",
    "    depth = L\n",
    "    if p!=0.412 or Q!=int(L/2):\n",
    "        continue\n",
    "    file_loc = file_dir + file\n",
    "    costHQC = cost(L=L,p=p,Q=Q,depth=depth,n_shots=n_shots)\n",
    "    data_dict['L'].append(L)\n",
    "    data_dict['Q'].append(Q)\n",
    "    data_dict['p'].append(p)\n",
    "    data_dict['cost'].append(costHQC)\n",
    "    data_dict['shots'].append(n_shots)\n",
    "    count+=1\n",
    "    print(count,L,Q,p,costHQC)\n",
    "    with open('cost_data','wb') as f:\n",
    "        pickle.dump(data_dict,f)\n",
    "    "
   ]
  },
  {
   "cell_type": "code",
   "execution_count": 176,
   "metadata": {},
   "outputs": [
    {
     "data": {
      "text/plain": [
       "{'L': [14, 8, 10, 12, 6, 16],\n",
       " 'Q': [7, 4, 5, 6, 3, 8],\n",
       " 'p': [0.412, 0.412, 0.412, 0.412, 0.412, 0.412],\n",
       " 'cost': [315.56, 102.48, 161.12, 231.2, 60.72, 410.96],\n",
       " 'shots': [200, 200, 200, 200, 200, 200]}"
      ]
     },
     "execution_count": 176,
     "metadata": {},
     "output_type": "execute_result"
    }
   ],
   "source": [
    "data_dict"
   ]
  },
  {
   "cell_type": "code",
   "execution_count": 237,
   "metadata": {},
   "outputs": [
    {
     "name": "stdout",
     "output_type": "stream",
     "text": [
      "       L    Q      p                cost  shots\n",
      "0    6.0  3.0  0.412               60.72  200.0\n",
      "1    8.0  4.0  0.412              102.48  200.0\n",
      "2   10.0  5.0  0.412              161.12  200.0\n",
      "3   12.0  6.0  0.412               231.2  200.0\n",
      "4   14.0  7.0  0.412              315.56  200.0\n",
      "5   16.0  8.0  0.412              410.96  200.0\n",
      "6    NaN  NaN    NaN  Total cost=1282.04    NaN\n",
      "7    6.0  3.0  0.412               144.3  500.0\n",
      "8    8.0  4.0  0.412               248.7  500.0\n",
      "9   10.0  5.0  0.412               395.3  500.0\n",
      "10  12.0  6.0  0.412               570.5  500.0\n",
      "11  14.0  7.0  0.412               781.4  500.0\n",
      "12   NaN  NaN    NaN   Total cost=2140.2    NaN\n",
      "13   6.0  3.0  0.412               60.72  200.0\n",
      "14   8.0  4.0  0.412              102.48  200.0\n",
      "15  10.0  5.0  0.412              161.12  200.0\n",
      "16  12.0  6.0  0.412               231.2  200.0\n",
      "17  14.0  7.0  0.412              315.56  200.0\n",
      "18  16.0  8.0  0.412              410.96  200.0\n"
     ]
    }
   ],
   "source": [
    "df = pd.read_csv('cost_data.csv')\n",
    "df = df.drop(df.columns[[0]],axis=1)\n",
    "new_data = pd.DataFrame(data_dict)\n",
    "new_data = new_data.sort_values(['L'],ignore_index=True)\n",
    "temp = pd.concat([df,new_data],ignore_index=True)\n",
    "n_L = len(new_data)\n",
    "index = len(df)\n",
    "total_c = round(np.sum(np.array(temp['cost'][index:index+n_L],dtype=float)),2)\n",
    "new_row = pd.DataFrame({'cost':'Total cost='+str(total_c)},index=[6])\n",
    "temp = pd.concat([temp[:index+n_L],new_row,temp[index+n_L:]],ignore_index=True)\n",
    "print(temp.drop_duplicates())\n"
   ]
  },
  {
   "cell_type": "code",
   "execution_count": 109,
   "metadata": {},
   "outputs": [
    {
     "data": {
      "text/plain": [
       "0    144.3\n",
       "1    248.7\n",
       "2    395.3\n",
       "3    570.5\n",
       "4    781.4\n",
       "Name: cost, dtype: float64"
      ]
     },
     "execution_count": 109,
     "metadata": {},
     "output_type": "execute_result"
    }
   ],
   "source": [
    "df['cost']"
   ]
  },
  {
   "cell_type": "code",
   "execution_count": 167,
   "metadata": {},
   "outputs": [],
   "source": [
    "df = df.rename(columns={'cost in HQC':'cost'})"
   ]
  },
  {
   "cell_type": "code",
   "execution_count": 168,
   "metadata": {},
   "outputs": [
    {
     "data": {
      "text/html": [
       "<div>\n",
       "<style scoped>\n",
       "    .dataframe tbody tr th:only-of-type {\n",
       "        vertical-align: middle;\n",
       "    }\n",
       "\n",
       "    .dataframe tbody tr th {\n",
       "        vertical-align: top;\n",
       "    }\n",
       "\n",
       "    .dataframe thead th {\n",
       "        text-align: right;\n",
       "    }\n",
       "</style>\n",
       "<table border=\"1\" class=\"dataframe\">\n",
       "  <thead>\n",
       "    <tr style=\"text-align: right;\">\n",
       "      <th></th>\n",
       "      <th>L</th>\n",
       "      <th>Q</th>\n",
       "      <th>p</th>\n",
       "      <th>cost</th>\n",
       "      <th>shots</th>\n",
       "    </tr>\n",
       "  </thead>\n",
       "  <tbody>\n",
       "    <tr>\n",
       "      <th>0</th>\n",
       "      <td>6.0</td>\n",
       "      <td>3.0</td>\n",
       "      <td>0.412</td>\n",
       "      <td>144.3</td>\n",
       "      <td>500.0</td>\n",
       "    </tr>\n",
       "    <tr>\n",
       "      <th>1</th>\n",
       "      <td>8.0</td>\n",
       "      <td>4.0</td>\n",
       "      <td>0.412</td>\n",
       "      <td>248.7</td>\n",
       "      <td>500.0</td>\n",
       "    </tr>\n",
       "    <tr>\n",
       "      <th>2</th>\n",
       "      <td>10.0</td>\n",
       "      <td>5.0</td>\n",
       "      <td>0.412</td>\n",
       "      <td>395.3</td>\n",
       "      <td>500.0</td>\n",
       "    </tr>\n",
       "    <tr>\n",
       "      <th>3</th>\n",
       "      <td>12.0</td>\n",
       "      <td>6.0</td>\n",
       "      <td>0.412</td>\n",
       "      <td>570.5</td>\n",
       "      <td>500.0</td>\n",
       "    </tr>\n",
       "    <tr>\n",
       "      <th>4</th>\n",
       "      <td>14.0</td>\n",
       "      <td>7.0</td>\n",
       "      <td>0.412</td>\n",
       "      <td>781.4</td>\n",
       "      <td>500.0</td>\n",
       "    </tr>\n",
       "    <tr>\n",
       "      <th>5</th>\n",
       "      <td>NaN</td>\n",
       "      <td>NaN</td>\n",
       "      <td>NaN</td>\n",
       "      <td>Total cost=2140.2</td>\n",
       "      <td>NaN</td>\n",
       "    </tr>\n",
       "  </tbody>\n",
       "</table>\n",
       "</div>"
      ],
      "text/plain": [
       "      L    Q      p               cost  shots\n",
       "0   6.0  3.0  0.412              144.3  500.0\n",
       "1   8.0  4.0  0.412              248.7  500.0\n",
       "2  10.0  5.0  0.412              395.3  500.0\n",
       "3  12.0  6.0  0.412              570.5  500.0\n",
       "4  14.0  7.0  0.412              781.4  500.0\n",
       "5   NaN  NaN    NaN  Total cost=2140.2    NaN"
      ]
     },
     "execution_count": 168,
     "metadata": {},
     "output_type": "execute_result"
    }
   ],
   "source": [
    "df"
   ]
  },
  {
   "cell_type": "code",
   "execution_count": 153,
   "metadata": {},
   "outputs": [
    {
     "data": {
      "image/png": "[encoded data removed]",
      "text/plain": [
       "<Figure size 640x480 with 1 Axes>"
      ]
     },
     "metadata": {},
     "output_type": "display_data"
    }
   ],
   "source": [
    "pl.plot(np.array(df['L'][:-1])**2,(np.array(df['cost in HQC'][:-1],dtype=float)),'-o')\n",
    "\n",
    "pl.grid(which='both')"
   ]
  },
  {
   "cell_type": "code",
   "execution_count": 151,
   "metadata": {},
   "outputs": [
    {
     "data": {
      "text/plain": [
       "array([144.3, 248.7, 395.3, 570.5, 781.4], dtype=object)"
      ]
     },
     "execution_count": 151,
     "metadata": {},
     "output_type": "execute_result"
    }
   ],
   "source": [
    "\n",
    "np.array(df['cost in HQC'][:-1])"
   ]
  },
  {
   "cell_type": "code",
   "execution_count": 206,
   "metadata": {},
   "outputs": [],
   "source": [
    "temp.to_csv('cost_data.csv')"
   ]
  },
  {
   "cell_type": "code",
   "execution_count": 135,
   "metadata": {},
   "outputs": [
    {
     "data": {
      "text/plain": [
       "3.58432"
      ]
     },
     "execution_count": 135,
     "metadata": {},
     "output_type": "execute_result"
    }
   ],
   "source": [
    "((((2140.2-5*5)*(100/500)+5*5)*2)*6/500)/3"
   ]
  },
  {
   "cell_type": "code",
   "execution_count": 97,
   "metadata": {},
   "outputs": [],
   "source": [
    "df = pd.DataFrame()"
   ]
  },
  {
   "cell_type": "code",
   "execution_count": 98,
   "metadata": {},
   "outputs": [
    {
     "ename": "ValueError",
     "evalue": "Length of values (1) does not match length of index (3)",
     "output_type": "error",
     "traceback": [
      "\u001b[0;31m---------------------------------------------------------------------------\u001b[0m",
      "\u001b[0;31mValueError\u001b[0m                                Traceback (most recent call last)",
      "Cell \u001b[0;32mIn[98], line 2\u001b[0m\n\u001b[1;32m      1\u001b[0m df[\u001b[39m'\u001b[39m\u001b[39mp\u001b[39m\u001b[39m'\u001b[39m] \u001b[39m=\u001b[39m [\u001b[39m0.1\u001b[39m,\u001b[39m0.2\u001b[39m,\u001b[39m0.3\u001b[39m]\n\u001b[0;32m----> 2\u001b[0m df[\u001b[39m'\u001b[39;49m\u001b[39mL\u001b[39;49m\u001b[39m'\u001b[39;49m] \u001b[39m=\u001b[39m [\u001b[39m1\u001b[39m]\n\u001b[1;32m      4\u001b[0m df[\u001b[39m'\u001b[39m\u001b[39mshots\u001b[39m\u001b[39m'\u001b[39m] \u001b[39m=\u001b[39m [\u001b[39m200\u001b[39m]\u001b[39m*\u001b[39m\u001b[39m3\u001b[39m\n",
      "File \u001b[0;32m~/Documents/Postdoc/U_1_exp/Quantinum/qtuum/lib/python3.9/site-packages/pandas/core/frame.py:3978\u001b[0m, in \u001b[0;36mDataFrame.__setitem__\u001b[0;34m(self, key, value)\u001b[0m\n\u001b[1;32m   3975\u001b[0m     \u001b[39mself\u001b[39m\u001b[39m.\u001b[39m_setitem_array([key], value)\n\u001b[1;32m   3976\u001b[0m \u001b[39melse\u001b[39;00m:\n\u001b[1;32m   3977\u001b[0m     \u001b[39m# set column\u001b[39;00m\n\u001b[0;32m-> 3978\u001b[0m     \u001b[39mself\u001b[39;49m\u001b[39m.\u001b[39;49m_set_item(key, value)\n",
      "File \u001b[0;32m~/Documents/Postdoc/U_1_exp/Quantinum/qtuum/lib/python3.9/site-packages/pandas/core/frame.py:4172\u001b[0m, in \u001b[0;36mDataFrame._set_item\u001b[0;34m(self, key, value)\u001b[0m\n\u001b[1;32m   4162\u001b[0m \u001b[39mdef\u001b[39;00m \u001b[39m_set_item\u001b[39m(\u001b[39mself\u001b[39m, key, value) \u001b[39m-\u001b[39m\u001b[39m>\u001b[39m \u001b[39mNone\u001b[39;00m:\n\u001b[1;32m   4163\u001b[0m     \u001b[39m\"\"\"\u001b[39;00m\n\u001b[1;32m   4164\u001b[0m \u001b[39m    Add series to DataFrame in specified column.\u001b[39;00m\n\u001b[1;32m   4165\u001b[0m \n\u001b[0;32m   (...)\u001b[0m\n\u001b[1;32m   4170\u001b[0m \u001b[39m    ensure homogeneity.\u001b[39;00m\n\u001b[1;32m   4171\u001b[0m \u001b[39m    \"\"\"\u001b[39;00m\n\u001b[0;32m-> 4172\u001b[0m     value \u001b[39m=\u001b[39m \u001b[39mself\u001b[39;49m\u001b[39m.\u001b[39;49m_sanitize_column(value)\n\u001b[1;32m   4174\u001b[0m     \u001b[39mif\u001b[39;00m (\n\u001b[1;32m   4175\u001b[0m         key \u001b[39min\u001b[39;00m \u001b[39mself\u001b[39m\u001b[39m.\u001b[39mcolumns\n\u001b[1;32m   4176\u001b[0m         \u001b[39mand\u001b[39;00m value\u001b[39m.\u001b[39mndim \u001b[39m==\u001b[39m \u001b[39m1\u001b[39m\n\u001b[1;32m   4177\u001b[0m         \u001b[39mand\u001b[39;00m \u001b[39mnot\u001b[39;00m is_extension_array_dtype(value)\n\u001b[1;32m   4178\u001b[0m     ):\n\u001b[1;32m   4179\u001b[0m         \u001b[39m# broadcast across multiple columns if necessary\u001b[39;00m\n\u001b[1;32m   4180\u001b[0m         \u001b[39mif\u001b[39;00m \u001b[39mnot\u001b[39;00m \u001b[39mself\u001b[39m\u001b[39m.\u001b[39mcolumns\u001b[39m.\u001b[39mis_unique \u001b[39mor\u001b[39;00m \u001b[39misinstance\u001b[39m(\u001b[39mself\u001b[39m\u001b[39m.\u001b[39mcolumns, MultiIndex):\n",
      "File \u001b[0;32m~/Documents/Postdoc/U_1_exp/Quantinum/qtuum/lib/python3.9/site-packages/pandas/core/frame.py:4912\u001b[0m, in \u001b[0;36mDataFrame._sanitize_column\u001b[0;34m(self, value)\u001b[0m\n\u001b[1;32m   4909\u001b[0m     \u001b[39mreturn\u001b[39;00m _reindex_for_setitem(Series(value), \u001b[39mself\u001b[39m\u001b[39m.\u001b[39mindex)\n\u001b[1;32m   4911\u001b[0m \u001b[39mif\u001b[39;00m is_list_like(value):\n\u001b[0;32m-> 4912\u001b[0m     com\u001b[39m.\u001b[39;49mrequire_length_match(value, \u001b[39mself\u001b[39;49m\u001b[39m.\u001b[39;49mindex)\n\u001b[1;32m   4913\u001b[0m \u001b[39mreturn\u001b[39;00m sanitize_array(value, \u001b[39mself\u001b[39m\u001b[39m.\u001b[39mindex, copy\u001b[39m=\u001b[39m\u001b[39mTrue\u001b[39;00m, allow_2d\u001b[39m=\u001b[39m\u001b[39mTrue\u001b[39;00m)\n",
      "File \u001b[0;32m~/Documents/Postdoc/U_1_exp/Quantinum/qtuum/lib/python3.9/site-packages/pandas/core/common.py:561\u001b[0m, in \u001b[0;36mrequire_length_match\u001b[0;34m(data, index)\u001b[0m\n\u001b[1;32m    557\u001b[0m \u001b[39m\"\"\"\u001b[39;00m\n\u001b[1;32m    558\u001b[0m \u001b[39mCheck the length of data matches the length of the index.\u001b[39;00m\n\u001b[1;32m    559\u001b[0m \u001b[39m\"\"\"\u001b[39;00m\n\u001b[1;32m    560\u001b[0m \u001b[39mif\u001b[39;00m \u001b[39mlen\u001b[39m(data) \u001b[39m!=\u001b[39m \u001b[39mlen\u001b[39m(index):\n\u001b[0;32m--> 561\u001b[0m     \u001b[39mraise\u001b[39;00m \u001b[39mValueError\u001b[39;00m(\n\u001b[1;32m    562\u001b[0m         \u001b[39m\"\u001b[39m\u001b[39mLength of values \u001b[39m\u001b[39m\"\u001b[39m\n\u001b[1;32m    563\u001b[0m         \u001b[39mf\u001b[39m\u001b[39m\"\u001b[39m\u001b[39m(\u001b[39m\u001b[39m{\u001b[39;00m\u001b[39mlen\u001b[39m(data)\u001b[39m}\u001b[39;00m\u001b[39m) \u001b[39m\u001b[39m\"\u001b[39m\n\u001b[1;32m    564\u001b[0m         \u001b[39m\"\u001b[39m\u001b[39mdoes not match length of index \u001b[39m\u001b[39m\"\u001b[39m\n\u001b[1;32m    565\u001b[0m         \u001b[39mf\u001b[39m\u001b[39m\"\u001b[39m\u001b[39m(\u001b[39m\u001b[39m{\u001b[39;00m\u001b[39mlen\u001b[39m(index)\u001b[39m}\u001b[39;00m\u001b[39m)\u001b[39m\u001b[39m\"\u001b[39m\n\u001b[1;32m    566\u001b[0m     )\n",
      "\u001b[0;31mValueError\u001b[0m: Length of values (1) does not match length of index (3)"
     ]
    }
   ],
   "source": [
    "df['p'] = [0.1,0.2,0.3]\n",
    "L_list = [1]\n",
    "if len(L_list)<len(df)\n",
    "\n",
    "df['shots'] = [200]*3"
   ]
  },
  {
   "cell_type": "code",
   "execution_count": 100,
   "metadata": {},
   "outputs": [
    {
     "data": {
      "text/plain": [
       "3"
      ]
     },
     "execution_count": 100,
     "metadata": {},
     "output_type": "execute_result"
    }
   ],
   "source": [
    "len(df)"
   ]
  },
  {
   "cell_type": "code",
   "execution_count": null,
   "metadata": {},
   "outputs": [],
   "source": []
  }
 ],
 "metadata": {
  "kernelspec": {
   "display_name": "Python 3.9.13 ('base')",
   "language": "python",
   "name": "python3"
  },
  "language_info": {
   "codemirror_mode": {
    "name": "ipython",
    "version": 3
   },
   "file_extension": ".py",
   "mimetype": "text/x-python",
   "name": "python",
   "nbconvert_exporter": "python",
   "pygments_lexer": "ipython3",
   "version": "3.9.13"
  },
  "orig_nbformat": 4,
  "vscode": {
   "interpreter": {
    "hash": "46d4d6e35a705a453addec98352089b1c875d6193677971858623155cb10eb88"
   }
  }
 },
 "nbformat": 4,
 "nbformat_minor": 2
}
