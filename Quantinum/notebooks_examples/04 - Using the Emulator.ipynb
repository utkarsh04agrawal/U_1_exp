{
 "cells": [
  {
   "attachments": {
    "Quantinuum%20Logos_primary_blue_small.svg": {
     "image/svg+xml": [
      "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"
     ]
    }
   },
   "cell_type": "markdown",
   "metadata": {},
   "source": [
    "![Quantinuum%20Logos_primary_blue_small.svg](attachment:Quantinuum%20Logos_primary_blue_small.svg)"
   ]
  },
  {
   "cell_type": "markdown",
   "metadata": {},
   "source": [
    "# Submitting to the Quantinuum Emulators\n",
    "\n",
    "This notebook runs example circuits written in OpenQASM using the Quantinuum API to run on an emulator. \n",
    "\n",
    "An emulator can be used to get an idea of what a quantum device will output for our quantum circuit. This enables circuit debugging and optimization before running on a physical machine. Emulators differ from simulators in that they model the physical and noise model of the device whereas simulators may model noise parameters, but not physical parameters. The Quantinuum emulators run on a physical noise model of the Quantinuum H-Series devices. There are various noise/error parameters modeled. For detailed information on the noise model, see the *Quantinuum System Model H1 Emulator Product Data Sheet* on the user portal or at [Quantinuum H-series](https://www.quantinuum.com/products/h1).\n",
    "\n",
    "There are a few options for using the emulator: \n",
    "\n",
    "1. **Basic Usage:** Use the emulator as provided, which represents both the physical operations in the device as well as the noise. This the most common and simplest way to use the emulator. \n",
    "2. **Noiseless Emulation:** Use the emulator without the physical noise model applied. The physical device operations are represented, but all errors are set to 0. \n",
    "3. **Noise Parameters (*advanced option*):** Experiment with the noise parameters in the emulator. There is no guarantee that results achieved changing these parameters will represent outputs from the actual quantum computer represented.\n",
    "4. **Stabilizer Emulator:** Use of the emulator for circuits involving only Clifford operations. \n",
    "\n",
    "For more information, see the *Quantinuum System Model H1 Emulator Product Data Sheet*, *Quantinuum Systems User Guide*, and *Quantinuum Application Programming Interface (API)* on the Quantinuum User Portal for detailed information on each of the emulators available and workflow information including job submission, queueing, and the full list of options available.\n",
    "\n",
    "**Emulator Usage:**\n",
    "* [Basic Usage](#basic-usage)\n",
    "* [Noiseless Emulation](#no-noise)\n",
    "* [Noise Parameters (*advanced*)](#noise)\n",
    "* [Stabilizer Emulator](#stabilizer)"
   ]
  },
  {
   "cell_type": "markdown",
   "metadata": {},
   "source": [
    "## Emulator Usage"
   ]
  },
  {
   "cell_type": "markdown",
   "metadata": {},
   "source": [
    "### Basic Usage <a class=\"anchor\" id=\"basic-usage\"></a>\n",
    "\n",
    "This section covers usage of the emulator which represents a physical and noise model of the device being used. For example, if using the `H1-1E` target, this emulates the H1-1 quantum computer.\n",
    "\n",
    "First, set up circuit in OpenQASM format, a circuit of identity via CNOTs."
   ]
  },
  {
   "cell_type": "code",
   "execution_count": 1,
   "metadata": {
    "scrolled": true
   },
   "outputs": [],
   "source": [
    "openqasm = \"\"\"OPENQASM 2.0;\n",
    "include \"qelib1.inc\";\n",
    "// Repeat CNOTs an even number of times to get a noisy identity.\n",
    "\n",
    "// Reserve registries\n",
    "qreg q[2]; \n",
    "creg output[2];\n",
    "\n",
    "// Flip ideal value to 11\n",
    "x q;\n",
    "\n",
    "// pair 1\n",
    "barrier q[0],q[1];\n",
    "cx q[0],q[1];\n",
    "barrier q[0],q[1];\n",
    "cx q[0],q[1];\n",
    "\n",
    "// pair 2\n",
    "barrier q[0],q[1];\n",
    "cx q[0],q[1];\n",
    "barrier q[0],q[1];\n",
    "cx q[0],q[1];\n",
    "\n",
    "// pair 3\n",
    "barrier q[0],q[1];\n",
    "cx q[0],q[1];\n",
    "barrier q[0],q[1];\n",
    "cx q[0],q[1];\n",
    "\n",
    "// pair 4\n",
    "barrier q[0],q[1];\n",
    "cx q[0],q[1];\n",
    "barrier q[0],q[1];\n",
    "cx q[0],q[1];\n",
    "\n",
    "// pair 5\n",
    "barrier q[0],q[1];\n",
    "cx q[0],q[1];\n",
    "barrier q[0],q[1];\n",
    "cx q[0],q[1];\n",
    "\n",
    "// pair 6\n",
    "barrier q[0],q[1];\n",
    "cx q[0],q[1];\n",
    "barrier q[0],q[1];\n",
    "cx q[0],q[1];\n",
    "\n",
    "// pair 7\n",
    "barrier q[0],q[1];\n",
    "cx q[0],q[1];\n",
    "barrier q[0],q[1];\n",
    "cx q[0],q[1];\n",
    "\n",
    "// pair 8\n",
    "barrier q[0],q[1];\n",
    "cx q[0],q[1];\n",
    "barrier q[0],q[1];\n",
    "cx q[0],q[1];\n",
    "\n",
    "// pair 9\n",
    "barrier q[0],q[1];\n",
    "cx q[0],q[1];\n",
    "barrier q[0],q[1];\n",
    "cx q[0],q[1];\n",
    "\n",
    "// pair 10\n",
    "barrier q[0],q[1];\n",
    "cx q[0],q[1];\n",
    "barrier q[0],q[1];\n",
    "cx q[0],q[1];\n",
    "\n",
    "// Measure out data qubits\n",
    "measure q -> output;  // ideally should see 11 because of intial x\n",
    "\"\"\""
   ]
  },
  {
   "cell_type": "markdown",
   "metadata": {},
   "source": [
    "Check the circut cost in HQCs before running on the emulator using one of the Syntax Checkers."
   ]
  },
  {
   "cell_type": "code",
   "execution_count": 2,
   "metadata": {},
   "outputs": [
    {
     "name": "stdout",
     "output_type": "stream",
     "text": [
      "submitted 10 CNOT pair code cost check id=533b9bd27eff4ae1b687dc7b8ecf4b8c, submit date=2022-11-02T21:34:11.039786\n",
      "Circuit cost in HQCs: 10.24\n"
     ]
    }
   ],
   "source": [
    "from qtuum.api_wrappers import QuantinuumAPI as QAPI\n",
    "import time, json\n",
    "\n",
    "machine = 'H1-1SC'\n",
    "qapi = QAPI()\n",
    "job_id = qapi.submit_job(openqasm,\n",
    "                         machine=machine, \n",
    "                         name='10 CNOT pair code cost check') \n",
    "results = qapi.retrieve_job(job_id)\n",
    "\n",
    "print(\"\\n Circuit cost in HQCs:\", results['cost'])"
   ]
  },
  {
   "cell_type": "markdown",
   "metadata": {},
   "source": [
    "Select the emulator to use, submit, and retrieve the circuit with the `submit_job()` and `retrieve_job()` functions in `api_wrappers.py`.\n",
    "\n",
    "See the *Quantinuum Systems User Guide* in the *Examples* tab on the *Quantinuum User Portal* for information and target names for each of the emulators available."
   ]
  },
  {
   "cell_type": "code",
   "execution_count": 3,
   "metadata": {},
   "outputs": [
    {
     "name": "stdout",
     "output_type": "stream",
     "text": [
      "submitted 10 CNOT pair code id=d404204d09df4d65886bbd1b09d5d599, submit date=2022-11-02T21:34:30.977415\n"
     ]
    }
   ],
   "source": [
    "machine = 'H1-1E'\n",
    "shots = 100\n",
    "job_id = qapi.submit_job(openqasm,\n",
    "                         shots=shots,\n",
    "                         machine=machine, \n",
    "                         name='10 CNOT pair code') \n",
    "results = qapi.retrieve_job(job_id)"
   ]
  },
  {
   "cell_type": "markdown",
   "metadata": {},
   "source": [
    "Check the job status."
   ]
  },
  {
   "cell_type": "code",
   "execution_count": 4,
   "metadata": {
    "collapsed": true
   },
   "outputs": [
    {
     "data": {
      "text/plain": [
       "{'job': 'd404204d09df4d65886bbd1b09d5d599',\n",
       " 'name': '10 CNOT pair code',\n",
       " 'status': 'completed',\n",
       " 'cost': '10.24',\n",
       " 'start-date': '2022-11-02T21:34:48.910014',\n",
       " 'end-date': '2022-11-02T21:34:50.371802',\n",
       " 'submit-date': '2022-11-02T21:34:30.977415',\n",
       " 'result-date': '2022-11-02T21:34:50.589295',\n",
       " 'machine': 'H1-1E',\n",
       " 'results': {'output': ['11',\n",
       "   '11',\n",
       "   '11',\n",
       "   '11',\n",
       "   '11',\n",
       "   '11',\n",
       "   '00',\n",
       "   '11',\n",
       "   '11',\n",
       "   '11',\n",
       "   '11',\n",
       "   '11',\n",
       "   '11',\n",
       "   '11',\n",
       "   '11',\n",
       "   '11',\n",
       "   '11',\n",
       "   '11',\n",
       "   '11',\n",
       "   '11',\n",
       "   '11',\n",
       "   '11',\n",
       "   '11',\n",
       "   '11',\n",
       "   '11',\n",
       "   '00',\n",
       "   '11',\n",
       "   '11',\n",
       "   '11',\n",
       "   '11',\n",
       "   '01',\n",
       "   '11',\n",
       "   '11',\n",
       "   '11',\n",
       "   '11',\n",
       "   '11',\n",
       "   '11',\n",
       "   '00',\n",
       "   '11',\n",
       "   '11',\n",
       "   '11',\n",
       "   '11',\n",
       "   '11',\n",
       "   '11',\n",
       "   '11',\n",
       "   '11',\n",
       "   '11',\n",
       "   '11',\n",
       "   '11',\n",
       "   '11',\n",
       "   '11',\n",
       "   '11',\n",
       "   '11',\n",
       "   '11',\n",
       "   '11',\n",
       "   '11',\n",
       "   '01',\n",
       "   '11',\n",
       "   '11',\n",
       "   '11',\n",
       "   '11',\n",
       "   '11',\n",
       "   '11',\n",
       "   '11',\n",
       "   '11',\n",
       "   '11',\n",
       "   '11',\n",
       "   '11',\n",
       "   '11',\n",
       "   '00',\n",
       "   '11',\n",
       "   '11',\n",
       "   '11',\n",
       "   '11',\n",
       "   '11',\n",
       "   '11',\n",
       "   '11',\n",
       "   '11',\n",
       "   '11',\n",
       "   '10',\n",
       "   '11',\n",
       "   '11',\n",
       "   '11',\n",
       "   '11',\n",
       "   '11',\n",
       "   '11',\n",
       "   '11',\n",
       "   '11',\n",
       "   '11',\n",
       "   '11',\n",
       "   '11',\n",
       "   '11',\n",
       "   '11',\n",
       "   '11',\n",
       "   '11',\n",
       "   '11',\n",
       "   '01',\n",
       "   '11',\n",
       "   '11',\n",
       "   '11']}}"
      ]
     },
     "execution_count": 4,
     "metadata": {},
     "output_type": "execute_result"
    }
   ],
   "source": [
    "status = qapi.retrieve_job_status(job_id)\n",
    "\n",
    "status"
   ]
  },
  {
   "cell_type": "markdown",
   "metadata": {},
   "source": [
    "Return the results."
   ]
  },
  {
   "cell_type": "code",
   "execution_count": 5,
   "metadata": {},
   "outputs": [
    {
     "name": "stdout",
     "output_type": "stream",
     "text": [
      "{'job': 'd404204d09df4d65886bbd1b09d5d599', 'name': '10 CNOT pair code', 'status': 'completed', 'cost': '10.24', 'start-date': '2022-11-02T21:34:48.910014', 'end-date': '2022-11-02T21:34:50.371802', 'submit-date': '2022-11-02T21:34:30.977415', 'result-date': '2022-11-02T21:34:50.589295', 'machine': 'H1-1E', 'results': {'output': ['11', '11', '11', '11', '11', '11', '00', '11', '11', '11', '11', '11', '11', '11', '11', '11', '11', '11', '11', '11', '11', '11', '11', '11', '11', '00', '11', '11', '11', '11', '01', '11', '11', '11', '11', '11', '11', '00', '11', '11', '11', '11', '11', '11', '11', '11', '11', '11', '11', '11', '11', '11', '11', '11', '11', '11', '01', '11', '11', '11', '11', '11', '11', '11', '11', '11', '11', '11', '11', '00', '11', '11', '11', '11', '11', '11', '11', '11', '11', '10', '11', '11', '11', '11', '11', '11', '11', '11', '11', '11', '11', '11', '11', '11', '11', '11', '01', '11', '11', '11']}}\n"
     ]
    }
   ],
   "source": [
    "results = qapi.retrieve_job(job_id)\n",
    "\n",
    "print(results)"
   ]
  },
  {
   "cell_type": "markdown",
   "metadata": {},
   "source": [
    "The result output is just like that of a quantum device. The simulation by default runs with noise; therefore, it won't give back all `11`'s."
   ]
  },
  {
   "cell_type": "code",
   "execution_count": 6,
   "metadata": {},
   "outputs": [
    {
     "name": "stdout",
     "output_type": "stream",
     "text": [
      "number of '11's: 92\n",
      "number of results: 100\n"
     ]
    }
   ],
   "source": [
    "output = results['results']['output']\n",
    "count = output.count('11')\n",
    "print(f\"number of '11's: {count}\")\n",
    "print(f'number of results: {len(output)}')"
   ]
  },
  {
   "cell_type": "markdown",
   "metadata": {},
   "source": [
    "Save results, recommended with the Quantinuum data retention policy."
   ]
  },
  {
   "cell_type": "code",
   "execution_count": null,
   "metadata": {
    "scrolled": true
   },
   "outputs": [],
   "source": [
    "with open(f'emulator_results_{results[\"name\"]}.json', 'w') as fp:\n",
    "    json.dump(results, fp)"
   ]
  },
  {
   "cell_type": "markdown",
   "metadata": {},
   "source": [
    "### Noiseless Emulation <a class=\"anchor\" id=\"no-noise\"></a>\n",
    "\n",
    "The Quantinuum emulators may be run with or without the physical device's noise model. The default is the emulator runs with the physical noise model turned on. The physical noise model can be turned off by setting `error-model=False`."
   ]
  },
  {
   "cell_type": "code",
   "execution_count": 8,
   "metadata": {},
   "outputs": [
    {
     "name": "stdout",
     "output_type": "stream",
     "text": [
      "submitted noiseless 10 CNOT pairs code id=c1eb76559da440229e2e4ffaef3d7116, submit date=2022-11-02T21:37:20.797457\n"
     ]
    }
   ],
   "source": [
    "shots = 100\n",
    "\n",
    "job_id = qapi.submit_job(openqasm, \n",
    "                         shots=shots,\n",
    "                         machine=machine, \n",
    "                         name='noiseless 10 CNOT pairs code', \n",
    "                         options={'error-model': False})"
   ]
  },
  {
   "cell_type": "code",
   "execution_count": 9,
   "metadata": {},
   "outputs": [
    {
     "name": "stdout",
     "output_type": "stream",
     "text": [
      "number of '11's: 100\n",
      "number of results: 100\n"
     ]
    }
   ],
   "source": [
    "results = qapi.retrieve_job(job_id)\n",
    "\n",
    "output = results['results']['output']\n",
    "count = output.count('11')\n",
    "print(f\"number of '11's: {count}\")\n",
    "print(f'number of results: {len(output)}')"
   ]
  },
  {
   "cell_type": "code",
   "execution_count": null,
   "metadata": {
    "scrolled": true
   },
   "outputs": [],
   "source": [
    "with open(f'emulator_results_{results[\"name\"]}.json', 'w') as fp:\n",
    "    json.dump(results, fp)"
   ]
  },
  {
   "cell_type": "markdown",
   "metadata": {},
   "source": [
    "### Noise Parameters <a class=\"anchor\" id=\"noise\"></a>\n",
    "\n",
    "The emulator runs with default error parameters that represent a noise environment similar to the physical devices. The `error-params` option can be used to override these error parameters and do finer-grain tweaks of the error model. For detailed information on the noise model, see the *Quantinuum System Model H1 Emulator Product Data Sheet* on the user portal or [Quantinuum H-Series page](https://www.quantinuum.com/hardware/h1) or the *Quantinuum Application Programming Interface (API)* on the user portal.\n",
    "\n",
    "In this section, examples are given for experimenting with the noise and error parameters of the emulators. These are advanced options and not recommended to start with when doing initial experiments. As mentioned above, there is no guarantee that results achieved changing these parameters will represent outputs from the actual quantum computer represented. \n",
    "\n",
    "**Note**: All the noise parameters are used together any time a simulation is run. If only some of the parameters are specified, the rest of the parameters are used at their default settings. The parameters to override are specified with the `options` parameter.\n",
    "\n",
    "* [Physical Noise](#physical-noise)\n",
    "* [Dephasing Noise](#dephasing-noise)\n",
    "* [Arbitrary Angle Noise Scaling](#arbitrary-angle-noise)\n",
    "* [Scaling](#scaling)"
   ]
  },
  {
   "cell_type": "markdown",
   "metadata": {},
   "source": [
    "#### Physical Noise <a class=\"anchor\" id=\"physical-noise\"></a>\n",
    "\n",
    "See the *Quantinuum System Model H1 Emulator Product Data Sheet* on the user portal or [Quantinuum H-Series page](https://www.quantinuum.com/hardware/h1) for information on these parameters."
   ]
  },
  {
   "cell_type": "code",
   "execution_count": 10,
   "metadata": {},
   "outputs": [
    {
     "name": "stdout",
     "output_type": "stream",
     "text": [
      "submitted adjust physical noise params 10 CNOT pair code id=4989e5b0c1884b6fafbf253cbe322619, submit date=2022-11-02T21:38:00.047606\n"
     ]
    }
   ],
   "source": [
    "shots = 100\n",
    "\n",
    "job_id = qapi.submit_job(openqasm, \n",
    "                         shots=shots,\n",
    "                         machine=machine, \n",
    "                         name='adjust physical noise params 10 CNOT pair code', \n",
    "                         options={'error-params': {\n",
    "                                     'p1': 4e-5,\n",
    "                                     'p2': 3e-3,\n",
    "                                     'p_meas': 3e-3,\n",
    "                                     'p_init': 4e-5,\n",
    "                                     'p_crosstalk_meas': 1e-5,\n",
    "                                     'p_crosstalk_init': 3e-5,\n",
    "                                     'p1_emission': 6e-6,\n",
    "                                     'p2_emission': 2e-4\n",
    "                                     }\n",
    "                                 }) "
   ]
  },
  {
   "cell_type": "code",
   "execution_count": 11,
   "metadata": {},
   "outputs": [
    {
     "name": "stdout",
     "output_type": "stream",
     "text": [
      "number of '11's: 95\n",
      "number of results: 100\n"
     ]
    }
   ],
   "source": [
    "results = qapi.retrieve_job(job_id)\n",
    "\n",
    "output = results['results']['output']\n",
    "count = output.count('11')\n",
    "print(f\"number of '11's: {count}\")\n",
    "print(f'number of results: {len(output)}')"
   ]
  },
  {
   "cell_type": "markdown",
   "metadata": {},
   "source": [
    "#### Dephasing Noise <a class=\"anchor\" id=\"dephasing-noise\"></a>\n",
    "\n",
    "See the *Quantinuum System Model H1 Emulator Product Data Sheet* on the user portal or [Quantinuum H-Series page](https://www.quantinuum.com/hardware/h1) for information on these parameters."
   ]
  },
  {
   "cell_type": "code",
   "execution_count": 12,
   "metadata": {},
   "outputs": [
    {
     "name": "stdout",
     "output_type": "stream",
     "text": [
      "submitted adjust dephasing noise params 10 CNOT pair code id=0f18c4cf0f4244ce993536ea8cb42355, submit date=2022-11-02T21:38:14.828206\n"
     ]
    }
   ],
   "source": [
    "shots = 100\n",
    "\n",
    "job_id = qapi.submit_job(openqasm, \n",
    "                         shots=shots, \n",
    "                         machine=machine, \n",
    "                         name='adjust dephasing noise params 10 CNOT pair code', \n",
    "                         options={'error-params': {\n",
    "                                     'coherent_dephasing_rate': 0.2,\n",
    "                                     'incoherent_dephasing_rate': 0.3,\n",
    "                                     'coherent_dephasing': False,  # False => run the incoherent noise model\n",
    "                                     'transport_dephasing': False, # False => turn off transport dephasing error\n",
    "                                     'idle_dephasing': False # False => turn off idel dephasing error\n",
    "                                     }\n",
    "                                 }) "
   ]
  },
  {
   "cell_type": "code",
   "execution_count": 13,
   "metadata": {},
   "outputs": [
    {
     "name": "stdout",
     "output_type": "stream",
     "text": [
      "number of '11's: 96\n",
      "number of results: 100\n"
     ]
    }
   ],
   "source": [
    "results = qapi.retrieve_job(job_id)\n",
    "\n",
    "output = results['results']['output']\n",
    "count = output.count('11')\n",
    "print(f\"number of '11's: {count}\")\n",
    "print(f'number of results: {len(output)}')"
   ]
  },
  {
   "cell_type": "markdown",
   "metadata": {},
   "source": [
    "#### Arbitrary Angle Noise Scaling <a class=\"anchor\" id=\"arbitrary-angle-noise\"></a>\n",
    "\n",
    "See the *Quantinuum System Model H1 Emulator Product Data Sheet* on the user portal or [Quantinuum H-Series page](https://www.quantinuum.com/hardware/h1) for information on these parameters."
   ]
  },
  {
   "cell_type": "code",
   "execution_count": 14,
   "metadata": {},
   "outputs": [
    {
     "name": "stdout",
     "output_type": "stream",
     "text": [
      "submitted adjust depolarizing noise params 10 CNOT pair code id=1e1daec8fd0b4bea93005a12336ce92d, submit date=2022-11-02T21:38:32.374496\n"
     ]
    }
   ],
   "source": [
    "shots = 100\n",
    "\n",
    "job_id = qapi.submit_job(openqasm, \n",
    "                         shots=shots, \n",
    "                         machine=machine, \n",
    "                         name='adjust depolarizing noise params 10 CNOT pair code', \n",
    "                         options={'error-params': {\n",
    "                                     'przz_a': 1.09,\n",
    "                                     'przz_b': 0.051,\n",
    "                                     'przz_c': 1.365,\n",
    "                                     'przz_d': 0.035 \n",
    "                                     }\n",
    "                                 }) "
   ]
  },
  {
   "cell_type": "code",
   "execution_count": 15,
   "metadata": {},
   "outputs": [
    {
     "name": "stdout",
     "output_type": "stream",
     "text": [
      "number of '11's: 94\n",
      "number of results: 100\n"
     ]
    }
   ],
   "source": [
    "results = qapi.retrieve_job(job_id)\n",
    "\n",
    "output = results['results']['output']\n",
    "count = output.count('11')\n",
    "print(f\"number of '11's: {count}\")\n",
    "print(f'number of results: {len(output)}')"
   ]
  },
  {
   "cell_type": "markdown",
   "metadata": {},
   "source": [
    "#### Scaling <a class=\"anchor\" id=\"scaling\"></a>\n",
    "\n",
    "All the error rates can be scaled linearly using the `scale` parameter. See the *Quantinuum System Model H1 Emulator Product Data Sheet* on the user portal or [Quantinuum H-Series page](https://www.quantinuum.com/hardware/h1) for more information."
   ]
  },
  {
   "cell_type": "code",
   "execution_count": 16,
   "metadata": {},
   "outputs": [
    {
     "name": "stdout",
     "output_type": "stream",
     "text": [
      "submitted adjust scale noise params 10 CNOT pair code id=940ead0a06fb495f84c25fb5bef20fae, submit date=2022-11-02T21:39:11.041592\n"
     ]
    }
   ],
   "source": [
    "shots = 100\n",
    "\n",
    "job_id = qapi.submit_job(openqasm, \n",
    "                         shots=shots, \n",
    "                         machine=machine, \n",
    "                         name='adjust scale noise params 10 CNOT pair code', \n",
    "                         options={'error-params': {\n",
    "                                     'scale': 0.1,  # scale error rates linearly by 0.1\n",
    "                                     }\n",
    "                                 }) "
   ]
  },
  {
   "cell_type": "code",
   "execution_count": 17,
   "metadata": {},
   "outputs": [
    {
     "name": "stdout",
     "output_type": "stream",
     "text": [
      "number of '11's: 99\n",
      "number of results: 100\n"
     ]
    }
   ],
   "source": [
    "results = qapi.retrieve_job(job_id)\n",
    "\n",
    "output = results['results']['output']\n",
    "count = output.count('11')\n",
    "print(f\"number of '11's: {count}\")\n",
    "print(f'number of results: {len(output)}')"
   ]
  },
  {
   "cell_type": "markdown",
   "metadata": {},
   "source": [
    "Other aspects of the noise model can scale specific error rates in the error model, which are modeled here."
   ]
  },
  {
   "cell_type": "code",
   "execution_count": 18,
   "metadata": {},
   "outputs": [
    {
     "name": "stdout",
     "output_type": "stream",
     "text": [
      "submitted adjust scale noise params 10 CNOT pair code id=3dab0ae9052e47adabfe7e4b92ff5cc5, submit date=2022-11-02T21:39:32.756434\n"
     ]
    }
   ],
   "source": [
    "shots = 100\n",
    "\n",
    "job_id = qapi.submit_job(openqasm, \n",
    "                         shots=shots, \n",
    "                         machine=machine, \n",
    "                         name='adjust scale noise params 10 CNOT pair code', \n",
    "                         options={'error-params': {\n",
    "                                     'p1_scale': 0.1,\n",
    "                                     'p2_scale': 0.1,\n",
    "                                     'meas_scale': 0.1,\n",
    "                                     'init_scale': 0.1,\n",
    "                                     'memory_scale': 0.1,\n",
    "                                     'emission_scale': 0.1,\n",
    "                                     'crosstalk_scale': 0.1,\n",
    "                                     'leakage_scale': 0.1\n",
    "                                     }\n",
    "                                 }) "
   ]
  },
  {
   "cell_type": "code",
   "execution_count": 19,
   "metadata": {},
   "outputs": [
    {
     "name": "stdout",
     "output_type": "stream",
     "text": [
      "number of '11's: 99\n",
      "number of results: 100\n"
     ]
    }
   ],
   "source": [
    "results = qapi.retrieve_job(job_id)\n",
    "\n",
    "output = results['results']['output']\n",
    "count = output.count('11')\n",
    "print(f\"number of '11's: {count}\")\n",
    "print(f'number of results: {len(output)}')"
   ]
  },
  {
   "cell_type": "markdown",
   "metadata": {},
   "source": [
    "### Stabilizer Emulator <a class=\"anchor\" id=\"stabilizer\"></a>\n",
    "\n",
    "By default, emulations are run using a state-vector emulator, which simulates any quantum operation. However, if the quantum operations are all Clifford gates, it can be faster for complex circuits to use the `stabilizer` emulator, which can be requested as follows."
   ]
  },
  {
   "cell_type": "code",
   "execution_count": 20,
   "metadata": {},
   "outputs": [
    {
     "name": "stdout",
     "output_type": "stream",
     "text": [
      "submitted stabilizer 10 CNOT pair code id=11238a22dc7649d986faae6475f99322, submit date=2022-11-02T21:39:54.598876\n"
     ]
    }
   ],
   "source": [
    "shots = 100\n",
    "\n",
    "job_id = qapi.submit_job(openqasm, \n",
    "                         shots=shots, \n",
    "                         machine=machine, \n",
    "                         name='stabilizer 10 CNOT pair code', \n",
    "                         options={'simulator': 'stabilizer'}) "
   ]
  },
  {
   "cell_type": "code",
   "execution_count": 21,
   "metadata": {},
   "outputs": [
    {
     "name": "stdout",
     "output_type": "stream",
     "text": [
      "number of '11's: 95\n",
      "number of results: 100\n"
     ]
    }
   ],
   "source": [
    "results = qapi.retrieve_job(job_id)\n",
    "\n",
    "output = results['results']['output']\n",
    "count = output.count('11')\n",
    "print(f\"number of '11's: {count}\")\n",
    "print(f'number of results: {len(output)}')"
   ]
  },
  {
   "cell_type": "code",
   "execution_count": null,
   "metadata": {
    "scrolled": true
   },
   "outputs": [],
   "source": [
    "with open(f'emulator_results_{results[\"name\"]}.json', 'w') as fp:\n",
    "    json.dump(results, fp)"
   ]
  },
  {
   "cell_type": "markdown",
   "metadata": {},
   "source": [
    "#### Noiseless Stabilizer\n",
    "\n",
    "A noiseless stabilizer simulation can be specified via options in the `submit_job` function with the following options:\n",
    "\n",
    "- `simulator`: choose to run with a `stabilizer` simulator or `state-vector` (default is `state-vector`)\n",
    "- `error-model`: whether to run with or without the physical device noise model on or off. The default is `True`, which means the physical noise model is turned on. If set to `False`, the physical noise model is turned off, performing noiseless simulation."
   ]
  },
  {
   "cell_type": "code",
   "execution_count": 22,
   "metadata": {},
   "outputs": [
    {
     "name": "stdout",
     "output_type": "stream",
     "text": [
      "submitted noiseless stabilizer 10 CNOT pair code id=6db969cfe1454462b3d90c6356ab5bf7, submit date=2022-11-02T21:40:34.611593\n"
     ]
    }
   ],
   "source": [
    "shots = 100\n",
    "\n",
    "job_id = qapi.submit_job(openqasm, \n",
    "                         shots=shots, \n",
    "                         machine=machine, \n",
    "                         name='noiseless stabilizer 10 CNOT pair code', \n",
    "                         options={'error-model': False, \n",
    "                                  'simulator': 'stabilizer'}) "
   ]
  },
  {
   "cell_type": "code",
   "execution_count": 23,
   "metadata": {},
   "outputs": [
    {
     "name": "stdout",
     "output_type": "stream",
     "text": [
      "number of '11's: 100\n",
      "number of results: 100\n"
     ]
    }
   ],
   "source": [
    "results = qapi.retrieve_job(job_id)\n",
    "\n",
    "output = results['results']['output']\n",
    "count = output.count('11')\n",
    "print(f\"number of '11's: {count}\")\n",
    "print(f'number of results: {len(output)}')"
   ]
  },
  {
   "cell_type": "code",
   "execution_count": null,
   "metadata": {
    "scrolled": true
   },
   "outputs": [],
   "source": [
    "with open(f'emulator_results_{results[\"name\"]}.json', 'w') as fp:\n",
    "    json.dump(results, fp)"
   ]
  },
  {
   "cell_type": "markdown",
   "metadata": {},
   "source": [
    "<div align=\"center\"> &copy; 2022 by Quantinuum. All Rights Reserved. </div>"
   ]
  }
 ],
 "metadata": {
  "kernelspec": {
   "display_name": "Python 3 (ipykernel)",
   "language": "python",
   "name": "python3"
  },
  "language_info": {
   "codemirror_mode": {
    "name": "ipython",
    "version": 3
   },
   "file_extension": ".py",
   "mimetype": "text/x-python",
   "name": "python",
   "nbconvert_exporter": "python",
   "pygments_lexer": "ipython3",
   "version": "3.10.8"
  }
 },
 "nbformat": 4,
 "nbformat_minor": 2
}
