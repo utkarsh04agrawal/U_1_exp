{
 "cells": [
  {
   "cell_type": "code",
   "execution_count": 2,
   "metadata": {},
   "outputs": [
    {
     "name": "stdout",
     "output_type": "stream",
     "text": [
      "Warning: Cannot change to a different GUI toolkit: qt5. Using qt instead.\n"
     ]
    }
   ],
   "source": [
    "import numpy as np\n",
    "%matplotlib qt5\n",
    "import matplotlib.pyplot as pl\n",
    "import os\n",
    "import pickle\n"
   ]
  },
  {
   "cell_type": "code",
   "execution_count": 3,
   "metadata": {},
   "outputs": [],
   "source": [
    "\n",
    "def load_data(what_type='nothing_fixed',depth_ratio=1):\n",
    "    if depth_ratio == 1:\n",
    "        depth_label = ''\n",
    "    else:\n",
    "        depth_label = '_depth_ratio_'+str(depth_ratio)\n",
    "    if what_type==\"nothing_fixed\":\n",
    "        filename = 'sep_data/nothing_fixed'+depth_label\n",
    "    elif what_type == \"unitaries_fixed\":\n",
    "        filename = 'sep_data/unitaries_fixed'+depth_label\n",
    "\n",
    "    if not os.path.isfile(filename):\n",
    "        print(\"File does not exist for the case \",what_type)\n",
    "        return\n",
    "    \n",
    "    with open(filename,'rb') as f:\n",
    "        data = pickle.load(f)\n",
    "\n",
    "    return data\n",
    "\n",
    "\n",
    "def plot_success_ent(data,L_list,p_list,N_samples=-1):\n",
    "    ent = {}\n",
    "    err = {}\n",
    "    for L in L_list[:]:\n",
    "        ent[L] = []\n",
    "        err[L] = []\n",
    "        for p in p_list:\n",
    "            tempQ = list(data[L][p][L//2])[:N_samples]\n",
    "            tempQ2 = list(data[L][p][L//2-1])[:N_samples]\n",
    "            print(\"L=\",L,\"p=\",p,\"data_size:\",len(tempQ),len(tempQ2))\n",
    "            # ent.append(np.sum(np.array(suc_list)>0.5)/len(suc_list))\n",
    "            ent_list = [(-x*np.log(x) - (1-x)*np.log(1-x)) if 0<x<1 else 0 for x in tempQ2+tempQ]\n",
    "            ent[L].append(np.average(ent_list))\n",
    "            err[L].append(np.std(ent_list)/(len(ent_list)-1)**0.5)\n",
    "\n",
    "        pl.errorbar(p_list,ent[L],yerr=err[L],ls='-',marker='o',label='L='+str(L))\n",
    "\n",
    "    pl.xlabel(r'$p$',fontsize=16)\n",
    "    pl.ylabel(r'$S_{suc}$',fontsize=16)\n",
    "    pl.legend(fontsize=16)\n",
    "    pl.tight_layout()\n",
    "\n",
    "\n"
   ]
  },
  {
   "cell_type": "code",
   "execution_count": 4,
   "metadata": {},
   "outputs": [
    {
     "name": "stdout",
     "output_type": "stream",
     "text": [
      "L= 8 p= 0.05 data_size: 998 998\n",
      "L= 8 p= 0.1 data_size: 998 998\n",
      "L= 8 p= 0.13 data_size: 998 998\n",
      "L= 8 p= 0.16 data_size: 998 998\n",
      "L= 8 p= 0.2 data_size: 998 998\n",
      "L= 8 p= 0.25 data_size: 998 998\n",
      "L= 8 p= 0.3 data_size: 998 998\n",
      "L= 10 p= 0.05 data_size: 998 998\n",
      "L= 10 p= 0.1 data_size: 998 998\n",
      "L= 10 p= 0.13 data_size: 998 998\n",
      "L= 10 p= 0.16 data_size: 998 998\n",
      "L= 10 p= 0.2 data_size: 998 998\n",
      "L= 10 p= 0.25 data_size: 998 998\n",
      "L= 10 p= 0.3 data_size: 998 998\n",
      "L= 8 p= 0.05 data_size: 1498 1498\n",
      "L= 8 p= 0.1 data_size: 1498 1498\n",
      "L= 8 p= 0.13 data_size: 1498 1498\n",
      "L= 8 p= 0.16 data_size: 1498 1498\n",
      "L= 8 p= 0.2 data_size: 1498 1498\n",
      "L= 8 p= 0.25 data_size: 1498 1498\n",
      "L= 8 p= 0.3 data_size: 1498 1498\n",
      "L= 8 p= 0.35 data_size: 998 998\n",
      "L= 8 p= 0.4 data_size: 998 998\n",
      "L= 10 p= 0.05 data_size: 1498 1498\n",
      "L= 10 p= 0.1 data_size: 1498 1498\n",
      "L= 10 p= 0.13 data_size: 1498 1498\n",
      "L= 10 p= 0.16 data_size: 1498 1498\n",
      "L= 10 p= 0.2 data_size: 1498 1498\n",
      "L= 10 p= 0.25 data_size: 1498 1498\n",
      "L= 10 p= 0.3 data_size: 1498 1498\n",
      "L= 10 p= 0.35 data_size: 998 998\n",
      "L= 10 p= 0.4 data_size: 998 998\n",
      "L= 12 p= 0.05 data_size: 1498 1498\n",
      "L= 12 p= 0.1 data_size: 1498 1498\n",
      "L= 12 p= 0.13 data_size: 1498 1498\n",
      "L= 12 p= 0.16 data_size: 1498 1498\n",
      "L= 12 p= 0.2 data_size: 998 998\n",
      "L= 12 p= 0.25 data_size: 998 998\n",
      "L= 12 p= 0.3 data_size: 998 998\n",
      "L= 12 p= 0.35 data_size: 998 998\n",
      "L= 12 p= 0.4 data_size: 998 998\n"
     ]
    }
   ],
   "source": [
    "%matplotlib qt\n",
    "pl.figure(1)\n",
    "data = load_data('nothing_fixed',depth_ratio=1)\n",
    "L_list = [8,10]\n",
    "p_list = [0.05,0.1,0.13,0.16,0.2,0.25,0.3]\n",
    "plot_success_ent(data,L_list,p_list,N_samples=-1)\n",
    "\n",
    "data = load_data('nothing_fixed',depth_ratio=2)\n",
    "L_list = [8,10,12]\n",
    "p_list = [0.05,0.1,0.13,0.16,0.2,0.25,0.3,0.35,0.4]\n",
    "plot_success_ent(data,L_list,p_list,N_samples=-1)"
   ]
  },
  {
   "cell_type": "code",
   "execution_count": 21,
   "metadata": {},
   "outputs": [],
   "source": [
    "# Function to ensure that p_suc for initial states with charge Q has non-zero probabilities\n",
    "def sanity_check(data,L_list,p_list):\n",
    "    for L in L_list[:]:\n",
    "        for p in p_list:\n",
    "            p_Q = list(data[L][p][L//2])\n",
    "            p_Q2 = list(data[L][p][L//2-1])\n",
    "            if np.any(p_Q==0) or np.any(p_Q2==0):\n",
    "                print(\"There are some zero probabilities\")\n",
    "            else:\n",
    "                print(\"L =\",L,\"p =\",p,\"Sanity check complete; no zero probabilities\")"
   ]
  },
  {
   "cell_type": "code",
   "execution_count": 10,
   "metadata": {},
   "outputs": [
    {
     "name": "stdout",
     "output_type": "stream",
     "text": [
      "L = 8 p = 0.05 Sanity check complete; no zero probabilities\n",
      "L = 8 p = 0.1 Sanity check complete; no zero probabilities\n",
      "L = 8 p = 0.13 Sanity check complete; no zero probabilities\n",
      "L = 8 p = 0.16 Sanity check complete; no zero probabilities\n",
      "L = 8 p = 0.2 Sanity check complete; no zero probabilities\n",
      "L = 8 p = 0.25 Sanity check complete; no zero probabilities\n",
      "L = 8 p = 0.3 Sanity check complete; no zero probabilities\n",
      "L = 10 p = 0.05 Sanity check complete; no zero probabilities\n",
      "L = 10 p = 0.1 Sanity check complete; no zero probabilities\n",
      "L = 10 p = 0.13 Sanity check complete; no zero probabilities\n",
      "L = 10 p = 0.16 Sanity check complete; no zero probabilities\n",
      "L = 10 p = 0.2 Sanity check complete; no zero probabilities\n",
      "L = 10 p = 0.25 Sanity check complete; no zero probabilities\n",
      "L = 10 p = 0.3 Sanity check complete; no zero probabilities\n",
      "L = 12 p = 0.05 Sanity check complete; no zero probabilities\n",
      "L = 12 p = 0.1 Sanity check complete; no zero probabilities\n",
      "L = 12 p = 0.13 Sanity check complete; no zero probabilities\n",
      "L = 12 p = 0.16 Sanity check complete; no zero probabilities\n",
      "L = 12 p = 0.2 Sanity check complete; no zero probabilities\n",
      "L = 12 p = 0.25 Sanity check complete; no zero probabilities\n",
      "L = 12 p = 0.3 Sanity check complete; no zero probabilities\n"
     ]
    }
   ],
   "source": [
    "sanity_check(data,L_list,p_list)"
   ]
  },
  {
   "cell_type": "code",
   "execution_count": null,
   "metadata": {},
   "outputs": [],
   "source": []
  }
 ],
 "metadata": {
  "kernelspec": {
   "display_name": "Python 3.9.13 ('base')",
   "language": "python",
   "name": "python3"
  },
  "language_info": {
   "codemirror_mode": {
    "name": "ipython",
    "version": 3
   },
   "file_extension": ".py",
   "mimetype": "text/x-python",
   "name": "python",
   "nbconvert_exporter": "python",
   "pygments_lexer": "ipython3",
   "version": "3.9.13"
  },
  "orig_nbformat": 4,
  "vscode": {
   "interpreter": {
    "hash": "46d4d6e35a705a453addec98352089b1c875d6193677971858623155cb10eb88"
   }
  }
 },
 "nbformat": 4,
 "nbformat_minor": 2
}
