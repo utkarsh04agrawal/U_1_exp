{
 "cells": [
  {
   "cell_type": "code",
   "execution_count": 1,
   "metadata": {},
   "outputs": [],
   "source": [
    "import numpy as np\n",
    "%matplotlib qt5\n",
    "import matplotlib.pyplot as pl\n",
    "import os\n",
    "import pickle\n"
   ]
  },
  {
   "cell_type": "code",
   "execution_count": 7,
   "metadata": {},
   "outputs": [],
   "source": [
    "\n",
    "def load_data(what_type='nothing_fixed'):\n",
    "    if what_type==\"nothing_fixed\":\n",
    "        filename = 'sep_data/nothing_fixed'\n",
    "    \n",
    "    if not os.path.isfile(filename):\n",
    "        print(\"File does not exist for the case \",what_type)\n",
    "        return\n",
    "    \n",
    "    with open(filename,'rb') as f:\n",
    "        data = pickle.load(f)\n",
    "\n",
    "    return data\n",
    "\n",
    "\n",
    "def plot_success_ent(data,L_list,p_list):\n",
    "    ent = {}\n",
    "    err = {}\n",
    "    for L in L_list[:]:\n",
    "        ent[L] = []\n",
    "        err[L] = []\n",
    "        for p in p_list:\n",
    "            temp = np.array(data[L][p])\n",
    "            print(L,p,\"data_size:\",len(temp))\n",
    "            # ent.append(np.sum(np.array(suc_list)>0.5)/len(suc_list))\n",
    "            ent_list = [(-x*np.log(x) - (1-x)*np.log(1-x)) if 0<x<1 else 0 for x in temp]\n",
    "            ent[L].append(np.average(ent_list))\n",
    "            err[L].append(np.std(ent_list)/(len(ent_list)-1)**0.5)\n",
    "\n",
    "        pl.errorbar(p_list,ent[L],yerr=err[L],ls='-',marker='o',label='L='+str(L))\n",
    "\n",
    "    pl.xlabel(r'$p$',fontsize=16)\n",
    "    pl.ylabel(r'$S_{suc}$',fontsize=16)\n",
    "    pl.legend(fontsize=16)\n",
    "    pl.tight_layout()\n",
    "\n",
    "\n"
   ]
  },
  {
   "cell_type": "code",
   "execution_count": 9,
   "metadata": {},
   "outputs": [
    {
     "name": "stdout",
     "output_type": "stream",
     "text": [
      "8 0.05 data_size: 999\n",
      "8 0.1 data_size: 999\n",
      "8 0.13 data_size: 999\n",
      "8 0.16 data_size: 999\n",
      "8 0.2 data_size: 999\n",
      "8 0.25 data_size: 999\n",
      "8 0.3 data_size: 999\n",
      "10 0.05 data_size: 999\n",
      "10 0.1 data_size: 999\n",
      "10 0.13 data_size: 999\n",
      "10 0.16 data_size: 999\n",
      "10 0.2 data_size: 999\n",
      "10 0.25 data_size: 999\n",
      "10 0.3 data_size: 999\n",
      "12 0.05 data_size: 999\n",
      "12 0.1 data_size: 999\n",
      "12 0.13 data_size: 999\n",
      "12 0.16 data_size: 999\n",
      "12 0.2 data_size: 999\n",
      "12 0.25 data_size: 999\n",
      "12 0.3 data_size: 999\n"
     ]
    }
   ],
   "source": [
    "data = load_data('nothing_fixed')\n",
    "L_list = [8,10,12]\n",
    "p_list = [0.05,0.1,0.13,0.16,0.2,0.25,0.3]\n",
    "plot_success_ent(data,L_list,p_list)"
   ]
  },
  {
   "cell_type": "code",
   "execution_count": null,
   "metadata": {},
   "outputs": [],
   "source": []
  }
 ],
 "metadata": {
  "kernelspec": {
   "display_name": "Python 3.6.4 ('base')",
   "language": "python",
   "name": "python3"
  },
  "language_info": {
   "codemirror_mode": {
    "name": "ipython",
    "version": 3
   },
   "file_extension": ".py",
   "mimetype": "text/x-python",
   "name": "python",
   "nbconvert_exporter": "python",
   "pygments_lexer": "ipython3",
   "version": "3.6.4"
  },
  "orig_nbformat": 4,
  "vscode": {
   "interpreter": {
    "hash": "b3699cc6fdc873b6b3af37c02de6fd0dc24404a0e83ba7afee07ecddd9e3270e"
   }
  }
 },
 "nbformat": 4,
 "nbformat_minor": 2
}
