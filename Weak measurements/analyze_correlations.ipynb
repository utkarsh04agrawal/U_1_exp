{
 "cells": [
  {
   "cell_type": "code",
   "execution_count": 93,
   "metadata": {},
   "outputs": [],
   "source": [
    "import numpy as np\n",
    "%matplotlib qt5\n",
    "import matplotlib.pyplot as pl\n",
    "import os\n",
    "import pickle\n",
    "from scipy.stats import sem as stderr"
   ]
  },
  {
   "cell_type": "code",
   "execution_count": 94,
   "metadata": {},
   "outputs": [],
   "source": [
    "colors = pl.cm.Reds(np.linspace(0.15, 1, 6))"
   ]
  },
  {
   "cell_type": "code",
   "execution_count": 156,
   "metadata": {},
   "outputs": [],
   "source": [
    "root_direc = 'large_cor_data/'\n",
    "root_direc = './'"
   ]
  },
  {
   "cell_type": "code",
   "execution_count": 157,
   "metadata": {},
   "outputs": [],
   "source": [
    "CLASSICAL_ALGO = 'BIASED_SEP'\n",
    "CLASSICAL_ALGO = 'QUANTUM'\n",
    "# CLASSICAL_ALGO = 'SEP'"
   ]
  },
  {
   "cell_type": "code",
   "execution_count": 158,
   "metadata": {},
   "outputs": [],
   "source": [
    "# with open(root_direc + 'correlator_data/ZZ_data_'+CLASSICAL_ALGO,'rb') as f:\n",
    "#     zz_cor_data = pickle.load(f)\n",
    "\n",
    "# with open(root_direc + 'correlator_data/Z_data_'+CLASSICAL_ALGO,'rb') as f:\n",
    "#     z_cor_data = pickle.load(f)\n",
    "\n",
    "with open(root_direc + 'correlator_data/hardware_fluc_data_'+CLASSICAL_ALGO,'rb') as f:\n",
    "    fluc_cor_data = pickle.load(f)"
   ]
  },
  {
   "cell_type": "code",
   "execution_count": 99,
   "metadata": {},
   "outputs": [
    {
     "data": {
      "text/plain": [
       "dict_keys([6, 8, 10, 12, 14])"
      ]
     },
     "execution_count": 99,
     "metadata": {},
     "output_type": "execute_result"
    }
   ],
   "source": [
    "z_cor_data.keys()"
   ]
  },
  {
   "cell_type": "code",
   "execution_count": 100,
   "metadata": {},
   "outputs": [],
   "source": [
    "L_list = [6,8,10,12,14][::1]"
   ]
  },
  {
   "cell_type": "code",
   "execution_count": 159,
   "metadata": {},
   "outputs": [],
   "source": [
    "samples = -1\n",
    "def get_avg_data(L,Q):\n",
    "    data_raw = fluc_cor_data[L]\n",
    "    data_avg = {}\n",
    "    data_err = {}\n",
    "    for x in data_raw:\n",
    "        if x[0] != Q:\n",
    "            continue\n",
    "        p = x[1]\n",
    "        temp = np.array(data_raw[x])\n",
    "        print(temp.shape)\n",
    "        data_avg[p] = np.average(temp[:samples,:],axis=0).reshape((L,L))\n",
    "        print(data_avg[p].shape)\n",
    "        data_err[p] = stderr(temp[:samples,:],axis=0).reshape((L,L))\n",
    "    \n",
    "    return data_avg, data_err\n"
   ]
  },
  {
   "cell_type": "code",
   "execution_count": 160,
   "metadata": {},
   "outputs": [
    {
     "name": "stdout",
     "output_type": "stream",
     "text": [
      "(181, 6, 6)\n",
      "(6, 6)\n",
      "(188, 6, 6)\n",
      "(6, 6)\n",
      "(84, 6, 6)\n",
      "(6, 6)\n",
      "(173, 6, 6)\n",
      "(6, 6)\n",
      "(187, 6, 6)\n",
      "(6, 6)\n",
      "(183, 6, 6)\n",
      "(6, 6)\n",
      "(136, 10, 10)\n",
      "(10, 10)\n",
      "(118, 10, 10)\n",
      "(10, 10)\n",
      "(425, 10, 10)\n",
      "(10, 10)\n",
      "(202, 10, 10)\n",
      "(10, 10)\n",
      "(128, 10, 10)\n",
      "(10, 10)\n",
      "(64, 10, 10)\n",
      "(10, 10)\n",
      "(227, 14, 14)\n",
      "(14, 14)\n",
      "(49, 14, 14)\n",
      "(14, 14)\n",
      "(223, 14, 14)\n",
      "(14, 14)\n",
      "(164, 14, 14)\n",
      "(14, 14)\n",
      "(158, 14, 14)\n",
      "(14, 14)\n"
     ]
    }
   ],
   "source": [
    "avg_data = {}\n",
    "err_data = {}\n",
    "\n",
    "for L in L_list:\n",
    "    Q = L//2\n",
    "    a,b = get_avg_data(L,Q)\n",
    "    avg_data[L] = a\n",
    "    err_data[L] = b\n"
   ]
  },
  {
   "cell_type": "code",
   "execution_count": 161,
   "metadata": {},
   "outputs": [],
   "source": [
    "avg_data_vs_L = {}\n",
    "err_data_vs_L = {}\n",
    "for L in sorted(avg_data.keys()):\n",
    "    xdata = np.array((sorted(avg_data[L].keys())))\n",
    "    ydata = [avg_data[L][p][L//4,(3*L)//4] for p in xdata]\n",
    "    errdata = [err_data[L][p][L//4,(3*L)//4] for p in xdata]\n",
    "    # pl.errorbar(xdata/(np.pi/2),ydata,yerr=errdata,ls='-',marker='o')\n",
    "\n",
    "    for p in xdata:\n",
    "        if p not in avg_data_vs_L:\n",
    "            avg_data_vs_L[p] = {}\n",
    "            err_data_vs_L[p] = {}\n",
    "        avg_data_vs_L[p][L] = avg_data[L][p]\n",
    "        err_data_vs_L[p][L] = err_data[L][p]"
   ]
  },
  {
   "cell_type": "code",
   "execution_count": 162,
   "metadata": {},
   "outputs": [
    {
     "name": "stdout",
     "output_type": "stream",
     "text": [
      "[-1.37216331 -0.20821979 -0.24380803]\n"
     ]
    },
    {
     "ename": "ValueError",
     "evalue": "'yerr' (shape: (5,)) must be a scalar or a 1D or (2, n) array-like whose shape matches 'y' (shape: (3,))",
     "output_type": "error",
     "traceback": [
      "\u001b[0;31m---------------------------------------------------------------------------\u001b[0m",
      "\u001b[0;31mValueError\u001b[0m                                Traceback (most recent call last)",
      "\u001b[1;32m/Users/utkarshagrawal/Documents/Postdoc/U_1_exp/Weak measurements/analyze_correlations.ipynb Cell 11\u001b[0m in \u001b[0;36m<cell line: 5>\u001b[0;34m()\u001b[0m\n\u001b[1;32m      <a href='vscode-notebook-cell:/Users/utkarshagrawal/Documents/Postdoc/U_1_exp/Weak%20measurements/analyze_correlations.ipynb#X10sZmlsZQ%3D%3D?line=8'>9</a>\u001b[0m     errdata[\u001b[39m0\u001b[39m]\u001b[39m=\u001b[39m\u001b[39m0\u001b[39m \u001b[39m#errdata[0] is nan\u001b[39;00m\n\u001b[1;32m     <a href='vscode-notebook-cell:/Users/utkarshagrawal/Documents/Postdoc/U_1_exp/Weak%20measurements/analyze_correlations.ipynb#X10sZmlsZQ%3D%3D?line=9'>10</a>\u001b[0m     \u001b[39mprint\u001b[39m(ydata)\n\u001b[0;32m---> <a href='vscode-notebook-cell:/Users/utkarshagrawal/Documents/Postdoc/U_1_exp/Weak%20measurements/analyze_correlations.ipynb#X10sZmlsZQ%3D%3D?line=10'>11</a>\u001b[0m     pl\u001b[39m.\u001b[39;49merrorbar(xdata,ydata,yerr\u001b[39m=\u001b[39;49m[\u001b[39m0\u001b[39;49m]\u001b[39m*\u001b[39;49m\u001b[39m5\u001b[39;49m,ls\u001b[39m=\u001b[39;49m\u001b[39m'\u001b[39;49m\u001b[39m-\u001b[39;49m\u001b[39m'\u001b[39;49m,marker\u001b[39m=\u001b[39;49m\u001b[39m'\u001b[39;49m\u001b[39mo\u001b[39;49m\u001b[39m'\u001b[39;49m,label\u001b[39m=\u001b[39;49m\u001b[39mr\u001b[39;49m\u001b[39m'\u001b[39;49m\u001b[39m$\u001b[39;49m\u001b[39m\\\u001b[39;49m\u001b[39mgamma$=\u001b[39;49m\u001b[39m{}\u001b[39;49;00m\u001b[39m'\u001b[39;49m\u001b[39m.\u001b[39;49mformat(\u001b[39mround\u001b[39;49m(p\u001b[39m/\u001b[39;49m(np\u001b[39m.\u001b[39;49mpi\u001b[39m/\u001b[39;49m\u001b[39m2\u001b[39;49m),\u001b[39m3\u001b[39;49m)))\n\u001b[1;32m     <a href='vscode-notebook-cell:/Users/utkarshagrawal/Documents/Postdoc/U_1_exp/Weak%20measurements/analyze_correlations.ipynb#X10sZmlsZQ%3D%3D?line=11'>12</a>\u001b[0m pl\u001b[39m.\u001b[39mlegend()\n\u001b[1;32m     <a href='vscode-notebook-cell:/Users/utkarshagrawal/Documents/Postdoc/U_1_exp/Weak%20measurements/analyze_correlations.ipynb#X10sZmlsZQ%3D%3D?line=12'>13</a>\u001b[0m pl\u001b[39m.\u001b[39mylabel(\u001b[39mr\u001b[39m\u001b[39m'\u001b[39m\u001b[39m$\u001b[39m\u001b[39m\\\u001b[39m\u001b[39mlangle Z \u001b[39m\u001b[39m\\\u001b[39m\u001b[39mrangle_Q \u001b[39m\u001b[39m\\\u001b[39m\u001b[39mlangle Z \u001b[39m\u001b[39m\\\u001b[39m\u001b[39mrangle_C$\u001b[39m\u001b[39m'\u001b[39m,fontsize\u001b[39m=\u001b[39m\u001b[39m16\u001b[39m)\n",
      "File \u001b[0;32m~/anaconda3/lib/python3.9/site-packages/matplotlib/pyplot.py:2521\u001b[0m, in \u001b[0;36merrorbar\u001b[0;34m(x, y, yerr, xerr, fmt, ecolor, elinewidth, capsize, barsabove, lolims, uplims, xlolims, xuplims, errorevery, capthick, data, **kwargs)\u001b[0m\n\u001b[1;32m   2515\u001b[0m \u001b[39m@_copy_docstring_and_deprecators\u001b[39m(Axes\u001b[39m.\u001b[39merrorbar)\n\u001b[1;32m   2516\u001b[0m \u001b[39mdef\u001b[39;00m \u001b[39merrorbar\u001b[39m(\n\u001b[1;32m   2517\u001b[0m         x, y, yerr\u001b[39m=\u001b[39m\u001b[39mNone\u001b[39;00m, xerr\u001b[39m=\u001b[39m\u001b[39mNone\u001b[39;00m, fmt\u001b[39m=\u001b[39m\u001b[39m'\u001b[39m\u001b[39m'\u001b[39m, ecolor\u001b[39m=\u001b[39m\u001b[39mNone\u001b[39;00m,\n\u001b[1;32m   2518\u001b[0m         elinewidth\u001b[39m=\u001b[39m\u001b[39mNone\u001b[39;00m, capsize\u001b[39m=\u001b[39m\u001b[39mNone\u001b[39;00m, barsabove\u001b[39m=\u001b[39m\u001b[39mFalse\u001b[39;00m, lolims\u001b[39m=\u001b[39m\u001b[39mFalse\u001b[39;00m,\n\u001b[1;32m   2519\u001b[0m         uplims\u001b[39m=\u001b[39m\u001b[39mFalse\u001b[39;00m, xlolims\u001b[39m=\u001b[39m\u001b[39mFalse\u001b[39;00m, xuplims\u001b[39m=\u001b[39m\u001b[39mFalse\u001b[39;00m, errorevery\u001b[39m=\u001b[39m\u001b[39m1\u001b[39m,\n\u001b[1;32m   2520\u001b[0m         capthick\u001b[39m=\u001b[39m\u001b[39mNone\u001b[39;00m, \u001b[39m*\u001b[39m, data\u001b[39m=\u001b[39m\u001b[39mNone\u001b[39;00m, \u001b[39m*\u001b[39m\u001b[39m*\u001b[39mkwargs):\n\u001b[0;32m-> 2521\u001b[0m     \u001b[39mreturn\u001b[39;00m gca()\u001b[39m.\u001b[39;49merrorbar(\n\u001b[1;32m   2522\u001b[0m         x, y, yerr\u001b[39m=\u001b[39;49myerr, xerr\u001b[39m=\u001b[39;49mxerr, fmt\u001b[39m=\u001b[39;49mfmt, ecolor\u001b[39m=\u001b[39;49mecolor,\n\u001b[1;32m   2523\u001b[0m         elinewidth\u001b[39m=\u001b[39;49melinewidth, capsize\u001b[39m=\u001b[39;49mcapsize, barsabove\u001b[39m=\u001b[39;49mbarsabove,\n\u001b[1;32m   2524\u001b[0m         lolims\u001b[39m=\u001b[39;49mlolims, uplims\u001b[39m=\u001b[39;49muplims, xlolims\u001b[39m=\u001b[39;49mxlolims,\n\u001b[1;32m   2525\u001b[0m         xuplims\u001b[39m=\u001b[39;49mxuplims, errorevery\u001b[39m=\u001b[39;49merrorevery, capthick\u001b[39m=\u001b[39;49mcapthick,\n\u001b[1;32m   2526\u001b[0m         \u001b[39m*\u001b[39;49m\u001b[39m*\u001b[39;49m({\u001b[39m\"\u001b[39;49m\u001b[39mdata\u001b[39;49m\u001b[39m\"\u001b[39;49m: data} \u001b[39mif\u001b[39;49;00m data \u001b[39mis\u001b[39;49;00m \u001b[39mnot\u001b[39;49;00m \u001b[39mNone\u001b[39;49;00m \u001b[39melse\u001b[39;49;00m {}), \u001b[39m*\u001b[39;49m\u001b[39m*\u001b[39;49mkwargs)\n",
      "File \u001b[0;32m~/anaconda3/lib/python3.9/site-packages/matplotlib/__init__.py:1412\u001b[0m, in \u001b[0;36m_preprocess_data.<locals>.inner\u001b[0;34m(ax, data, *args, **kwargs)\u001b[0m\n\u001b[1;32m   1409\u001b[0m \u001b[39m@functools\u001b[39m\u001b[39m.\u001b[39mwraps(func)\n\u001b[1;32m   1410\u001b[0m \u001b[39mdef\u001b[39;00m \u001b[39minner\u001b[39m(ax, \u001b[39m*\u001b[39margs, data\u001b[39m=\u001b[39m\u001b[39mNone\u001b[39;00m, \u001b[39m*\u001b[39m\u001b[39m*\u001b[39mkwargs):\n\u001b[1;32m   1411\u001b[0m     \u001b[39mif\u001b[39;00m data \u001b[39mis\u001b[39;00m \u001b[39mNone\u001b[39;00m:\n\u001b[0;32m-> 1412\u001b[0m         \u001b[39mreturn\u001b[39;00m func(ax, \u001b[39m*\u001b[39;49m\u001b[39mmap\u001b[39;49m(sanitize_sequence, args), \u001b[39m*\u001b[39;49m\u001b[39m*\u001b[39;49mkwargs)\n\u001b[1;32m   1414\u001b[0m     bound \u001b[39m=\u001b[39m new_sig\u001b[39m.\u001b[39mbind(ax, \u001b[39m*\u001b[39margs, \u001b[39m*\u001b[39m\u001b[39m*\u001b[39mkwargs)\n\u001b[1;32m   1415\u001b[0m     auto_label \u001b[39m=\u001b[39m (bound\u001b[39m.\u001b[39marguments\u001b[39m.\u001b[39mget(label_namer)\n\u001b[1;32m   1416\u001b[0m                   \u001b[39mor\u001b[39;00m bound\u001b[39m.\u001b[39mkwargs\u001b[39m.\u001b[39mget(label_namer))\n",
      "File \u001b[0;32m~/anaconda3/lib/python3.9/site-packages/matplotlib/axes/_axes.py:3450\u001b[0m, in \u001b[0;36mAxes.errorbar\u001b[0;34m(self, x, y, yerr, xerr, fmt, ecolor, elinewidth, capsize, barsabove, lolims, uplims, xlolims, xuplims, errorevery, capthick, **kwargs)\u001b[0m\n\u001b[1;32m   3448\u001b[0m     np\u001b[39m.\u001b[39mbroadcast_to(err, (\u001b[39m2\u001b[39m, \u001b[39mlen\u001b[39m(dep)))\n\u001b[1;32m   3449\u001b[0m \u001b[39mexcept\u001b[39;00m \u001b[39mValueError\u001b[39;00m:\n\u001b[0;32m-> 3450\u001b[0m     \u001b[39mraise\u001b[39;00m \u001b[39mValueError\u001b[39;00m(\n\u001b[1;32m   3451\u001b[0m         \u001b[39mf\u001b[39m\u001b[39m\"\u001b[39m\u001b[39m'\u001b[39m\u001b[39m{\u001b[39;00mdep_axis\u001b[39m}\u001b[39;00m\u001b[39merr\u001b[39m\u001b[39m'\u001b[39m\u001b[39m (shape: \u001b[39m\u001b[39m{\u001b[39;00mnp\u001b[39m.\u001b[39mshape(err)\u001b[39m}\u001b[39;00m\u001b[39m) must be a \u001b[39m\u001b[39m\"\u001b[39m\n\u001b[1;32m   3452\u001b[0m         \u001b[39mf\u001b[39m\u001b[39m\"\u001b[39m\u001b[39mscalar or a 1D or (2, n) array-like whose shape matches \u001b[39m\u001b[39m\"\u001b[39m\n\u001b[1;32m   3453\u001b[0m         \u001b[39mf\u001b[39m\u001b[39m\"\u001b[39m\u001b[39m'\u001b[39m\u001b[39m{\u001b[39;00mdep_axis\u001b[39m}\u001b[39;00m\u001b[39m'\u001b[39m\u001b[39m (shape: \u001b[39m\u001b[39m{\u001b[39;00mnp\u001b[39m.\u001b[39mshape(dep)\u001b[39m}\u001b[39;00m\u001b[39m)\u001b[39m\u001b[39m\"\u001b[39m) \u001b[39mfrom\u001b[39;00m \u001b[39mNone\u001b[39m\n\u001b[1;32m   3454\u001b[0m \u001b[39m# This is like\u001b[39;00m\n\u001b[1;32m   3455\u001b[0m \u001b[39m#     elow, ehigh = np.broadcast_to(...)\u001b[39;00m\n\u001b[1;32m   3456\u001b[0m \u001b[39m#     return dep - elow * ~lolims, dep + ehigh * ~uplims\u001b[39;00m\n\u001b[1;32m   3457\u001b[0m \u001b[39m# except that broadcast_to would strip units.\u001b[39;00m\n\u001b[1;32m   3458\u001b[0m low, high \u001b[39m=\u001b[39m dep \u001b[39m+\u001b[39m np\u001b[39m.\u001b[39mrow_stack([\u001b[39m-\u001b[39m(\u001b[39m1\u001b[39m \u001b[39m-\u001b[39m lolims), \u001b[39m1\u001b[39m \u001b[39m-\u001b[39m uplims]) \u001b[39m*\u001b[39m err\n",
      "\u001b[0;31mValueError\u001b[0m: 'yerr' (shape: (5,)) must be a scalar or a 1D or (2, n) array-like whose shape matches 'y' (shape: (3,))"
     ]
    }
   ],
   "source": [
    "# Plot data vs L for fixed |i-j|\n",
    "\n",
    "p_list = list(sorted(avg_data_vs_L.keys()))\n",
    "offset = L//2 # |i-j| value\n",
    "for p in p_list[1::3][:]:\n",
    "    xdata = sorted(avg_data_vs_L[p].keys())\n",
    "    ydata = np.array([np.average(np.diagonal(avg_data_vs_L[p][L],offset=L//2)[L//4:L//4+1]) for L in xdata])\n",
    "    errdata = np.array([np.average(np.diagonal(err_data_vs_L[p][L],offset=L//2)[L//4:L//4+1]) for L in xdata])\n",
    "    errdata[0]=0 #errdata[0] is nan\n",
    "    print(ydata)\n",
    "    pl.errorbar(xdata,ydata,yerr=[0]*5,ls='-',marker='o',label=r'$\\gamma$={}'.format(round(p/(np.pi/2),3)))\n",
    "pl.legend()\n",
    "pl.ylabel(r'$\\langle Z \\rangle_Q \\langle Z \\rangle_C$',fontsize=16)\n",
    "pl.xlabel(r'$L$',fontsize=16)"
   ]
  },
  {
   "cell_type": "code",
   "execution_count": 166,
   "metadata": {},
   "outputs": [
    {
     "name": "stderr",
     "output_type": "stream",
     "text": [
      "qt.qpa.backingstore: Back buffer dpr of 1 doesn't match <_NSViewBackingLayer: 0x4966594f0> contents scale of 2 - updating layer to match.\n",
      "qt.qpa.backingstore: Back buffer dpr of 2 doesn't match <_NSViewBackingLayer: 0x4966594f0> contents scale of 1 - updating layer to match.\n",
      "qt.qpa.backingstore: Back buffer dpr of 1 doesn't match <_NSViewBackingLayer: 0x4966594f0> contents scale of 2 - updating layer to match.\n",
      "qt.qpa.backingstore: Back buffer dpr of 1 doesn't match <_NSViewBackingLayer: 0x4966594f0> contents scale of 2 - updating layer to match.\n",
      "qt.qpa.backingstore: Back buffer dpr of 1 doesn't match <_NSViewBackingLayer: 0x4966594f0> contents scale of 2 - updating layer to match.\n",
      "qt.qpa.backingstore: Back buffer dpr of 1 doesn't match <_NSViewBackingLayer: 0x4966594f0> contents scale of 2 - updating layer to match.\n",
      "qt.qpa.backingstore: Back buffer dpr of 1 doesn't match <_NSViewBackingLayer: 0x4966594f0> contents scale of 2 - updating layer to match.\n",
      "qt.qpa.backingstore: Back buffer dpr of 1 doesn't match <_NSViewBackingLayer: 0x4966594f0> contents scale of 2 - updating layer to match.\n",
      "qt.qpa.backingstore: Back buffer dpr of 1 doesn't match <_NSViewBackingLayer: 0x4966594f0> contents scale of 2 - updating layer to match.\n",
      "qt.qpa.backingstore: Back buffer dpr of 1 doesn't match <_NSViewBackingLayer: 0x4966594f0> contents scale of 2 - updating layer to match.\n",
      "qt.qpa.backingstore: Back buffer dpr of 2 doesn't match <_NSViewBackingLayer: 0x4966594f0> contents scale of 1 - updating layer to match.\n",
      "qt.qpa.backingstore: Back buffer dpr of 1 doesn't match <_NSViewBackingLayer: 0x4966594f0> contents scale of 2 - updating layer to match.\n",
      "qt.qpa.backingstore: Back buffer dpr of 2 doesn't match <_NSViewBackingLayer: 0x4966594f0> contents scale of 1 - updating layer to match.\n",
      "qt.qpa.backingstore: Back buffer dpr of 1 doesn't match <_NSViewBackingLayer: 0x4966594f0> contents scale of 2 - updating layer to match.\n",
      "qt.qpa.backingstore: Back buffer dpr of 1 doesn't match <_NSViewBackingLayer: 0x4966594f0> contents scale of 2 - updating layer to match.\n",
      "qt.qpa.backingstore: Back buffer dpr of 1 doesn't match <_NSViewBackingLayer: 0x4966594f0> contents scale of 2 - updating layer to match.\n",
      "qt.qpa.backingstore: Back buffer dpr of 1 doesn't match <_NSViewBackingLayer: 0x4966594f0> contents scale of 2 - updating layer to match.\n",
      "qt.qpa.backingstore: Back buffer dpr of 1 doesn't match <_NSViewBackingLayer: 0x4966594f0> contents scale of 2 - updating layer to match.\n",
      "qt.qpa.backingstore: Back buffer dpr of 1 doesn't match <_NSViewBackingLayer: 0x4966594f0> contents scale of 2 - updating layer to match.\n",
      "qt.qpa.backingstore: Back buffer dpr of 2 doesn't match <_NSViewBackingLayer: 0x4966594f0> contents scale of 1 - updating layer to match.\n",
      "qt.qpa.backingstore: Back buffer dpr of 1 doesn't match <_NSViewBackingLayer: 0x4966594f0> contents scale of 2 - updating layer to match.\n",
      "qt.qpa.backingstore: Back buffer dpr of 2 doesn't match <_NSViewBackingLayer: 0x4966594f0> contents scale of 1 - updating layer to match.\n",
      "qt.qpa.backingstore: Back buffer dpr of 1 doesn't match <_NSViewBackingLayer: 0x4966594f0> contents scale of 2 - updating layer to match.\n",
      "qt.qpa.backingstore: Back buffer dpr of 1 doesn't match <_NSViewBackingLayer: 0x4966594f0> contents scale of 2 - updating layer to match.\n",
      "qt.qpa.backingstore: Back buffer dpr of 1 doesn't match <_NSViewBackingLayer: 0x4966594f0> contents scale of 2 - updating layer to match.\n",
      "qt.qpa.backingstore: Back buffer dpr of 1 doesn't match <_NSViewBackingLayer: 0x4966594f0> contents scale of 2 - updating layer to match.\n",
      "qt.qpa.backingstore: Back buffer dpr of 1 doesn't match <_NSViewBackingLayer: 0x4966594f0> contents scale of 2 - updating layer to match.\n",
      "qt.qpa.backingstore: Back buffer dpr of 1 doesn't match <_NSViewBackingLayer: 0x4966594f0> contents scale of 2 - updating layer to match.\n",
      "qt.qpa.backingstore: Back buffer dpr of 2 doesn't match <_NSViewBackingLayer: 0x4966594f0> contents scale of 1 - updating layer to match.\n",
      "qt.qpa.backingstore: Back buffer dpr of 1 doesn't match <_NSViewBackingLayer: 0x4966594f0> contents scale of 2 - updating layer to match.\n"
     ]
    }
   ],
   "source": [
    "# Plot data vs |i-j| for fixed L\n",
    "\n",
    "p_list = list(sorted(avg_data_vs_L.keys()))\n",
    "L_fixed = 14\n",
    "dist_from_boundary = 0\n",
    "for i,p in enumerate(p_list[1::][:]):\n",
    "    xdata = np.arange(1,L_fixed-2*dist_from_boundary,1)\n",
    "    ydata = -np.array([np.average(np.diagonal(avg_data_vs_L[p][L_fixed],offset=i)[:1]) for i in xdata])\n",
    "    errdata = np.array([np.average(np.diagonal(err_data_vs_L[p][L_fixed],offset=i)[:1]) for i in xdata])\n",
    "    pl.errorbar(xdata,ydata,yerr=errdata,ls='-',marker='o',color=colors[i],label=r'$\\gamma={}$'.format(round(p/(np.pi/2),3)))\n",
    "\n",
    "pl.legend()\n",
    "pl.title(r'$L={}$'.format(L_fixed),fontsize=14)\n",
    "pl.ylabel(r'$\\langle Z_i^Q - Z_i^C \\rangle \\langle Z_{i+x}^Q - Z_{i+x}^C \\rangle$',fontsize=16)\n",
    "pl.xlabel(r'$x$',fontsize=16)\n",
    "pl.xticks(pl.xticks()[0],fontsize=14)\n",
    "pl.yticks(pl.yticks()[0],fontsize=14)\n",
    "pl.tight_layout()"
   ]
  },
  {
   "cell_type": "code",
   "execution_count": 88,
   "metadata": {},
   "outputs": [
    {
     "data": {
      "text/plain": [
       "array([[1, 2, 3],\n",
       "       [2, 4, 6],\n",
       "       [3, 6, 9]])"
      ]
     },
     "execution_count": 88,
     "metadata": {},
     "output_type": "execute_result"
    },
    {
     "name": "stderr",
     "output_type": "stream",
     "text": [
      "qt.qpa.backingstore: Back buffer dpr of 1 doesn't match <_NSViewBackingLayer: 0x10731bc20> contents scale of 2 - updating layer to match.\n",
      "qt.qpa.backingstore: Back buffer dpr of 2 doesn't match <_NSViewBackingLayer: 0x10731bc20> contents scale of 1 - updating layer to match.\n",
      "qt.qpa.backingstore: Back buffer dpr of 1 doesn't match <_NSViewBackingLayer: 0x10731bc20> contents scale of 2 - updating layer to match.\n"
     ]
    }
   ],
   "source": [
    "aa = np.array([1,2,3])\n",
    "bb = np.array([4,5,6])\n",
    "np.kron(aa,aa).reshape((3,3))"
   ]
  },
  {
   "cell_type": "code",
   "execution_count": null,
   "metadata": {},
   "outputs": [],
   "source": []
  }
 ],
 "metadata": {
  "kernelspec": {
   "display_name": "Python 3.9.13 ('base')",
   "language": "python",
   "name": "python3"
  },
  "language_info": {
   "codemirror_mode": {
    "name": "ipython",
    "version": 3
   },
   "file_extension": ".py",
   "mimetype": "text/x-python",
   "name": "python",
   "nbconvert_exporter": "python",
   "pygments_lexer": "ipython3",
   "version": "3.9.13"
  },
  "orig_nbformat": 4,
  "vscode": {
   "interpreter": {
    "hash": "46d4d6e35a705a453addec98352089b1c875d6193677971858623155cb10eb88"
   }
  }
 },
 "nbformat": 4,
 "nbformat_minor": 2
}
