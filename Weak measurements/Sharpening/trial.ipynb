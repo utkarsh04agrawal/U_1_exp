{
 "cells": [
  {
   "cell_type": "code",
   "execution_count": 37,
   "metadata": {},
   "outputs": [],
   "source": [
    "import numpy as np\n",
    "import os\n",
    "import pickle\n",
    "import matplotlib.pyplot as pl"
   ]
  },
  {
   "cell_type": "code",
   "execution_count": 15,
   "metadata": {},
   "outputs": [],
   "source": [
    "file_loc = 'data/qiskit_data/measurement_data_all_qubits_normal/L=6_depth=6_Q=3_p=0.412_seed=1'\n",
    "with open(file_loc,'rb') as f:\n",
    "    a,b,c,d = pickle.load(f)"
   ]
  },
  {
   "cell_type": "code",
   "execution_count": 44,
   "metadata": {},
   "outputs": [
    {
     "data": {
      "text/plain": [
       "4"
      ]
     },
     "execution_count": 44,
     "metadata": {},
     "output_type": "execute_result"
    }
   ],
   "source": [
    "aa=list(range(0,10,1))\n",
    "aa.index(4)"
   ]
  },
  {
   "cell_type": "code",
   "execution_count": 67,
   "metadata": {},
   "outputs": [],
   "source": [
    "def get_p(filename):\n",
    "    index = filename.index('p=')\n",
    "    temp = filename[index+2:index+7]\n",
    "    while \"_\" in temp:\n",
    "        temp = temp[:-1]\n",
    "    \n",
    "    return float(temp)\n",
    "\n",
    "def get_Q(filename):\n",
    "    index = filename.index('Q')\n",
    "    temp = filename[index+2:index+4]\n",
    "    if temp[-1]==\"_\":\n",
    "        temp = temp[:-1]\n",
    "    return int(temp)\n",
    "\n",
    "def get_L(filename):\n",
    "    temp = filename[2:4]\n",
    "    if temp[-1]==\"_\":\n",
    "        temp = temp[:-1]\n",
    "    return int(temp)\n",
    "\n",
    "def get_depth(filename):\n",
    "    index = filename.index('h=')\n",
    "    temp = filename[index+2:index+5]\n",
    "    while \"_\" in temp:\n",
    "        temp = temp[:-1]\n",
    "    return int(temp)"
   ]
  },
  {
   "cell_type": "code",
   "execution_count": 84,
   "metadata": {},
   "outputs": [],
   "source": [
    "directory = 'data/qiskit_data/measurement_data_all_qubits_normal_depth_ratio=4/'\n",
    "ent_dic = {}\n",
    "for file in os.listdir(directory):\n",
    "    Q = get_Q(file)\n",
    "    L = get_L(file)\n",
    "    p = get_p(file)\n",
    "    if Q!=L//2:\n",
    "        continue\n",
    "    if L not in ent_dic:\n",
    "        ent_dic[L] = {}\n",
    "\n",
    "    with open(directory + file,'rb') as f:\n",
    "        ent_data,_,_,_ = pickle.load(f)\n",
    "        ent_dic[L][p] = np.array(ent_data)\n",
    "\n",
    "\n",
    "    "
   ]
  },
  {
   "cell_type": "code",
   "execution_count": 107,
   "metadata": {},
   "outputs": [
    {
     "name": "stdout",
     "output_type": "stream",
     "text": [
      "0.12732395447351627\n",
      "0.1610648024089981\n",
      "0.19480565034447989\n",
      "0.2285464982799617\n",
      "0.26228734621544353\n",
      "0.29602819415092535\n",
      "0.32976904208640717\n",
      "0.36350989002188894\n",
      "0.39725073795737076\n",
      "0.43099158589285264\n",
      "0.4647324338283344\n",
      "0.4984732817638162\n",
      "0.532214129699298\n",
      "0.5659549776347799\n",
      "0.5996958255702616\n",
      "0.12732395447351627\n",
      "0.1610648024089981\n",
      "0.19480565034447989\n",
      "0.2285464982799617\n",
      "0.26228734621544353\n",
      "0.29602819415092535\n",
      "0.32976904208640717\n",
      "0.36350989002188894\n",
      "0.39725073795737076\n",
      "0.43099158589285264\n",
      "0.4647324338283344\n",
      "0.4984732817638162\n",
      "0.532214129699298\n",
      "0.5659549776347799\n",
      "0.5996958255702616\n",
      "0.12732395447351627\n",
      "0.1610648024089981\n",
      "0.19480565034447989\n",
      "0.2285464982799617\n",
      "0.26228734621544353\n",
      "0.29602819415092535\n",
      "0.32976904208640717\n",
      "0.36350989002188894\n",
      "0.39725073795737076\n",
      "0.43099158589285264\n",
      "0.4647324338283344\n",
      "0.4984732817638162\n",
      "0.532214129699298\n",
      "0.5659549776347799\n",
      "0.5996958255702616\n",
      "0.12732395447351627\n",
      "0.1610648024089981\n",
      "0.19480565034447989\n",
      "0.2285464982799617\n",
      "0.26228734621544353\n",
      "0.29602819415092535\n",
      "0.32976904208640717\n",
      "0.36350989002188894\n",
      "0.39725073795737076\n",
      "0.43099158589285264\n",
      "0.4647324338283344\n",
      "0.4984732817638162\n",
      "0.532214129699298\n",
      "0.5659549776347799\n",
      "0.5996958255702616\n"
     ]
    }
   ],
   "source": [
    "%matplotlib qt5\n",
    "L_list = np.array(sorted(list(ent_dic.keys())))\n",
    "for L in L_list:\n",
    "    p_list = np.array(sorted(list(ent_dic[L].keys())))\n",
    "    ent_data = []\n",
    "    err_data = []\n",
    "    for p in p_list[:]:\n",
    "        print(2*p/np.pi)\n",
    "        avg_t = np.average(ent_dic[L][p],axis=0)[:-1]\n",
    "        ent_data.append(avg_t[-1])\n",
    "        x_data = np.arange(0,len(avg_t),1)/L\n",
    "        err = np.std(ent_dic[L][p],axis=0)[:-1]/ent_dic[L][p].shape[0]**0.5\n",
    "        err_data.append(err[-1])\n",
    "        # pl.errorbar(x_data, avg_t, yerr=err, marker='o', ls = '-' )\n",
    "    pl.errorbar(2*p_list/np.pi,ent_data,yerr=err_data,marker='o',ls='-')\n",
    "pl.yscale('log')"
   ]
  },
  {
   "cell_type": "code",
   "execution_count": null,
   "metadata": {},
   "outputs": [],
   "source": []
  }
 ],
 "metadata": {
  "kernelspec": {
   "display_name": "Python 3.9.13 ('base')",
   "language": "python",
   "name": "python3"
  },
  "language_info": {
   "codemirror_mode": {
    "name": "ipython",
    "version": 3
   },
   "file_extension": ".py",
   "mimetype": "text/x-python",
   "name": "python",
   "nbconvert_exporter": "python",
   "pygments_lexer": "ipython3",
   "version": "3.9.13"
  },
  "orig_nbformat": 4,
  "vscode": {
   "interpreter": {
    "hash": "46d4d6e35a705a453addec98352089b1c875d6193677971858623155cb10eb88"
   }
  }
 },
 "nbformat": 4,
 "nbformat_minor": 2
}
