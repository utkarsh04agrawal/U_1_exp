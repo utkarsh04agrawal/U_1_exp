{
 "cells": [
  {
   "cell_type": "code",
   "execution_count": 1,
   "metadata": {},
   "outputs": [],
   "source": [
    "import numpy as np\n",
    "%matplotlib qt5\n",
    "import matplotlib.pyplot as pl\n",
    "import os\n",
    "import pickle\n"
   ]
  },
  {
   "cell_type": "code",
   "execution_count": 2,
   "metadata": {},
   "outputs": [],
   "source": [
    "\n",
    "def load_data(filename='nothing_fixed'):\n",
    "\n",
    "    with open(filename,'rb') as f:\n",
    "        data = pickle.load(f)\n",
    "\n",
    "    return data\n",
    "\n",
    "\n",
    "def plot_success_ent(data,L_list,charge_fac = 0,N_samples=-1,marker='o'):\n",
    "    ent = {}\n",
    "    err = {}\n",
    "    for L in L_list[:]:\n",
    "        ent[L] = []\n",
    "        err[L] = []\n",
    "        p_list = list(data[L].keys())\n",
    "        for p in p_list:\n",
    "            tempQ = list(data[L][p][L//2])[:N_samples]\n",
    "            tempQ2 = list(data[L][p][L//2-1])[:N_samples]\n",
    "            print(\"L=\",L,\"p=\",p,\"data_size:\",len(tempQ),len(tempQ2))\n",
    "            # ent.append(np.sum(np.array(suc_list)>0.5)/len(suc_list))\n",
    "            ent_list = [(-x*np.log(x) - (1-x)*np.log(1-x)) if 0<x<1 else 0 for x in tempQ2+tempQ]\n",
    "            ent[L].append(np.average(ent_list))\n",
    "            err[L].append(np.std(ent_list)/(len(ent_list)-1)**0.5)\n",
    "\n",
    "        pl.errorbar(p_list,ent[L],yerr=err[L],ls='-',marker=marker,label='L='+str(L))\n",
    "\n",
    "    pl.xlabel(r'$p$',fontsize=16)\n",
    "    pl.ylabel(r'$S_{suc}$',fontsize=16)\n",
    "    pl.legend(fontsize=16)\n",
    "    pl.tight_layout()\n",
    "\n",
    "\n"
   ]
  },
  {
   "cell_type": "code",
   "execution_count": 21,
   "metadata": {},
   "outputs": [
    {
     "name": "stdout",
     "output_type": "stream",
     "text": [
      "L= 6 p= 0.05 data_size: 1999 1999\n",
      "L= 6 p= 0.1 data_size: 1999 1999\n",
      "L= 6 p= 0.13 data_size: 1999 1999\n",
      "L= 6 p= 0.16 data_size: 1999 1999\n",
      "L= 6 p= 0.2 data_size: 1999 1999\n",
      "L= 6 p= 0.25 data_size: 1999 1999\n",
      "L= 6 p= 0.3 data_size: 1999 1999\n",
      "L= 6 p= 0.4 data_size: 1999 1999\n",
      "L= 8 p= 0.05 data_size: 1999 1999\n",
      "L= 8 p= 0.1 data_size: 1999 1999\n",
      "L= 8 p= 0.13 data_size: 1999 1999\n",
      "L= 8 p= 0.16 data_size: 1999 1999\n",
      "L= 8 p= 0.2 data_size: 1999 1999\n",
      "L= 8 p= 0.25 data_size: 1999 1999\n",
      "L= 8 p= 0.3 data_size: 1999 1999\n",
      "L= 8 p= 0.4 data_size: 1999 1999\n",
      "L= 10 p= 0.05 data_size: 1999 1999\n",
      "L= 10 p= 0.1 data_size: 1999 1999\n",
      "L= 10 p= 0.13 data_size: 1999 1999\n",
      "L= 10 p= 0.16 data_size: 1999 1999\n",
      "L= 10 p= 0.2 data_size: 1999 1999\n",
      "L= 10 p= 0.25 data_size: 1999 1999\n",
      "L= 10 p= 0.3 data_size: 1999 1999\n",
      "L= 10 p= 0.4 data_size: 1999 1999\n",
      "L= 12 p= 0.05 data_size: 1999 1999\n",
      "L= 12 p= 0.1 data_size: 1999 1999\n",
      "L= 12 p= 0.13 data_size: 1999 1999\n",
      "L= 12 p= 0.16 data_size: 1999 1999\n",
      "L= 12 p= 0.2 data_size: 1999 1999\n",
      "L= 12 p= 0.25 data_size: 1999 1999\n",
      "L= 12 p= 0.3 data_size: 1999 1999\n",
      "L= 12 p= 0.4 data_size: 1999 1999\n",
      "L= 14 p= 0.05 data_size: 1999 1999\n",
      "L= 14 p= 0.1 data_size: 1999 1999\n",
      "L= 14 p= 0.13 data_size: 1999 1999\n",
      "L= 14 p= 0.16 data_size: 1999 1999\n",
      "L= 14 p= 0.2 data_size: 1999 1999\n",
      "L= 14 p= 0.25 data_size: 1999 1999\n",
      "L= 14 p= 0.3 data_size: 1999 1999\n",
      "L= 14 p= 0.4 data_size: 1999 1999\n"
     ]
    },
    {
     "name": "stderr",
     "output_type": "stream",
     "text": [
      "qt.qpa.backingstore: Back buffer dpr of 1 doesn't match <_NSViewBackingLayer: 0x289f7a650> contents scale of 2 - updating layer to match.\n",
      "qt.qpa.backingstore: Back buffer dpr of 1 doesn't match <_NSViewBackingLayer: 0x289f7a650> contents scale of 2 - updating layer to match.\n",
      "qt.qpa.backingstore: Back buffer dpr of 2 doesn't match <_NSViewBackingLayer: 0x289f7a650> contents scale of 1 - updating layer to match.\n",
      "qt.qpa.backingstore: Back buffer dpr of 1 doesn't match <_NSViewBackingLayer: 0x289f7a650> contents scale of 2 - updating layer to match.\n",
      "qt.qpa.backingstore: Back buffer dpr of 2 doesn't match <_NSViewBackingLayer: 0x289f7a650> contents scale of 1 - updating layer to match.\n",
      "qt.qpa.backingstore: Back buffer dpr of 1 doesn't match <_NSViewBackingLayer: 0x289f7a650> contents scale of 2 - updating layer to match.\n",
      "qt.qpa.backingstore: Back buffer dpr of 2 doesn't match <_NSViewBackingLayer: 0x289f7a650> contents scale of 1 - updating layer to match.\n",
      "qt.qpa.backingstore: Back buffer dpr of 1 doesn't match <_NSViewBackingLayer: 0x289f7a650> contents scale of 2 - updating layer to match.\n",
      "qt.qpa.backingstore: Back buffer dpr of 1 doesn't match <_NSViewBackingLayer: 0x289f7a650> contents scale of 2 - updating layer to match.\n",
      "qt.qpa.backingstore: Back buffer dpr of 2 doesn't match <_NSViewBackingLayer: 0x289f7a650> contents scale of 1 - updating layer to match.\n",
      "qt.qpa.backingstore: Back buffer dpr of 1 doesn't match <_NSViewBackingLayer: 0x289f7a650> contents scale of 2 - updating layer to match.\n",
      "qt.qpa.backingstore: Back buffer dpr of 1 doesn't match <_NSViewBackingLayer: 0x289f7a650> contents scale of 2 - updating layer to match.\n",
      "qt.qpa.backingstore: Back buffer dpr of 2 doesn't match <_NSViewBackingLayer: 0x289f7a650> contents scale of 1 - updating layer to match.\n",
      "qt.qpa.backingstore: Back buffer dpr of 2 doesn't match <_NSViewBackingLayer: 0x289f7a650> contents scale of 1 - updating layer to match.\n",
      "qt.qpa.backingstore: Back buffer dpr of 2 doesn't match <_NSViewBackingLayer: 0x289f7a650> contents scale of 1 - updating layer to match.\n",
      "qt.qpa.backingstore: Back buffer dpr of 1 doesn't match <_NSViewBackingLayer: 0x289f7a650> contents scale of 2 - updating layer to match.\n",
      "qt.qpa.backingstore: Back buffer dpr of 1 doesn't match <_NSViewBackingLayer: 0x289f7a650> contents scale of 2 - updating layer to match.\n",
      "qt.qpa.backingstore: Back buffer dpr of 2 doesn't match <_NSViewBackingLayer: 0x289f7a650> contents scale of 1 - updating layer to match.\n",
      "qt.qpa.backingstore: Back buffer dpr of 2 doesn't match <_NSViewBackingLayer: 0x289f7a650> contents scale of 1 - updating layer to match.\n",
      "qt.qpa.backingstore: Back buffer dpr of 1 doesn't match <_NSViewBackingLayer: 0x289f7a650> contents scale of 2 - updating layer to match.\n",
      "qt.qpa.backingstore: Back buffer dpr of 1 doesn't match <_NSViewBackingLayer: 0x289f7a650> contents scale of 2 - updating layer to match.\n",
      "qt.qpa.backingstore: Back buffer dpr of 2 doesn't match <_NSViewBackingLayer: 0x289f7a650> contents scale of 1 - updating layer to match.\n",
      "qt.qpa.backingstore: Back buffer dpr of 2 doesn't match <_NSViewBackingLayer: 0x289f7a650> contents scale of 1 - updating layer to match.\n",
      "qt.qpa.backingstore: Back buffer dpr of 1 doesn't match <_NSViewBackingLayer: 0x289f7a650> contents scale of 2 - updating layer to match.\n",
      "qt.qpa.backingstore: Back buffer dpr of 1 doesn't match <_NSViewBackingLayer: 0x289f7a650> contents scale of 2 - updating layer to match.\n",
      "qt.qpa.backingstore: Back buffer dpr of 1 doesn't match <_NSViewBackingLayer: 0x289f7a650> contents scale of 2 - updating layer to match.\n",
      "qt.qpa.backingstore: Back buffer dpr of 1 doesn't match <_NSViewBackingLayer: 0x289f7a650> contents scale of 2 - updating layer to match.\n",
      "qt.qpa.backingstore: Back buffer dpr of 1 doesn't match <_NSViewBackingLayer: 0x289f7a650> contents scale of 2 - updating layer to match.\n",
      "qt.qpa.backingstore: Back buffer dpr of 1 doesn't match <_NSViewBackingLayer: 0x289f7a650> contents scale of 2 - updating layer to match.\n",
      "qt.qpa.backingstore: Back buffer dpr of 1 doesn't match <_NSViewBackingLayer: 0x289f7a650> contents scale of 2 - updating layer to match.\n",
      "qt.qpa.backingstore: Back buffer dpr of 1 doesn't match <_NSViewBackingLayer: 0x289f7a650> contents scale of 2 - updating layer to match.\n"
     ]
    }
   ],
   "source": [
    "%matplotlib qt\n",
    "pl.figure(1)\n",
    "# data = load_data('sep_data/nothing_fixed',depth_ratio=1)\n",
    "# L_list = [8,10]\n",
    "# print(data[8][0.3].keys())\n",
    "# plot_success_ent(data,L_list,N_samples=-1)\n",
    "\n",
    "# data = load_data('sep_data/nothing_fixed_depth_ratio_2',depth_ratio=2)\n",
    "# L_list = [8,10,12,14]\n",
    "# plot_success_ent(data,L_list,N_samples=-1)\n",
    "\n",
    "# data=load_data('U_1_data_Fergus/sep_data',depth_ratio=1)\n",
    "# L_list = [8,10,12]\n",
    "# plot_success_ent(data,L_list,charge_fac=1,marker='s')\n",
    "\n",
    "data=load_data('sep_data/seed=2_fixed_scrambled')\n",
    "L_list = [6,8,10,12,14]\n",
    "plot_success_ent(data,L_list,charge_fac=0,marker='s')"
   ]
  },
  {
   "cell_type": "code",
   "execution_count": 21,
   "metadata": {},
   "outputs": [],
   "source": [
    "# Function to ensure that p_suc for initial states with charge Q has non-zero probabilities\n",
    "def sanity_check(data,L_list,p_list):\n",
    "    for L in L_list[:]:\n",
    "        for p in p_list:\n",
    "            p_Q = list(data[L][p][L//2])\n",
    "            p_Q2 = list(data[L][p][L//2-1])\n",
    "            if np.any(p_Q==0) or np.any(p_Q2==0):\n",
    "                print(\"There are some zero probabilities\")\n",
    "            else:\n",
    "                print(\"L =\",L,\"p =\",p,\"Sanity check complete; no zero probabilities\")"
   ]
  },
  {
   "cell_type": "code",
   "execution_count": 10,
   "metadata": {},
   "outputs": [
    {
     "name": "stdout",
     "output_type": "stream",
     "text": [
      "L = 8 p = 0.05 Sanity check complete; no zero probabilities\n",
      "L = 8 p = 0.1 Sanity check complete; no zero probabilities\n",
      "L = 8 p = 0.13 Sanity check complete; no zero probabilities\n",
      "L = 8 p = 0.16 Sanity check complete; no zero probabilities\n",
      "L = 8 p = 0.2 Sanity check complete; no zero probabilities\n",
      "L = 8 p = 0.25 Sanity check complete; no zero probabilities\n",
      "L = 8 p = 0.3 Sanity check complete; no zero probabilities\n",
      "L = 10 p = 0.05 Sanity check complete; no zero probabilities\n",
      "L = 10 p = 0.1 Sanity check complete; no zero probabilities\n",
      "L = 10 p = 0.13 Sanity check complete; no zero probabilities\n",
      "L = 10 p = 0.16 Sanity check complete; no zero probabilities\n",
      "L = 10 p = 0.2 Sanity check complete; no zero probabilities\n",
      "L = 10 p = 0.25 Sanity check complete; no zero probabilities\n",
      "L = 10 p = 0.3 Sanity check complete; no zero probabilities\n",
      "L = 12 p = 0.05 Sanity check complete; no zero probabilities\n",
      "L = 12 p = 0.1 Sanity check complete; no zero probabilities\n",
      "L = 12 p = 0.13 Sanity check complete; no zero probabilities\n",
      "L = 12 p = 0.16 Sanity check complete; no zero probabilities\n",
      "L = 12 p = 0.2 Sanity check complete; no zero probabilities\n",
      "L = 12 p = 0.25 Sanity check complete; no zero probabilities\n",
      "L = 12 p = 0.3 Sanity check complete; no zero probabilities\n"
     ]
    }
   ],
   "source": [
    "sanity_check(data,L_list,p_list)"
   ]
  },
  {
   "cell_type": "code",
   "execution_count": null,
   "metadata": {},
   "outputs": [],
   "source": []
  }
 ],
 "metadata": {
  "kernelspec": {
   "display_name": "Python 3.9.13 ('base')",
   "language": "python",
   "name": "python3"
  },
  "language_info": {
   "codemirror_mode": {
    "name": "ipython",
    "version": 3
   },
   "file_extension": ".py",
   "mimetype": "text/x-python",
   "name": "python",
   "nbconvert_exporter": "python",
   "pygments_lexer": "ipython3",
   "version": "3.9.13"
  },
  "orig_nbformat": 4,
  "vscode": {
   "interpreter": {
    "hash": "46d4d6e35a705a453addec98352089b1c875d6193677971858623155cb10eb88"
   }
  }
 },
 "nbformat": 4,
 "nbformat_minor": 2
}
